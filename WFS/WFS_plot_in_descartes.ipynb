{
 "metadata": {
  "name": "",
  "signature": "sha256:5b61faaf5a1ea6dbb458173571ddce87b7a0ca3ceba19d51b3999e48b9904012"
 },
 "nbformat": 3,
 "nbformat_minor": 0,
 "worksheets": [
  {
   "cells": [
    {
     "cell_type": "markdown",
     "metadata": {},
     "source": [
      "# Read WFS data from USGS ScienceBase into Shapely"
     ]
    },
    {
     "cell_type": "code",
     "collapsed": false,
     "input": [
      "import requests\n",
      "import json\n",
      "from shapely.geometry import Polygon\n",
      "from descartes import PolygonPatch"
     ],
     "language": "python",
     "metadata": {},
     "outputs": [],
     "prompt_number": 1
    },
    {
     "cell_type": "code",
     "collapsed": false,
     "input": [
      "# Read shapefile data from USGS ScienceBase WFS 1.0 service in JSON format\n",
      "# (shapefile was previosly uploaded to ScienceBase, creating the WFS service)\n",
      "url = ('https://www.sciencebase.gov/catalogMaps/mapping/ows/53398e51e4b0db25ad10d288?'\n",
      "'service=wfs&version=1.0.0&request=GetFeature&'\n",
      "'typeNames=sb:Project_Area&outputFormat=application/json')\n",
      "resp = requests.get(url)\n",
      "data = json.loads(resp.text)"
     ],
     "language": "python",
     "metadata": {},
     "outputs": [],
     "prompt_number": 2
    },
    {
     "cell_type": "code",
     "collapsed": false,
     "input": [
      "print data"
     ],
     "language": "python",
     "metadata": {},
     "outputs": [
      {
       "output_type": "stream",
       "stream": "stdout",
       "text": [
        "{u'type': u'FeatureCollection', u'features': [{u'geometry': {u'type': u'MultiPolygon', u'coordinates': [[[[559501.5991923176, 254222.22111433744], [551009.4896312356, 242024.4637447819], [547072.238834735, 241059.45129466802], [546531.8318626732, 239515.43137446046], [547419.6433167756, 234420.1656378135], [541513.7671220265, 224306.8351605311], [538769.4260442778, 225640.16826280206], [537753.9839519188, 227851.86409860104], [537651.4051570185, 234116.65830690414], [537576.5163255259, 240519.044322595], [539390.7397317551, 243028.07669291645], [545952.8243925907, 244494.89561710507], [557185.5693120286, 255534.63804651052], [559501.5991923176, 254222.22111433744]]]]}, u'properties': {u'Id': 0}, u'type': u'Feature', u'id': u'Project_Area.1', u'geometry_name': u'the_geom'}]}\n"
       ]
      }
     ],
     "prompt_number": 3
    },
    {
     "cell_type": "code",
     "collapsed": false,
     "input": [
      "print data['type']"
     ],
     "language": "python",
     "metadata": {},
     "outputs": [
      {
       "output_type": "stream",
       "stream": "stdout",
       "text": [
        "FeatureCollection\n"
       ]
      }
     ],
     "prompt_number": 4
    },
    {
     "cell_type": "code",
     "collapsed": false,
     "input": [
      "# create Shapely polgon object:\n",
      "polygon = Polygon(data['features'][0]['geometry']['coordinates'][0][0])"
     ],
     "language": "python",
     "metadata": {},
     "outputs": [],
     "prompt_number": 5
    },
    {
     "cell_type": "code",
     "collapsed": false,
     "input": [
      "polygon.area"
     ],
     "language": "python",
     "metadata": {},
     "outputs": [
      {
       "metadata": {},
       "output_type": "pyout",
       "prompt_number": 6,
       "text": [
        "215590314.3681148"
       ]
      }
     ],
     "prompt_number": 6
    },
    {
     "cell_type": "code",
     "collapsed": false,
     "input": [
      "fig = figure(figsize(8,8))\n",
      "ax = fig.add_subplot(111)\n",
      "BLUE = '#6699cc'\n",
      "GRAY = '#999999'\n",
      "patch1 = PolygonPatch(polygon, fc=BLUE, ec=GRAY, alpha=0.5)\n",
      "ax.add_patch(patch1)\n",
      "ax.set_ylim(2.2e5,2.6e5)\n",
      "ax.set_xlim(5.3e5,5.6e5)\n",
      "ax.set_aspect(1)"
     ],
     "language": "python",
     "metadata": {},
     "outputs": [
      {
       "metadata": {},
       "output_type": "display_data",
       "png": "[encoded data removed]",
       "text": [
        "<matplotlib.figure.Figure at 0x455b0d0>"
       ]
      }
     ],
     "prompt_number": 7
    },
    {
     "cell_type": "code",
     "collapsed": false,
     "input": [],
     "language": "python",
     "metadata": {},
     "outputs": [],
     "prompt_number": 7
    }
   ],
   "metadata": {}
  }
 ]
}