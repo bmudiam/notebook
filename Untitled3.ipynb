{
 "metadata": {
  "name": "",
  "signature": "sha256:d4944a67327a4128cb81f19ce30fbf822f007b877405911a8cc3c7411201fb83"
 },
 "nbformat": 3,
 "nbformat_minor": 0,
 "worksheets": [
  {
   "cells": [
    {
     "cell_type": "code",
     "collapsed": false,
     "input": [
      "import netCDF4"
     ],
     "language": "python",
     "metadata": {},
     "outputs": [],
     "prompt_number": 2
    },
    {
     "cell_type": "code",
     "collapsed": false,
     "input": [
      "root='http://disc2.nascom.nasa.gov:80/opendap/TRMM_L3//TRMM_3B42_daily/1999/%3.3d/3B42_daily.1999.01.%2.2d.7.bin'"
     ],
     "language": "python",
     "metadata": {},
     "outputs": [],
     "prompt_number": 6
    },
    {
     "cell_type": "code",
     "collapsed": false,
     "input": [
      "files = [root % (d-1,d) for d in range(3, 5)]\n",
      "nc = netCDF4.MFDataset(files)"
     ],
     "language": "python",
     "metadata": {},
     "outputs": [
      {
       "ename": "IOError",
       "evalue": "master dataset http://disc2.nascom.nasa.gov:80/opendap/TRMM_L3//TRMM_3B42_daily/1999/002/3B42_daily.1999.01.03.7.bin does not have a aggregation dimension",
       "output_type": "pyerr",
       "traceback": [
        "\u001b[1;31m---------------------------------------------------------------------------\u001b[0m\n\u001b[1;31mIOError\u001b[0m                                   Traceback (most recent call last)",
        "\u001b[1;32m<ipython-input-7-32d97cd4f499>\u001b[0m in \u001b[0;36m<module>\u001b[1;34m()\u001b[0m\n\u001b[0;32m      1\u001b[0m \u001b[0mfiles\u001b[0m \u001b[1;33m=\u001b[0m \u001b[1;33m[\u001b[0m\u001b[0mroot\u001b[0m \u001b[1;33m%\u001b[0m \u001b[1;33m(\u001b[0m\u001b[0md\u001b[0m\u001b[1;33m-\u001b[0m\u001b[1;36m1\u001b[0m\u001b[1;33m,\u001b[0m\u001b[0md\u001b[0m\u001b[1;33m)\u001b[0m \u001b[1;32mfor\u001b[0m \u001b[0md\u001b[0m \u001b[1;32min\u001b[0m \u001b[0mrange\u001b[0m\u001b[1;33m(\u001b[0m\u001b[1;36m3\u001b[0m\u001b[1;33m,\u001b[0m \u001b[1;36m5\u001b[0m\u001b[1;33m)\u001b[0m\u001b[1;33m]\u001b[0m\u001b[1;33m\u001b[0m\u001b[0m\n\u001b[1;32m----> 2\u001b[1;33m \u001b[0mnc\u001b[0m \u001b[1;33m=\u001b[0m \u001b[0mnetCDF4\u001b[0m\u001b[1;33m.\u001b[0m\u001b[0mMFDataset\u001b[0m\u001b[1;33m(\u001b[0m\u001b[0mfiles\u001b[0m\u001b[1;33m)\u001b[0m\u001b[1;33m\u001b[0m\u001b[0m\n\u001b[0m",
        "\u001b[1;32m/home/local/python27_epd/lib/python2.7/site-packages/netCDF4.so\u001b[0m in \u001b[0;36mnetCDF4.MFDataset.__init__ (netCDF4.c:6834)\u001b[1;34m()\u001b[0m\n",
        "\u001b[1;31mIOError\u001b[0m: master dataset http://disc2.nascom.nasa.gov:80/opendap/TRMM_L3//TRMM_3B42_daily/1999/002/3B42_daily.1999.01.03.7.bin does not have a aggregation dimension"
       ]
      }
     ],
     "prompt_number": 7
    },
    {
     "cell_type": "code",
     "collapsed": false,
     "input": [
      "files"
     ],
     "language": "python",
     "metadata": {},
     "outputs": [
      {
       "metadata": {},
       "output_type": "pyout",
       "prompt_number": 8,
       "text": [
        "['http://disc2.nascom.nasa.gov:80/opendap/TRMM_L3//TRMM_3B42_daily/1999/002/3B42_daily.1999.01.03.7.bin',\n",
        " 'http://disc2.nascom.nasa.gov:80/opendap/TRMM_L3//TRMM_3B42_daily/1999/003/3B42_daily.1999.01.04.7.bin']"
       ]
      }
     ],
     "prompt_number": 8
    },
    {
     "cell_type": "code",
     "collapsed": false,
     "input": [],
     "language": "python",
     "metadata": {},
     "outputs": []
    }
   ],
   "metadata": {}
  }
 ]
}