{
 "metadata": {
  "name": "",
  "signature": "sha256:3fa035b28b931780763363ca274a5f3dcd88c807da0b49b8492992e2d2659b2a"
 },
 "nbformat": 3,
 "nbformat_minor": 0,
 "worksheets": [
  {
   "cells": [
    {
     "cell_type": "heading",
     "level": 1,
     "metadata": {},
     "source": [
      "Using Iris to subset data from ROMS"
     ]
    },
    {
     "cell_type": "code",
     "collapsed": false,
     "input": [
      "from IPython.core.display import HTML\n",
      "HTML('<iframe src=http://scitools.org.uk/iris/ width=800 height=350></iframe>')"
     ],
     "language": "python",
     "metadata": {},
     "outputs": [
      {
       "html": [
        "<iframe src=http://scitools.org.uk/iris/ width=800 height=350></iframe>"
       ],
       "metadata": {},
       "output_type": "pyout",
       "prompt_number": 17,
       "text": [
        "<IPython.core.display.HTML at 0x5f4c3d0>"
       ]
      }
     ],
     "prompt_number": 17
    },
    {
     "cell_type": "code",
     "collapsed": false,
     "input": [
      "import numpy\n",
      "import matplotlib.pyplot as plt\n",
      "import datetime as dt\n",
      "\n",
      "import iris\n",
      "import iris.quickplot as qplt\n",
      "import cartopy.crs as ccrs\n",
      "\n"
     ],
     "language": "python",
     "metadata": {},
     "outputs": [],
     "prompt_number": 18
    },
    {
     "cell_type": "code",
     "collapsed": false,
     "input": [
      "# OPeNDAP URL (or local NetCDF file): \n",
      "url='http://geoport-dev.whoi.edu/thredds/dodsC/coawst_4/use/fmrc/coawst_4_use_best.ncd'\n",
      "# Variable to load: use standard_name, or if no standard_name, long_name:\n",
      "var='potential temperature'  \n",
      "var='salinity'\n",
      "\n",
      "# Desired time:\n",
      "#mytime=dt.datetime(2009,3,1,12)  #specified time...\n",
      "mytime=dt.datetime.utcnow()      # .... or now\n",
      "# Layer:\n",
      "ilayer=-1  # ROMS: -1 = surface, 0= bottom\n",
      "# Bounding box to extract [lon_min, lon_max, lat_min, lat_max]:\n",
      "bbox=[ -71.5, -65.0, 39.5, 46.0]"
     ],
     "language": "python",
     "metadata": {},
     "outputs": [],
     "prompt_number": 19
    },
    {
     "cell_type": "code",
     "collapsed": false,
     "input": [
      "def time_near(cube,start):\n",
      "    timevar=cube.coord('time')\n",
      "    itime = timevar.nearest_neighbour_index(timevar.units.date2num(start))\n",
      "    return timevar.points[itime]"
     ],
     "language": "python",
     "metadata": {},
     "outputs": [],
     "prompt_number": 20
    },
    {
     "cell_type": "code",
     "collapsed": true,
     "input": [
      "ivar = iris.load_cube(url,var);\n",
      "print ivar"
     ],
     "language": "python",
     "metadata": {},
     "outputs": [
      {
       "output_type": "stream",
       "stream": "stdout",
       "text": [
        "salinity / (unknown)                (time: 12343; S-coordinate at RHO-points: 16; -- : 336; -- : 896)\n",
        "     Dimension coordinates:\n",
        "          time                           x                                  -        -         -\n",
        "          S-coordinate at RHO-points     -                                  x        -         -\n",
        "     Auxiliary coordinates:\n",
        "          forecast_reference_time        x                                  -        -         -\n",
        "          latitude                       -                                  -        x         x\n",
        "          longitude                      -                                  -        x         x\n",
        "     Attributes:\n",
        "          CPP_options: ISABEL, ATM_PRESS, ANA_BPFLUX, ANA_BSFLUX, ANA_BTFLUX, ANA_FSOBC, ANA_M2OBC,...\n",
        "          Conventions: CF-1.4, _Coordinates\n",
        "          DODS.strlen: 0\n",
        "          DODS_EXTRA.Unlimited_Dimension: ocean_time\n",
        "          _ChunkSize: [  1   4 112 299]\n",
        "          _CoordSysBuilder: ucar.nc2.dataset.conv.CF1Convention\n",
        "          ana_file: ROMS/Functionals/ana_btflux.h, ROMS/Functionals/ana_fsobc.h, ROMS/Functionals/ana_m2obc.h,...\n",
        "          bry_file: ./forcings3/USE_coawst_bdy.nc\n",
        "          cdm_data_type: GRID\n",
        "          clm_file: ./forcings3/USE_coawst_clm.nc\n",
        "          code_dir: /raid1/barmstrong/Projects/COAWST_4\n",
        "          compiler_command: /usr/local/mpi/bin/mpif90\n",
        "          compiler_flags:  -fastsse -Mipa=fast -tp k8-64 -Mfree\n",
        "          compiler_system: pgi\n",
        "          cpu: x86_64\n",
        "          featureType: GRID\n",
        "          field: salinity, scalar, series\n",
        "          file: ./Output/coawst_use_his_0001.nc\n",
        "          format: netCDF-3 classic file\n",
        "          frc_file_01: ./forcings/cloud_coawst.nc\n",
        "          frc_file_02: ./forcings/Pair_coawst.nc\n",
        "          frc_file_03: ./forcings/Qair_coawst.nc\n",
        "          frc_file_04: ./forcings/rain_coawst.nc\n",
        "          frc_file_05: ./forcings/swrad_coawst.nc\n",
        "          frc_file_06: ./forcings/Tair_coawst.nc\n",
        "          frc_file_07: ./forcings/lwrad_coawst.nc\n",
        "          frc_file_08: ./forcings/Big_grd2_coawstwind.nc\n",
        "          frc_file_09: ./grids/tide_forc_USeast_grd16_osu_rev2.nc\n",
        "          grd_file: ./grids/USeast_grd19.nc\n",
        "          header_dir: /raid1/barmstrong/Projects/COAWST_4/Projects/coawst\n",
        "          header_file: coawst.h\n",
        "          his_base: ./Output/coawst_use_his\n",
        "          history: ROMS/TOMS, Version 3.4, Wednesday - May 7, 2014 -  3:24:26 AM ;\n",
        "FMRC Best...\n",
        "          ini_file: ./restart/ocean_use_rst.nc\n",
        "          location: Proto fmrc:coawst_4_use\n",
        "          os: Linux\n",
        "          rst_file: ./Output/ocean_use_rst.nc\n",
        "          script_file: Projects/coawst/ocean_coawst.in\n",
        "          svn_rev: exported\n",
        "          svn_url: https://www.myroms.org/svn/omlab/branches/jcwarner\n",
        "          tiling: 010x004\n",
        "          time: ocean_time\n",
        "          title: COAWST\n",
        "          type: ROMS/TOMS history file\n"
       ]
      }
     ],
     "prompt_number": 21
    },
    {
     "cell_type": "code",
     "collapsed": false,
     "input": [
      "# slice by indices\n",
      "# use contraints to select geographic subset and nearest time\n",
      "\n",
      "slice=ivar.extract(iris.Constraint(time=time_near(ivar,mytime)))\n",
      "slice=slice[ilayer,:,:]  # surface\n",
      "print slice"
     ],
     "language": "python",
     "metadata": {},
     "outputs": [
      {
       "output_type": "stream",
       "stream": "stdout",
       "text": [
        "salinity / (unknown)                (-- : 336; -- : 896)\n",
        "     Auxiliary coordinates:\n",
        "          latitude                      x         x\n",
        "          longitude                     x         x\n",
        "     Scalar coordinates:\n",
        "          S-coordinate at RHO-points: -0.03125\n",
        "          forecast_reference_time: 2014-05-07 13:00:00\n",
        "          time: 2014-05-07 14:00:00\n",
        "     Attributes:\n",
        "          CPP_options: ISABEL, ATM_PRESS, ANA_BPFLUX, ANA_BSFLUX, ANA_BTFLUX, ANA_FSOBC, ANA_M2OBC,...\n",
        "          Conventions: CF-1.4, _Coordinates\n",
        "          DODS.strlen: 0\n",
        "          DODS_EXTRA.Unlimited_Dimension: ocean_time\n",
        "          _ChunkSize: [  1   4 112 299]\n",
        "          _CoordSysBuilder: ucar.nc2.dataset.conv.CF1Convention\n",
        "          ana_file: ROMS/Functionals/ana_btflux.h, ROMS/Functionals/ana_fsobc.h, ROMS/Functionals/ana_m2obc.h,...\n",
        "          bry_file: ./forcings3/USE_coawst_bdy.nc\n",
        "          cdm_data_type: GRID\n",
        "          clm_file: ./forcings3/USE_coawst_clm.nc\n",
        "          code_dir: /raid1/barmstrong/Projects/COAWST_4\n",
        "          compiler_command: /usr/local/mpi/bin/mpif90\n",
        "          compiler_flags:  -fastsse -Mipa=fast -tp k8-64 -Mfree\n",
        "          compiler_system: pgi\n",
        "          cpu: x86_64\n",
        "          featureType: GRID\n",
        "          field: salinity, scalar, series\n",
        "          file: ./Output/coawst_use_his_0001.nc\n",
        "          format: netCDF-3 classic file\n",
        "          frc_file_01: ./forcings/cloud_coawst.nc\n",
        "          frc_file_02: ./forcings/Pair_coawst.nc\n",
        "          frc_file_03: ./forcings/Qair_coawst.nc\n",
        "          frc_file_04: ./forcings/rain_coawst.nc\n",
        "          frc_file_05: ./forcings/swrad_coawst.nc\n",
        "          frc_file_06: ./forcings/Tair_coawst.nc\n",
        "          frc_file_07: ./forcings/lwrad_coawst.nc\n",
        "          frc_file_08: ./forcings/Big_grd2_coawstwind.nc\n",
        "          frc_file_09: ./grids/tide_forc_USeast_grd16_osu_rev2.nc\n",
        "          grd_file: ./grids/USeast_grd19.nc\n",
        "          header_dir: /raid1/barmstrong/Projects/COAWST_4/Projects/coawst\n",
        "          header_file: coawst.h\n",
        "          his_base: ./Output/coawst_use_his\n",
        "          history: ROMS/TOMS, Version 3.4, Wednesday - May 7, 2014 -  3:24:26 AM ;\n",
        "FMRC Best...\n",
        "          ini_file: ./restart/ocean_use_rst.nc\n",
        "          location: Proto fmrc:coawst_4_use\n",
        "          os: Linux\n",
        "          rst_file: ./Output/ocean_use_rst.nc\n",
        "          script_file: Projects/coawst/ocean_coawst.in\n",
        "          svn_rev: exported\n",
        "          svn_url: https://www.myroms.org/svn/omlab/branches/jcwarner\n",
        "          tiling: 010x004\n",
        "          time: ocean_time\n",
        "          title: COAWST\n",
        "          type: ROMS/TOMS history file\n"
       ]
      }
     ],
     "prompt_number": 22
    },
    {
     "cell_type": "code",
     "collapsed": false,
     "input": [
      "def slice_bbox_extract(slice,bbox):\n",
      "    ''' \n",
      "    Extract a subsetted slice inside a lon,lat bounding box\n",
      "    bbox=[lon_min lon_max lat_min lat_max]\n",
      "    '''\n",
      "    data = slice.data\n",
      "    lons = slice.coord('longitude').points\n",
      "    lats = slice.coord('latitude').points\n",
      "\n",
      "    def minmax(v):\n",
      "        return np.min(v), np.max(v)\n",
      "\n",
      "    inregion = np.logical_and(np.logical_and(lons > bbox[0], lons < bbox[1]),\n",
      "                          np.logical_and(lats > bbox[2], lats < bbox[3]))\n",
      "    # extract the rectangular subarray containing the whole valid region ...\n",
      "    region_inds = np.where(inregion)\n",
      "    imin, imax = minmax(region_inds[0])\n",
      "    jmin, jmax = minmax(region_inds[1])\n",
      "    subslice = slice[imin:imax+1, jmin:jmax+1]\n",
      "    return subslice\n"
     ],
     "language": "python",
     "metadata": {},
     "outputs": [],
     "prompt_number": 23
    },
    {
     "cell_type": "code",
     "collapsed": false,
     "input": [
      "subslice=slice_bbox_extract(slice,bbox)"
     ],
     "language": "python",
     "metadata": {},
     "outputs": [],
     "prompt_number": 24
    },
    {
     "cell_type": "code",
     "collapsed": false,
     "input": [
      "print subslice"
     ],
     "language": "python",
     "metadata": {},
     "outputs": [
      {
       "output_type": "stream",
       "stream": "stdout",
       "text": [
        "salinity / (unknown)                (-- : 112; -- : 171)\n",
        "     Auxiliary coordinates:\n",
        "          latitude                      x         x\n",
        "          longitude                     x         x\n",
        "     Scalar coordinates:\n",
        "          S-coordinate at RHO-points: -0.03125\n",
        "          forecast_reference_time: 2014-05-07 13:00:00\n",
        "          time: 2014-05-07 14:00:00\n",
        "     Attributes:\n",
        "          CPP_options: ISABEL, ATM_PRESS, ANA_BPFLUX, ANA_BSFLUX, ANA_BTFLUX, ANA_FSOBC, ANA_M2OBC,...\n",
        "          Conventions: CF-1.4, _Coordinates\n",
        "          DODS.strlen: 0\n",
        "          DODS_EXTRA.Unlimited_Dimension: ocean_time\n",
        "          _ChunkSize: [  1   4 112 299]\n",
        "          _CoordSysBuilder: ucar.nc2.dataset.conv.CF1Convention\n",
        "          ana_file: ROMS/Functionals/ana_btflux.h, ROMS/Functionals/ana_fsobc.h, ROMS/Functionals/ana_m2obc.h,...\n",
        "          bry_file: ./forcings3/USE_coawst_bdy.nc\n",
        "          cdm_data_type: GRID\n",
        "          clm_file: ./forcings3/USE_coawst_clm.nc\n",
        "          code_dir: /raid1/barmstrong/Projects/COAWST_4\n",
        "          compiler_command: /usr/local/mpi/bin/mpif90\n",
        "          compiler_flags:  -fastsse -Mipa=fast -tp k8-64 -Mfree\n",
        "          compiler_system: pgi\n",
        "          cpu: x86_64\n",
        "          featureType: GRID\n",
        "          field: salinity, scalar, series\n",
        "          file: ./Output/coawst_use_his_0001.nc\n",
        "          format: netCDF-3 classic file\n",
        "          frc_file_01: ./forcings/cloud_coawst.nc\n",
        "          frc_file_02: ./forcings/Pair_coawst.nc\n",
        "          frc_file_03: ./forcings/Qair_coawst.nc\n",
        "          frc_file_04: ./forcings/rain_coawst.nc\n",
        "          frc_file_05: ./forcings/swrad_coawst.nc\n",
        "          frc_file_06: ./forcings/Tair_coawst.nc\n",
        "          frc_file_07: ./forcings/lwrad_coawst.nc\n",
        "          frc_file_08: ./forcings/Big_grd2_coawstwind.nc\n",
        "          frc_file_09: ./grids/tide_forc_USeast_grd16_osu_rev2.nc\n",
        "          grd_file: ./grids/USeast_grd19.nc\n",
        "          header_dir: /raid1/barmstrong/Projects/COAWST_4/Projects/coawst\n",
        "          header_file: coawst.h\n",
        "          his_base: ./Output/coawst_use_his\n",
        "          history: ROMS/TOMS, Version 3.4, Wednesday - May 7, 2014 -  3:24:26 AM ;\n",
        "FMRC Best...\n",
        "          ini_file: ./restart/ocean_use_rst.nc\n",
        "          location: Proto fmrc:coawst_4_use\n",
        "          os: Linux\n",
        "          rst_file: ./Output/ocean_use_rst.nc\n",
        "          script_file: Projects/coawst/ocean_coawst.in\n",
        "          svn_rev: exported\n",
        "          svn_url: https://www.myroms.org/svn/omlab/branches/jcwarner\n",
        "          tiling: 010x004\n",
        "          time: ocean_time\n",
        "          title: COAWST\n",
        "          type: ROMS/TOMS history file\n"
       ]
      }
     ],
     "prompt_number": 25
    },
    {
     "cell_type": "code",
     "collapsed": false,
     "input": [
      "# make the plot\n",
      "figure(figsize=(12,8))\n",
      "Z=subslice.data\n",
      "Zm = ma.masked_where(np.isnan(Z),Z)\n",
      "ax1 = plt.axes(projection=ccrs.PlateCarree())\n",
      "ax2=pcolormesh(subslice.coord('longitude').points,subslice.coord('latitude').points,Zm,vmin=0,vmax=20);\n",
      "dat=slice.coord('time')[0].units.num2date(slice.coord('time')[0].points)\n",
      "plt.colorbar()\n",
      "ax1.coastlines('10m')\n",
      "gl=ax1.gridlines(draw_labels=True);\n",
      "gl.xlabels_top = False\n",
      "gl.ylabels_left = False\n",
      "plt.title('ROMS %s, layer=%d: %s' % (var,ilayer,dat[0].strftime('%Y-%m-%d %H:%M')));"
     ],
     "language": "python",
     "metadata": {},
     "outputs": [
      {
       "metadata": {},
       "output_type": "display_data",
       "png": "[encoded data removed]",
       "text": [
        "<matplotlib.figure.Figure at 0x5f4e710>"
       ]
      }
     ],
     "prompt_number": 26
    },
    {
     "cell_type": "code",
     "collapsed": false,
     "input": [],
     "language": "python",
     "metadata": {},
     "outputs": [],
     "prompt_number": 26
    },
    {
     "cell_type": "code",
     "collapsed": false,
     "input": [],
     "language": "python",
     "metadata": {},
     "outputs": [],
     "prompt_number": 26
    }
   ],
   "metadata": {}
  }
 ]
}