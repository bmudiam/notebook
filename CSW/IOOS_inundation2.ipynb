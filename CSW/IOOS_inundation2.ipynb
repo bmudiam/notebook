{
 "metadata": {
  "name": "",
  "signature": "sha256:424aa55561709a8a92e8f86e228e247f1f8c7b83b8d8f8a5bdc698d9a9c33cc1"
 },
 "nbformat": 3,
 "nbformat_minor": 0,
 "worksheets": [
  {
   "cells": [
    {
     "cell_type": "markdown",
     "metadata": {},
     "source": [
      "# IOOS System Test: [Extreme Events Theme]\n",
      "(https://github.com/ioos/system-test/wiki/Development-of-Test-Themes#\n",
      "wiki-theme-2-extreme-events):  Inundation\n",
      "\n",
      "### Compare modeled water levels with observations for a specified bounding box\n",
      "and time period using IOOS recommended service standards for catalog search\n",
      "(CSW) and data retrieval (OPeNDAP & SOS).\n",
      "\n",
      "* Query CSW to find datasets that match criteria\n",
      "* Extract OPeNDAP data endpoints from model datasets and SOS endpoints from\n",
      "  observational datasets\n",
      "* OPeNDAP model datasets will be granules\n",
      "* SOS endpoints may be datasets (from ncSOS) or collections of datasets (from\n",
      "  NDBC, CO-OPS SOS servers)\n",
      "* Filter SOS services to obtain datasets\n",
      "* Extract data from SOS datasets\n",
      "* Extract data from model datasets at locations of observations\n",
      "* Compare time series data on same vertical datum"
     ]
    },
    {
     "cell_type": "code",
     "collapsed": false,
     "input": [
      "# Standard Library.\n",
      "from datetime import datetime, timedelta\n",
      "\n",
      "# Scientific stack.\n",
      "import iris\n",
      "import numpy as np\n",
      "import cartopy.crs as ccrs\n",
      "from cartopy.io.img_tiles import MapQuestOpenAerial\n",
      "from pandas import DataFrame, concat, read_csv, date_range\n",
      "\n",
      "# Custom IOOS/ASA modules (available at PyPI).\n",
      "from owslib import fes\n",
      "from owslib.csw import CatalogueServiceWeb\n",
      "from pyoos.collectors.coops.coops_sos import CoopsSos\n",
      "\n",
      "# Local imports\n",
      "if False:\n",
      "    from utilities import name_list, sos_name\n",
      "    from utilities import (dateRange, service_urls, coops2df,\n",
      "                           find_timevar, find_ij, mod_df, nearxy)\n",
      "\n",
      "%run utilities.ipynb"
     ],
     "language": "python",
     "metadata": {
      "code_folding": [
       16
      ],
      "input_collapsed": false
     },
     "outputs": []
    },
    {
     "cell_type": "markdown",
     "metadata": {},
     "source": [
      "### Specify a time range and bounding box of interest:"
     ]
    },
    {
     "cell_type": "code",
     "collapsed": false,
     "input": [
      "# Specific specific times (UTC).\n",
      "dates = {'Hurricane sandy':\n",
      "         [datetime(2012, 10, 26), datetime(2012, 11, 2)],\n",
      "         '2014 Feb 10-15 Storm':\n",
      "         [datetime(2014, 2, 10), datetime(2014, 2, 15)],\n",
      "         '2014 Recent': [datetime(2014, 3, 8), datetime(2014, 3, 11)],\n",
      "         '2011': [datetime(2013, 4, 20), datetime(2013, 4, 24)]}\n",
      "jd_now = datetime.utcnow()\n",
      "jd_start,  jd_stop = jd_now - timedelta(days=3), jd_now + timedelta(days=3)\n",
      "\n",
      "start_date = jd_start.strftime('%Y-%m-%d %H:00')\n",
      "stop_date = jd_stop.strftime('%Y-%m-%d %H:00')\n",
      "\n",
      "jd_start = datetime.strptime(start_date, '%Y-%m-%d %H:%M')\n",
      "jd_stop = datetime.strptime(stop_date, '%Y-%m-%d %H:%M')\n",
      "\n",
      "print('%s to %s' % (start_date, stop_date))"
     ],
     "language": "python",
     "metadata": {
      "code_folding": [
       0
      ]
     },
     "outputs": []
    },
    {
     "cell_type": "code",
     "collapsed": false,
     "input": [
      "# Bounding Box [lon_min, lat_min, lon_max, lat_max]\n",
      "area = {'New York harbor region': [-75., 39., -71., 41.5],\n",
      "        'Gulf of Maine': [-72.0, 41.0, -69.0, 43.0],\n",
      "        'Hawaii': [-160.0, 18.0, -154., 23.0]}\n",
      "box = area['New York harbor region']"
     ],
     "language": "python",
     "metadata": {
      "code_folding": [
       0
      ]
     },
     "outputs": []
    },
    {
     "cell_type": "markdown",
     "metadata": {},
     "source": [
      "### Search CSW for datasets of interest"
     ]
    },
    {
     "cell_type": "code",
     "collapsed": false,
     "input": [
      "if False:\n",
      "    from IPython.core.display import HTML\n",
      "    url = 'http://www.ngdc.noaa.gov/geoportal/'\n",
      "    HTML('<iframe src=%s width=950 height=400></iframe>' % url)"
     ],
     "language": "python",
     "metadata": {
      "code_folding": [
       0
      ]
     },
     "outputs": []
    },
    {
     "cell_type": "code",
     "collapsed": false,
     "input": [
      "# Connect to CSW, explore it's properties.\n",
      "CSW = {'NGDC Geoportal':\n",
      "       'http://www.ngdc.noaa.gov/geoportal/csw',\n",
      "       'USGS WHSC Geoportal':\n",
      "       'http://geoport.whoi.edu/geoportal/csw',\n",
      "       'NODC Geoportal: granule level':\n",
      "       'http://www.nodc.noaa.gov/geoportal/csw',\n",
      "       'NODC Geoportal: collection level':\n",
      "       'http://data.nodc.noaa.gov/geoportal/csw',\n",
      "       'NRCAN CUSTOM':\n",
      "       'http://geodiscover.cgdi.ca/wes/serviceManagerCSW/csw',\n",
      "       'USGS Woods Hole GI_CAT':\n",
      "       'http://geoport.whoi.edu/gi-cat/services/cswiso',\n",
      "       'USGS CIDA Geonetwork':\n",
      "       'http://cida.usgs.gov/gdp/geonetwork/srv/en/csw',\n",
      "       'USGS Coastal and Marine Program':\n",
      "       'http://cmgds.marine.usgs.gov/geonetwork/srv/en/csw',\n",
      "       'USGS Woods Hole Geoportal':\n",
      "       'http://geoport.whoi.edu/geoportal/csw',\n",
      "       'CKAN testing site for new Data.gov':\n",
      "       'http://geo.gov.ckan.org/csw',\n",
      "       'EPA':\n",
      "       'https://edg.epa.gov/metadata/csw',\n",
      "       'CWIC':\n",
      "       'http://cwic.csiss.gmu.edu/cwicv1/discovery'}\n",
      "\n",
      "endpoint = CSW['NGDC Geoportal']\n",
      "csw = CatalogueServiceWeb(endpoint, timeout=60)\n",
      "csw.version"
     ],
     "language": "python",
     "metadata": {
      "code_folding": [
       0,
       1
      ]
     },
     "outputs": []
    },
    {
     "cell_type": "code",
     "collapsed": false,
     "input": [
      "for oper in csw.operations:\n",
      "    if oper.name == 'GetRecords':\n",
      "        print('\\nISO Queryables:\\n %s' %\n",
      "              oper.constraints['SupportedISOQueryables']['values'])"
     ],
     "language": "python",
     "metadata": {
      "code_folding": [
       0
      ]
     },
     "outputs": []
    },
    {
     "cell_type": "code",
     "collapsed": false,
     "input": [
      "# Convert User Input into FES filters.\n",
      "start, stop = dateRange(start_date, stop_date)\n",
      "bbox = fes.BBox(box)"
     ],
     "language": "python",
     "metadata": {
      "code_folding": [
       0
      ]
     },
     "outputs": []
    },
    {
     "cell_type": "code",
     "collapsed": false,
     "input": [
      "or_filt = fes.Or([fes.PropertyIsLike(propertyname='apiso:AnyText',\n",
      "                                     literal=('*%s*' % val),\n",
      "                                     escapeChar='\\\\',\n",
      "                                     wildCard='*',\n",
      "                                     singleChar='?') for val in name_list])"
     ],
     "language": "python",
     "metadata": {
      "code_folding": [
       0
      ]
     },
     "outputs": []
    },
    {
     "cell_type": "markdown",
     "metadata": {},
     "source": [
      "ROMS model output often has Averages and History files.  The Averages files are usually averaged over a tidal cycle or more, while the History files are snapshots at that time instant.  We are not interested in averaged data for this test, so in the cell below we remove any Averages files here by removing any datasets that have the term \"Averages\" in the metadata text.  A better approach would be to look at the `cell_methods` attributes propagated through to some term in the ISO metadata, but this is not implemented yet, as far as I know"
     ]
    },
    {
     "cell_type": "code",
     "collapsed": false,
     "input": [
      "val = 'Averages'\n",
      "not_filt = fes.Not([fes.PropertyIsLike(propertyname='apiso:AnyText',\n",
      "                                       literal=('*%s*' % val),\n",
      "                                       escapeChar='\\\\',\n",
      "                                       wildCard='*',\n",
      "                                       singleChar='?')])\n",
      "\n",
      "\n",
      "filter_list = [fes.And([bbox, start, stop, or_filt, not_filt])]"
     ],
     "language": "python",
     "metadata": {
      "code_folding": [
       1
      ]
     },
     "outputs": []
    },
    {
     "cell_type": "markdown",
     "metadata": {},
     "source": [
      "Try request using multiple filters \"and\" syntax: [[filter1,filter2]]."
     ]
    },
    {
     "cell_type": "code",
     "collapsed": false,
     "input": [
      "csw.getrecords2(constraints=filter_list, maxrecords=1000, esn='full')\n",
      "print(len(csw.records.keys()))"
     ],
     "language": "python",
     "metadata": {},
     "outputs": []
    },
    {
     "cell_type": "markdown",
     "metadata": {},
     "source": [
      "Now print out some titles"
     ]
    },
    {
     "cell_type": "code",
     "collapsed": false,
     "input": [
      "for rec, item in csw.records.iteritems():\n",
      "    print(item.title)"
     ],
     "language": "python",
     "metadata": {},
     "outputs": []
    },
    {
     "cell_type": "markdown",
     "metadata": {},
     "source": [
      "Print out all the OPeNDAP Data URL endpoints"
     ]
    },
    {
     "cell_type": "code",
     "collapsed": false,
     "input": [
      "service = 'odp:url'\n",
      "dap_urls = service_urls(csw.records, service=service)\n",
      "print(\"\\n\".join(dap_urls))"
     ],
     "language": "python",
     "metadata": {},
     "outputs": []
    },
    {
     "cell_type": "markdown",
     "metadata": {},
     "source": [
      "Print out all the SOS Data URL endpoints"
     ]
    },
    {
     "cell_type": "code",
     "collapsed": false,
     "input": [
      "service = 'sos:url'\n",
      "sos_urls = service_urls(csw.records, service=service)\n",
      "print(\"\\n\".join(sos_urls))"
     ],
     "language": "python",
     "metadata": {},
     "outputs": []
    },
    {
     "cell_type": "markdown",
     "metadata": {},
     "source": [
      "## 1. Get observations from SOS\n",
      "Here we are using a custom class from pyoos to read the CO-OPS SOS.  This is definitely unsavory, as the whole point of using a standard is avoid the need for custom classes for each service.  Need to examine the consequences of removing this and just going with straight SOS service using OWSLib. "
     ]
    },
    {
     "cell_type": "code",
     "collapsed": false,
     "input": [
      "collector = CoopsSos()\n",
      "collector.datum = 'NAVD'  # 'MSL'"
     ],
     "language": "python",
     "metadata": {},
     "outputs": []
    },
    {
     "cell_type": "code",
     "collapsed": false,
     "input": [
      "collector.server.identification.title"
     ],
     "language": "python",
     "metadata": {},
     "outputs": []
    },
    {
     "cell_type": "code",
     "collapsed": false,
     "input": [
      "collector.start_time = jd_start\n",
      "collector.end_time = jd_stop\n",
      "collector.variables = [sos_name]"
     ],
     "language": "python",
     "metadata": {},
     "outputs": []
    },
    {
     "cell_type": "code",
     "collapsed": false,
     "input": [
      "ofrs = collector.server.offerings"
     ],
     "language": "python",
     "metadata": {},
     "outputs": []
    },
    {
     "cell_type": "code",
     "collapsed": false,
     "input": [
      "print(len(ofrs))\n",
      "for p in ofrs[700:710]:\n",
      "    print(p)"
     ],
     "language": "python",
     "metadata": {},
     "outputs": []
    },
    {
     "cell_type": "markdown",
     "metadata": {},
     "source": [
      "### Find the SOS stations within our bounding box and time extent\n",
      "We would like to just use a filter on a collection to get a new collection, but PYOOS doesn't do that yet. So we do a GetObservation request for a collection, including a bounding box, and asking for one value at the start of the time period of interest.   We use that to do a bounding box filter on the SOS server, which returns 1 point for each station found.  So for 3 stations, we get back 3 records, in CSV format.  We can strip the station ids from the CSV, and then we have a list of stations we can use with pyoos.  The template for the GetObservation query for the bounding box filtered collection was generated using the GUI at http://opendap.co-ops.nos.noaa.gov/ioos-dif-sos/"
     ]
    },
    {
     "cell_type": "code",
     "collapsed": false,
     "input": [
      "iso_start = jd_start.strftime('%Y-%m-%dT%H:%M:%SZ')\n",
      "print(iso_start)\n",
      "box_str = ','.join(str(e) for e in box)\n",
      "print(box_str)"
     ],
     "language": "python",
     "metadata": {},
     "outputs": []
    },
    {
     "cell_type": "code",
     "collapsed": false,
     "input": [
      "url = (('http://opendap.co-ops.nos.noaa.gov/ioos-dif-sos/SOS?'\n",
      "        'service=SOS&request=GetObservation&version=1.0.0&'\n",
      "        'observedProperty=%s&offering='\n",
      "        'urn:ioos:network:NOAA.NOS.CO-OPS:WaterLevelActive&'\n",
      "        'featureOfInterest=BBOX:%s&responseFormat=text/csv&eventTime=%s') %\n",
      "       (sos_name, box_str, iso_start))\n",
      "\n",
      "print(url)\n",
      "obs_loc_df = read_csv(url)"
     ],
     "language": "python",
     "metadata": {
      "code_folding": [
       0
      ]
     },
     "outputs": []
    },
    {
     "cell_type": "code",
     "collapsed": false,
     "input": [
      "obs_loc_df.head()"
     ],
     "language": "python",
     "metadata": {},
     "outputs": []
    },
    {
     "cell_type": "code",
     "collapsed": false,
     "input": [
      "stations = [sta.split(':')[-1] for sta in obs_loc_df['station_id']]\n",
      "print(stations)\n",
      "obs_lon = [sta for sta in obs_loc_df['longitude (degree)']]\n",
      "obs_lat = [sta for sta in obs_loc_df['latitude (degree)']]"
     ],
     "language": "python",
     "metadata": {},
     "outputs": []
    },
    {
     "cell_type": "markdown",
     "metadata": {},
     "source": [
      "Generate a uniform 6-min time base for model/data comparison:"
     ]
    },
    {
     "cell_type": "code",
     "collapsed": false,
     "input": [
      "ts_rng = date_range(start=jd_start, end=jd_stop, freq='6Min')\n",
      "ts = DataFrame(index=ts_rng)\n",
      "print(jd_start, jd_stop)\n",
      "print(len(ts))"
     ],
     "language": "python",
     "metadata": {},
     "outputs": []
    },
    {
     "cell_type": "markdown",
     "metadata": {},
     "source": [
      "Create a list of obs dataframes, one for each station:"
     ]
    },
    {
     "cell_type": "code",
     "collapsed": false,
     "input": [
      "obs_df = []\n",
      "sta_names = []\n",
      "for sta in stations:\n",
      "    b = coops2df(collector, sta, sos_name)\n",
      "    if not b.empty:\n",
      "        sta_names.append(b.name)\n",
      "        print(b.name)\n",
      "        # Limit interpolation to 10 points (10 @ 6min = 1 hour).\n",
      "        col = 'Observed Data'\n",
      "        obs_df.append(DataFrame(concat([b, ts],\n",
      "                                       axis=1).interpolate(limit=10)[col]))\n",
      "        obs_df[-1].name = b.name"
     ],
     "language": "python",
     "metadata": {},
     "outputs": []
    },
    {
     "cell_type": "code",
     "collapsed": false,
     "input": [
      "import matplotlib.pyplot as plt\n",
      "from matplotlib.transforms import offset_copy\n",
      "geodetic = ccrs.Geodetic(globe=ccrs.Globe(datum='WGS84'))\n",
      "zoom = 8  # 7.\n",
      "# Open Source Imagery from MapQuest (max zoom = 16? Nope, 48)\n",
      "tiler = MapQuestOpenAerial()\n",
      "fig, ax = plt.subplots(figsize=(10, 10),\n",
      "                       subplot_kw=dict(projection=tiler.crs))\n",
      "# Open Street Map (max zoom = 18?)\n",
      "extent = [box[0], box[2], box[1], box[3]]\n",
      "ax.set_extent(extent, geodetic)\n",
      "ax.add_image(tiler, zoom)\n",
      "ax.scatter(obs_lon, obs_lat, marker='o', s=30.0,\n",
      "           color='cyan', transform=ccrs.PlateCarree())\n",
      "geodetic_transform = ccrs.Geodetic()._as_mpl_transform(ax)\n",
      "text_transform = offset_copy(geodetic_transform, units='dots',\n",
      "                             x=-zoom, y=+zoom)\n",
      "\n",
      "for x, y, label in zip(obs_lon, obs_lat, sta_names):\n",
      "    plt.text(x, y, label, horizontalalignment='left', transform=text_transform,\n",
      "             color='white')\n",
      "gl = ax.gridlines(draw_labels=True)\n",
      "gl.xlabels_top = gl.ylabels_right = False\n",
      "ax.set_title('Water Level Gauge Locations')"
     ],
     "language": "python",
     "metadata": {
      "code_folding": [
       18
      ]
     },
     "outputs": []
    },
    {
     "cell_type": "markdown",
     "metadata": {},
     "source": [
      "### Get model output from OPeNDAP URLS\n",
      "Try to open all the OPeNDAP URLS using Iris from the British Met Office.  If 1D, assume dataset is data, if 2D assume dataset is an unstructured grid model, and if 3D, assume it's a structured grid model."
     ]
    },
    {
     "cell_type": "markdown",
     "metadata": {},
     "source": [
      "Construct an Iris contraint to load only cubes that match the std_name_list:"
     ]
    },
    {
     "cell_type": "code",
     "collapsed": false,
     "input": [
      "print(name_list)\n",
      "name_in_list = lambda cube: cube.standard_name in name_list\n",
      "constraint = iris.Constraint(cube_func=name_in_list)"
     ],
     "language": "python",
     "metadata": {},
     "outputs": []
    },
    {
     "cell_type": "code",
     "collapsed": false,
     "input": [
      "# Use only data within 0.04 degrees (about 4 km).\n",
      "max_dist = 0.04\n",
      "\n",
      "# Use only data where the standard deviation of the time series exceeds 0.01 m\n",
      "# (1 cm) this eliminates flat line model time series that come from land\n",
      "# points that should have had missing values.\n",
      "min_var = 0.01\n",
      "\n",
      "for url in dap_urls:\n",
      "    try:\n",
      "        a = iris.load_cube(url, constraint)\n",
      "        # Convert to units of meters.\n",
      "        # a.convert_units('m')  # This isn't working for unstructured data!\n",
      "        # Take first 20 chars for model name.\n",
      "        mod_name = a.attributes['title'][0:20]\n",
      "        r = a.shape\n",
      "        lat = a.coord(axis='Y').points\n",
      "        lon = a.coord(axis='X').points\n",
      "        time = find_timevar(a)\n",
      "        jd = time.units.num2date(time.points)\n",
      "        istart = time.nearest_neighbour_index(time.units.date2num(jd_start))\n",
      "        istop = time.nearest_neighbour_index(time.units.date2num(jd_stop))\n",
      "\n",
      "        # only proceed if we have data in the range requested\n",
      "        if istart != istop:\n",
      "            nsta = len(obs_lon)\n",
      "            if len(r) == 3:\n",
      "                print('[Structured grid model]:%s' % url)\n",
      "                d = a[0, ...].data\n",
      "                # Find the closest non-land point from a structured grid model.\n",
      "                if len(lon.shape) == 1:\n",
      "                    lon, lat = np.meshgrid(lon, lat)\n",
      "                j, i, dd = find_ij(lon, lat, d, obs_lon, obs_lat)\n",
      "                for n in range(nsta):\n",
      "                    # Only use if model cell is within 0.1 degree of requested\n",
      "                    # location.\n",
      "                    if dd[n] <= max_dist:\n",
      "                        arr = a[istart:istop, j[n], i[n]].data\n",
      "                        if arr.std() >= min_var:\n",
      "                            c = mod_df(arr, time, istart, istop, mod_name, ts)\n",
      "                            name = obs_df[n].name\n",
      "                            obs_df[n] = concat([obs_df[n], c], axis=1)\n",
      "                            obs_df[n].name = name\n",
      "            elif len(r) == 2:\n",
      "                print('[Unstructured grid model]:%s' % url)\n",
      "                # Find the closest point from an unstructured grid model.\n",
      "                index, dd = nearxy(lon.flatten(), lat.flatten(),\n",
      "                                   obs_lon, obs_lat)\n",
      "                for n in range(nsta):\n",
      "                    # Only use if model cell is within 0.1 degree of requested\n",
      "                    # location.\n",
      "                    if dd[n] <= max_dist:\n",
      "                        arr = a[istart:istop, index[n]].data\n",
      "                        if arr.std() >= min_var:\n",
      "                            c = mod_df(arr, time, istart, istop, mod_name, ts)\n",
      "                            name = obs_df[n].name\n",
      "                            obs_df[n] = concat([obs_df[n], c], axis=1)\n",
      "                            obs_df[n].name = name\n",
      "            elif len(r) == 1:\n",
      "                print('[Data]:%s' % url)\n",
      "    except:\n",
      "        pass"
     ],
     "language": "python",
     "metadata": {
      "code_folding": [
       0
      ]
     },
     "outputs": []
    },
    {
     "cell_type": "code",
     "collapsed": false,
     "input": [
      "for df in obs_df:\n",
      "    ax = df.plot(figsize=(14, 6), title=df.name, legend=False)\n",
      "    plt.setp(ax.lines[0], linewidth=4.0, color='.7', zorder=1)\n",
      "    ax.legend()\n",
      "    ax.set_ylabel('m')"
     ],
     "language": "python",
     "metadata": {
      "code_folding": [
       0
      ]
     },
     "outputs": []
    },
    {
     "cell_type": "code",
     "collapsed": false,
     "input": [
      "# Plot again, but now remove the mean offset (relative to data) from all plots.\n",
      "for df in obs_df:\n",
      "    amean = df[jd_start:jd_now].mean()\n",
      "    df = df - amean + amean.ix[0]\n",
      "    print(amean.ix[0] - amean)\n",
      "#    df.plot(figsize=(14,6))\n",
      "#    ylabel('m')"
     ],
     "language": "python",
     "metadata": {
      "code_folding": [
       0
      ]
     },
     "outputs": []
    }
   ],
   "metadata": {}
  }
 ]
}