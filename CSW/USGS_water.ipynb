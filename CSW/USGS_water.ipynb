{
 "metadata": {
  "name": "",
  "signature": "sha256:2d4c818a812cfc6bdf565fe4d0c00865d3cb84cfbf4b48b20145821a8449758c"
 },
 "nbformat": 3,
 "nbformat_minor": 0,
 "worksheets": [
  {
   "cells": [
    {
     "cell_type": "markdown",
     "metadata": {},
     "source": [
      "# Read USGS streamflow using PYOOS "
     ]
    },
    {
     "cell_type": "code",
     "collapsed": false,
     "input": [
      "from pylab import *\n",
      "import pandas as pd\n",
      "import datetime as dt\n",
      "from pyoos.collectors.usgs.usgs_rest import UsgsRest\n"
     ],
     "language": "python",
     "metadata": {
      "input_collapsed": false
     },
     "outputs": [],
     "prompt_number": 13
    },
    {
     "cell_type": "markdown",
     "metadata": {},
     "source": [
      "### Specify a bounding box and time range of interest:"
     ]
    },
    {
     "cell_type": "code",
     "collapsed": false,
     "input": [
      "box=[-87,46,-85,48]"
     ],
     "language": "python",
     "metadata": {},
     "outputs": [],
     "prompt_number": 14
    },
    {
     "cell_type": "code",
     "collapsed": false,
     "input": [
      "# last few days\n",
      "jd_start = dt.datetime.utcnow()- dt.timedelta(days=3)\n",
      "jd_stop = dt.datetime.utcnow() "
     ],
     "language": "python",
     "metadata": {},
     "outputs": [],
     "prompt_number": 37
    },
    {
     "cell_type": "code",
     "collapsed": false,
     "input": [
      "# hurricane sandy\n",
      "jd_start = dt.datetime(2012,10,26)\n",
      "jd_stop = dt.datetime(2012,11,2)"
     ],
     "language": "python",
     "metadata": {},
     "outputs": [],
     "prompt_number": 38
    },
    {
     "cell_type": "code",
     "collapsed": false,
     "input": [
      "print jd_start\n",
      "print jd_stop"
     ],
     "language": "python",
     "metadata": {},
     "outputs": [
      {
       "output_type": "stream",
       "stream": "stdout",
       "text": [
        "2012-10-26 00:00:00\n",
        "2012-11-02 00:00:00\n"
       ]
      }
     ],
     "prompt_number": 39
    },
    {
     "cell_type": "markdown",
     "metadata": {},
     "source": [
      "### Get observations from USGS Rest"
     ]
    },
    {
     "cell_type": "code",
     "collapsed": false,
     "input": [
      "c = UsgsRest()"
     ],
     "language": "python",
     "metadata": {},
     "outputs": [],
     "prompt_number": 18
    },
    {
     "cell_type": "code",
     "collapsed": false,
     "input": [
      "c.list_variables()"
     ],
     "language": "python",
     "metadata": {},
     "outputs": [
      {
       "metadata": {},
       "output_type": "pyout",
       "prompt_number": 19,
       "text": [
        "'Find variables using this website: http://help.waterdata.usgs.gov/codes-and-parameters/parameters'"
       ]
      }
     ],
     "prompt_number": 19
    },
    {
     "cell_type": "code",
     "collapsed": false,
     "input": [
      "c.filter(bbox=tuple(box), start=jd_start, end=jd_stop)\n",
      "col = c.collect()\n",
      "col.calculate_bounds()"
     ],
     "language": "python",
     "metadata": {},
     "outputs": [],
     "prompt_number": 20
    },
    {
     "cell_type": "code",
     "collapsed": false,
     "input": [
      "for sta in col.elements: print sta.name,sta.location.x,sta.location.y"
     ],
     "language": "python",
     "metadata": {},
     "outputs": [
      {
       "output_type": "stream",
       "stream": "stdout",
       "text": [
        "AU TRAIN RIVER AT FOREST LAKE, MI -86.8501514 46.34077908\n",
        "TAHQUAMENON RIVER NEAR PARADISE, MI -85.2695548 46.57501478\n",
        "BLACK RIVER NEAR GARNET, MI -85.3653694 46.1180556\n",
        "MANISTIQUE RIVER NEAR MANISTIQUE, MI -86.161249 46.03052857\n"
       ]
      }
     ],
     "prompt_number": 21
    },
    {
     "cell_type": "code",
     "collapsed": false,
     "input": [
      "type(sta)"
     ],
     "language": "python",
     "metadata": {},
     "outputs": [
      {
       "metadata": {},
       "output_type": "pyout",
       "prompt_number": 26,
       "text": [
        "paegan.cdm.dsg.features.station.Station"
       ]
      }
     ],
     "prompt_number": 26
    },
    {
     "cell_type": "code",
     "collapsed": false,
     "input": [
      "sta.get_unique_members()"
     ],
     "language": "python",
     "metadata": {},
     "outputs": [
      {
       "metadata": {},
       "output_type": "pyout",
       "prompt_number": 29,
       "text": [
        "[{'description': 'Discharge, cubic feet per second',\n",
        "  'name': 'Streamflow, ft&#179;/s',\n",
        "  'standard': '00060',\n",
        "  'unit': 'ft3/s'}]"
       ]
      }
     ],
     "prompt_number": 29
    },
    {
     "cell_type": "code",
     "collapsed": false,
     "input": [
      "sta.properties()"
     ],
     "language": "python",
     "metadata": {},
     "outputs": [
      {
       "metadata": {},
       "output_type": "pyout",
       "prompt_number": 31,
       "text": [
        "{'county': '26003',\n",
        " 'horizontal_crs': 'EPSG:4326',\n",
        " 'huc': '04020201',\n",
        " 'location_description': [],\n",
        " 'state': '26',\n",
        " 'station_type': [],\n",
        " 'vertical_crs': None,\n",
        " 'vertical_units': 'm'}"
       ]
      }
     ],
     "prompt_number": 31
    },
    {
     "cell_type": "markdown",
     "metadata": {},
     "source": [
      "###Read Data"
     ]
    },
    {
     "cell_type": "code",
     "collapsed": false,
     "input": [],
     "language": "python",
     "metadata": {},
     "outputs": []
    }
   ],
   "metadata": {}
  }
 ]
}