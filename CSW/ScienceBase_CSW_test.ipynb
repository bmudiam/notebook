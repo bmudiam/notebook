{
 "metadata": {
  "name": "",
  "signature": "sha256:948eebb1bbcd88995dc3166bd6c6a4132adfb231500a7fb56f90ea9ba03010cb"
 },
 "nbformat": 3,
 "nbformat_minor": 0,
 "worksheets": [
  {
   "cells": [
    {
     "cell_type": "markdown",
     "metadata": {},
     "source": [
      "#Explore ScienceBase CSW Services"
     ]
    },
    {
     "cell_type": "markdown",
     "metadata": {},
     "source": [
      "Test support for different types of CSW queries in USGS ScienceBase.  In ScienceBase, each item has a CSW which contains all child items.  Thus I clicked on the `json` link on the top level Hurricane Sandy link, and located the CSW endpoint within.  "
     ]
    },
    {
     "cell_type": "code",
     "collapsed": false,
     "input": [
      "from pylab import *\n",
      "from owslib.csw import CatalogueServiceWeb\n",
      "from owslib import fes\n",
      "import datetime as dt\n",
      "from numpy import random"
     ],
     "language": "python",
     "metadata": {},
     "outputs": [],
     "prompt_number": 29
    },
    {
     "cell_type": "code",
     "collapsed": false,
     "input": [
      "# top level USGS Hurricane Sandy community CSW link\n",
      "#https://www.sciencebase.gov/catalog/item/519bee13e4b0e4e151f0232c/csw?service=CSW&version=2.0.2&request=GetCapabilities\n",
      "endpoint='https://www.sciencebase.gov/catalog/item/519bee13e4b0e4e151f0232c/csw'\n"
     ],
     "language": "python",
     "metadata": {},
     "outputs": [],
     "prompt_number": 40
    },
    {
     "cell_type": "code",
     "collapsed": false,
     "input": [
      "#box=[-180, -90, 180, 90]\n",
      "\n",
      "box=[-76.4751, 38.3890, -71.7432, 42.9397]  # new york harbor region\n",
      "#box=[-72.0, 41.0, -69.0, 43.0]   # gulf of maine\n",
      "\n",
      "\n",
      "# specific specific times (UTC) ...\n",
      "\n",
      "# hurricane sandy\n",
      "jd_start = dt.datetime(2012,10,26)\n",
      "jd_stop = dt.datetime(2012,11,2)\n",
      "\n",
      "# 2014 feb 10-15 storm\n",
      "jd_start = dt.datetime(2014,2,10)\n",
      "jd_stop = dt.datetime(2014,2,15)\n",
      "\n",
      "# 2014 recent\n",
      "jd_start = dt.datetime(2014,3,8)\n",
      "jd_stop = dt.datetime(2014,3,11)\n",
      "\n",
      "# 2011 \n",
      "#jd_start = dt.datetime(2013,4,20)\n",
      "#jd_stop = dt.datetime(2013,4,24)\n",
      "\n",
      "# ... or relative to now\n",
      "jd_start = dt.datetime.utcnow()- dt.timedelta(days=3)\n",
      "jd_stop = dt.datetime.utcnow() + dt.timedelta(days=3)\n",
      "\n",
      "start_date = jd_start.strftime('%Y-%m-%d %H:00')\n",
      "stop_date  = jd_stop.strftime('%Y-%m-%d %H:00')\n",
      "\n",
      "jd_start = dt.datetime.strptime(start_date,'%Y-%m-%d %H:%M')\n",
      "jd_stop = dt.datetime.strptime(stop_date,'%Y-%m-%d %H:%M')\n",
      "\n",
      "print start_date,'to',stop_date\n",
      "\n",
      "sos_name = 'water_surface_height_above_reference_datum'"
     ],
     "language": "python",
     "metadata": {},
     "outputs": [
      {
       "output_type": "stream",
       "stream": "stdout",
       "text": [
        "2014-04-04 16:00 to 2014-04-10 16:00\n"
       ]
      }
     ],
     "prompt_number": 41
    },
    {
     "cell_type": "code",
     "collapsed": false,
     "input": [
      "std_name_list=['water_surface_height_above_reference_datum',\n",
      "    'sea_surface_height_above_geoid','sea_surface_elevation',\n",
      "    'sea_surface_height_above_reference_ellipsoid','sea_surface_height_above_sea_level',\n",
      "    'sea_surface_height','water level']"
     ],
     "language": "python",
     "metadata": {},
     "outputs": [],
     "prompt_number": 42
    },
    {
     "cell_type": "code",
     "collapsed": false,
     "input": [
      "csw = CatalogueServiceWeb(endpoint,timeout=60)\n",
      "csw.version"
     ],
     "language": "python",
     "metadata": {},
     "outputs": [
      {
       "metadata": {},
       "output_type": "pyout",
       "prompt_number": 43,
       "text": [
        "'2.0.2'"
       ]
      }
     ],
     "prompt_number": 43
    },
    {
     "cell_type": "code",
     "collapsed": false,
     "input": [
      "for oper in csw.operations:\n",
      "    if oper.name == 'GetRecords':\n",
      "        print oper.constraints"
     ],
     "language": "python",
     "metadata": {},
     "outputs": [
      {
       "output_type": "stream",
       "stream": "stdout",
       "text": [
        "{'AdditionalQueryables': {'values': ['sb:collection', 'sb:servicetype']}, 'SupportedCommonQueryables': {'values': ['Title', 'Abstract', 'Subject']}}\n"
       ]
      }
     ],
     "prompt_number": 44
    },
    {
     "cell_type": "code",
     "collapsed": false,
     "input": [
      "val='Barrow'\n",
      "filter_list = [fes.PropertyIsLike(propertyname='AnyText',literal=('*%s*' % val))]"
     ],
     "language": "python",
     "metadata": {},
     "outputs": [],
     "prompt_number": 45
    },
    {
     "cell_type": "code",
     "collapsed": false,
     "input": [
      "# try request using multiple filters \"and\" syntax: [[filter1,filter2]]\n",
      "csw.getrecords2(constraints=filter_list,maxrecords=1000,esn='full')\n",
      "print len(csw.records.keys())"
     ],
     "language": "python",
     "metadata": {},
     "outputs": [
      {
       "output_type": "stream",
       "stream": "stdout",
       "text": [
        "2\n"
       ]
      }
     ],
     "prompt_number": 36
    },
    {
     "cell_type": "code",
     "collapsed": false,
     "input": [
      "for rec,item in csw.records.iteritems():\n",
      "    print item.title"
     ],
     "language": "python",
     "metadata": {},
     "outputs": [
      {
       "output_type": "stream",
       "stream": "stdout",
       "text": [
        "Barrow project area\n",
        "Forsythe plovers\n"
       ]
      }
     ],
     "prompt_number": 37
    },
    {
     "cell_type": "code",
     "collapsed": false,
     "input": [
      "choice=random.choice(list(csw.records.keys()))\n",
      "print choice\n",
      "csw.records[choice].references"
     ],
     "language": "python",
     "metadata": {},
     "outputs": [
      {
       "output_type": "stream",
       "stream": "stdout",
       "text": [
        "53398e51e4b0db25ad10d288\n"
       ]
      },
      {
       "metadata": {},
       "output_type": "pyout",
       "prompt_number": 38,
       "text": [
        "[]"
       ]
      }
     ],
     "prompt_number": 38
    },
    {
     "cell_type": "code",
     "collapsed": false,
     "input": [
      "foo=csw.records[choice]"
     ],
     "language": "python",
     "metadata": {},
     "outputs": [],
     "prompt_number": 39
    },
    {
     "cell_type": "code",
     "collapsed": false,
     "input": [
      "foo.xml"
     ],
     "language": "python",
     "metadata": {},
     "outputs": [
      {
       "metadata": {},
       "output_type": "pyout",
       "prompt_number": 28,
       "text": [
        "'<csw:Record xmlns:csw=\"http://www.opengis.net/cat/csw/2.0.2\" xmlns:xsd=\"http://www.w3.org/2001/XMLSchema\" xmlns:dc=\"http://purl.org/dc/elements/1.1/\" xmlns:dcmiBox=\"http://dublincore.org/documents/2000/07/11/dcmi-box/\" xmlns:dct=\"http://purl.org/dc/terms/\" xmlns:gml=\"http://www.opengis.net/gml\" xmlns:ows=\"http://www.opengis.net/ows\">\\n      <dc:identifier>53398e51e4b0db25ad10d288</dc:identifier>\\n      <dc:title>Barrow project area</dc:title>\\n      <dc:type>https://www.sciencebase.gov/vocab/vocabulary/4f4e475de4b07f02db47ded7/Data</dc:type>\\n      <dct:modified>2014-03-31T15:48:35.887Z</dct:modified>\\n      <dct:abstract/>\\n    </csw:Record>\\n    '"
       ]
      }
     ],
     "prompt_number": 28
    },
    {
     "cell_type": "code",
     "collapsed": false,
     "input": [],
     "language": "python",
     "metadata": {},
     "outputs": []
    }
   ],
   "metadata": {}
  }
 ]
}