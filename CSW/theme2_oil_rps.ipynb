{
 "metadata": {
  "name": "",
  "signature": "sha256:0c3e5408242838723ad4cae309f225c3318fb863d66235abaad0f69232baf2b7"
 },
 "nbformat": 3,
 "nbformat_minor": 0,
 "worksheets": [
  {
   "cells": [
    {
     "cell_type": "markdown",
     "metadata": {},
     "source": [
      "Outline of Notebook Elements:\n",
      "*  Theme Title\n",
      "*  Questions\n",
      "*  DISCOVERY Process (code and narrative)\n",
      "*  ACCESS Process (code and narrative)\n",
      "*  USE Process (code and narrative)\n",
      "*  Results and Conclusions (narrative)"
     ]
    },
    {
     "cell_type": "heading",
     "level": 1,
     "metadata": {},
     "source": [
      "Theme: Extreme Event\n",
      "  >  Scenario B: Oil Tanker Spill"
     ]
    },
    {
     "cell_type": "heading",
     "level": 3,
     "metadata": {},
     "source": [
      "I. Question: Can we discover and access the core variables applicable to analysis of an Oil Tanker Spill from the available list of Registries?"
     ]
    },
    {
     "cell_type": "markdown",
     "metadata": {},
     "source": [
      "figure out the different names for service urls - sos, wms, dap - and figure out how to loop those through so you don't leave off any.... df. function - figure that out and how to spit out tables for the assessment and how to graph that  -- figure out some basic graphs to do for each extreme event"
     ]
    },
    {
     "cell_type": "code",
     "collapsed": false,
     "input": [
      "import pandas as pd\n",
      "from pandas import Series, DataFrame\n",
      "import numpy as np\n",
      "import matplotlib.pyplot as plt\n",
      "import matplotlib.cbook as cbook\n",
      "import csv\n",
      "import re\n",
      "import cStringIO\n",
      "import urllib2\n",
      "import parser\n",
      "import pdb\n",
      "from datetime import datetime\n",
      "from pylab import *\n",
      "from owslib.csw import CatalogueServiceWeb\n",
      "from owslib.wms import WebMapService\n",
      "from owslib.csw import CatalogueServiceWeb\n",
      "from owslib.sos import SensorObservationService\n",
      "from owslib.etree import etree\n",
      "from owslib import fes\n",
      "#from pyoos.utils.etree import etree\n",
      "#from pyoos.parsers.ioos.one.timeseries import TimeSeries\n",
      "#from pyoos.collectors.coops.coops_sos import CoopsSos\n",
      "import netCDF4\n",
      "\n",
      "endpoints = ['http://www.nodc.noaa.gov/geoportal/csw',\n",
      "             'http://www.ngdc.noaa.gov/geoportal/csw',\n",
      "             'http://catalog.data.gov/csw-all',\n",
      "             'http://geoport.whoi.edu/geoportal/csw',\n",
      "             'https://edg.epa.gov/metadata/csw',\n",
      "             'http://cmgds.marine.usgs.gov/geonetwork/srv/en/csw',\n",
      "             'http://cida.usgs.gov/gdp/geonetwork/srv/en/csw',\n",
      "             'http://geodiscover.cgdi.ca/wes/serviceManagerCSW/csw']\n",
      "\n",
      "variables = ['phytoplankton','zooplankton', 'fish', 'river', 'currents', 'bathymetry', 'wind']"
     ],
     "language": "python",
     "metadata": {},
     "outputs": [],
     "prompt_number": 1
    },
    {
     "cell_type": "heading",
     "level": 2,
     "metadata": {},
     "source": [
      "A. DISCOVERY Process: Accessing Catalogs for variables required for oil spill modeling."
     ]
    },
    {
     "cell_type": "code",
     "collapsed": false,
     "input": [
      "cswlist = []\n",
      "oplist = []\n",
      "isolist = []\n",
      "lenoplist =[]\n",
      "lenisolist=[]\n",
      "for endpoint in endpoints[:2]:\n",
      "    csw = CatalogueServiceWeb(endpoint,timeout=60)\n",
      "    cswlist.append(csw.version)\n",
      "    oplist.append([op.name for op in csw.operations])\n",
      "    for oper in csw.operations:\n",
      "        try:\n",
      "            if oper.name == 'GetRecords':\n",
      "                isolist.append(oper.constraints['SupportedISOQueryables']['values'])\n",
      "        except KeyError:\n",
      "            isolist.append('Keyerror')\n",
      "    lenoplist.append(len(oplist[-1]))\n",
      "    lenisolist.append(len(isolist[-1]))          \n",
      "  "
     ],
     "language": "python",
     "metadata": {},
     "outputs": [],
     "prompt_number": 2
    },
    {
     "cell_type": "code",
     "collapsed": false,
     "input": [
      "  \n",
      "CWSLIST = zip(endpoints,cswlist,oplist,lenoplist, isolist,lenisolist)\n",
      "df = DataFrame(data = CWSLIST, columns = ['endpoint','CSW Version', 'Operations','#of Operations','ISO_Queryables','#isoqueryeables'])\n",
      "print df"
     ],
     "language": "python",
     "metadata": {},
     "outputs": [
      {
       "output_type": "stream",
       "stream": "stdout",
       "text": [
        "                                 endpoint CSW Version  \\\n",
        "0  http://www.nodc.noaa.gov/geoportal/csw       2.0.2   \n",
        "1  http://www.ngdc.noaa.gov/geoportal/csw       2.0.2   \n",
        "\n",
        "                                          Operations  #of Operations  \\\n",
        "0  [GetCapabilities, DescribeRecord, GetRecords, ...               5   \n",
        "1  [GetCapabilities, DescribeRecord, GetRecords, ...               5   \n",
        "\n",
        "                                      ISO_Queryables  #isoqueryeables  \n",
        "0  [apiso:Subject, apiso:Title, apiso:Abstract, a...               37  \n",
        "1  [apiso:Subject, apiso:Title, apiso:Abstract, a...               37  \n",
        "\n",
        "[2 rows x 6 columns]\n"
       ]
      }
     ],
     "prompt_number": 3
    },
    {
     "cell_type": "code",
     "collapsed": false,
     "input": [
      "#IOOS Core Biological Variables include fish, phytoplankton, and zooplankton\n",
      "#searching for these keywords in a particular registry provides titles of records that include a wide range of records.  \n",
      "#This provides a first step in discovery, and refining data sets for a particular time period and geography will be the next step.\n",
      "#Variable search terms:\n",
      "\n",
      "#    phytoplankton\n",
      "#    zooplankton\n",
      "#    fish\n",
      "#    river flow rates\n",
      "#    sea surface currents #velocity vectors\n",
      "#    bathymetry\n",
      "#    bottom type\n",
      "#    wind\n",
      "\n",
      "\n",
      "\n",
      "variables = ['phytoplankton','zooplankton', 'fish', 'river', 'currents', 'bathymetry', 'wind']\n",
      "variables1 = []\n",
      "records1 = []\n",
      "records2 = []\n",
      "titles1 = []\n",
      "titles2=[]\n",
      "lenrecords1 = []\n",
      "lentitles1 = []\n",
      "k = 0\n",
      "for endpoint in endpoints[:2]:    \n",
      "    csw = CatalogueServiceWeb(endpoints[k],timeout=60)\n",
      "    n = 0\n",
      "    for v in variables:\n",
      "        try:\n",
      "            csw.getrecords(keywords = [variables[n]], maxrecords = 60)\n",
      "            records1.append(csw.results)\n",
      "        except Exception, ex1:\n",
      "            records1.append('Error')\n",
      "        try:\n",
      "            for rec in csw.records:    \n",
      "                titles1.append(csw.records[rec].title)\n",
      "        except Exception, ex1:\n",
      "            titles1.append('Error') \n",
      "        n +=1\n",
      "    titles2.append(titles1)\n",
      "    records2.append(records1)\n",
      "    lentitles1.append(len(titles2[k]))\n",
      "    lenrecords1.append(len(records2[k]))\n",
      "    k +=1\n",
      "\n",
      "\n",
      "    #records.append(records1)\n",
      "    #titles.append(title)\n",
      "    #records.append(csw.results)\n",
      "    #for rec in csw.records:\n",
      "zipvar1 = zip(endpoints, records2,lenrecords1, titles2,lentitles1)\n",
      "df = DataFrame(data = zipvar1, columns = ['endpoints', 'records1','lenrecords1', 'titles1','lentitles1'])\n",
      "print df\n",
      "\n"
     ],
     "language": "python",
     "metadata": {},
     "outputs": [
      {
       "output_type": "stream",
       "stream": "stdout",
       "text": [
        "                                endpoints  \\\n",
        "0  http://www.nodc.noaa.gov/geoportal/csw   \n",
        "1  http://www.ngdc.noaa.gov/geoportal/csw   \n",
        "\n",
        "                                            records1  lenrecords1  \\\n",
        "0  [{u'matches': 37, u'nextrecord': 0, u'returned...            7   \n",
        "1  [{u'matches': 37, u'nextrecord': 0, u'returned...           14   \n",
        "\n",
        "                                             titles1  lentitles1  \n",
        "0  [Fluorescence, Terra MODIS, OSU DB, 0.125 degr...         280  \n",
        "1  [Fluorescence, Terra MODIS, OSU DB, 0.125 degr...         595  \n",
        "\n",
        "[2 rows x 5 columns]\n"
       ]
      },
      {
       "output_type": "stream",
       "stream": "stderr",
       "text": [
        "/home/local/python27_epd/lib/python2.7/site-packages/owslib/csw.py:189: UserWarning: Please use the updated 'getrecords2' method instead of 'getrecords'.  \n",
        "        The 'getrecords' method will be upgraded to use the 'getrecords2' parameters\n",
        "        in a future version of OWSLib.\n",
        "  in a future version of OWSLib.\"\"\")\n"
       ]
      }
     ],
     "prompt_number": 4
    },
    {
     "cell_type": "code",
     "collapsed": false,
     "input": [
      "def service_urls(records,service_string='urn:x-esri:specification:ServiceType:odp:url'):\n",
      "    urls=[]\n",
      "    for key,rec in records.iteritems():\n",
      "        #create a generator object, and iterate through it until the match is found\n",
      "        #if not found, gets the default value (here \"none\")\n",
      "        url = next((d['url'] for d in rec.references if d['scheme'] == service_string), None)\n",
      "        if url is not None:\n",
      "            urls.append(url)\n",
      "    return urls\n",
      "\n",
      "#Establish daterange definitions\n",
      "def dateRange(start_date='1900-01-01',stop_date='2100-01-01',constraint='overlaps'):\n",
      "    if constraint == 'overlaps':\n",
      "        start = fes.PropertyIsLessThanOrEqualTo(propertyname='startDate', literal=stop_date)\n",
      "        stop = fes.PropertyIsGreaterThanOrEqualTo(propertyname='endDate', literal=start_date)\n",
      "    elif constraint == 'within':\n",
      "        start = fes.PropertyIsGreaterThanOrEqualTo(propertyname='startDate', literal=start_date)\n",
      "        stop = fes.PropertyIsLessThanOrEqualTo(propertyname='endDate', literal=stop_date)\n",
      "    return start,stop\n"
     ],
     "language": "python",
     "metadata": {},
     "outputs": [],
     "prompt_number": 5
    },
    {
     "cell_type": "code",
     "collapsed": false,
     "input": [
      "variables1 = ['wind', 'temp']\n",
      "n_wms_urls = []\n",
      "n_dap_urls = []\n",
      "n_sos_urls = []\n",
      "wms_urls1= []\n",
      "dap_urls1= []\n",
      "sos_urls1= []\n",
      "k = 0\n",
      "for endpoint in endpoints[:2]:\n",
      "    csw = CatalogueServiceWeb(endpoints[k],timeout=60)\n",
      "    n = 0\n",
      "    for v in variables1:\n",
      "        try:\n",
      "            csw.getrecords(keywords = [variables[n]], maxrecords = 60)\n",
      "            sos_urls = service_urls(csw.records,service_string='urn:x-esri:specification:ServiceType:sos:url')\n",
      "            dap_urls = service_urls(csw.records,service_string='urn:x-esri:specification:ServiceType:odp:url')\n",
      "            wms_urls = service_urls(csw.records,service_string='urn:x-esri:specification:ServiceType:wms:url')\n",
      "            bbox = fes.BBox([180, 90, -180, -90])\n",
      "            start,stop = dateRange('1970-01-01','2014-02-01')\n",
      "            std_name = variables[n]\n",
      "            sos_name = variables[n]\n",
      "            keywords = fes.PropertyIsLike(propertyname='anyText', literal=std_name)\n",
      "            serviceType = fes.PropertyIsLike(propertyname='apiso:ServiceType', literal='*opendap*') \n",
      "        except Exception, ex1:\n",
      "            sos_urls = 'None'\n",
      "            dap_urls = 'None'\n",
      "            wms_urls = 'None'\n",
      "        n +=1       \n",
      "    wms_urls1.append(wms_urls)\n",
      "    dap_urls1.append(dap_urls)\n",
      "    sos_urls1.append(sos_urls)\n",
      "    k += 1\n",
      "print wms_urls\n",
      "zipvar1 = zip(endpoints, wms_urls1, dap_urls1, sos_urls1)\n",
      "#df = DataFrame(data = zipvar1, columns = ['endpoints', 'wms_urls', 'n_wms_urls', 'dap_urls', 'n_dap_urls', 'sos_urls', 'n_sos_urls'])\n",
      "df = DataFrame(data = zipvar1, columns = ['endpoints', 'wms_urls', 'dap_urls', 'sos_urls'])\n",
      "print df"
     ],
     "language": "python",
     "metadata": {},
     "outputs": [
      {
       "output_type": "stream",
       "stream": "stdout",
       "text": [
        "None\n",
        "                                endpoints wms_urls dap_urls sos_urls\n",
        "0  http://www.nodc.noaa.gov/geoportal/csw       []       []       []\n",
        "1  http://www.ngdc.noaa.gov/geoportal/csw     None     None     None\n",
        "\n",
        "[2 rows x 4 columns]\n"
       ]
      }
     ]
    },
    {
     "cell_type": "code",
     "collapsed": false,
     "input": [
      "\n",
      "k = 0\n",
      "for endpoint in endpoints[:2]:\n",
      "    csw = CatalogueServiceWeb(endpoints[k],timeout=60)\n",
      "    print 'Endpoint: ' + endpoint\n",
      "    print 'Number of WMS: ' + str(len(wms_urls))\n",
      "    print 'Number of DAP: ' + str(len(dap_urls))\n",
      "    print 'Number of SOS: ' + str(len(sos_urls))\n",
      "    print ''\n",
      "    k +=1"
     ],
     "language": "python",
     "metadata": {},
     "outputs": []
    },
    {
     "cell_type": "code",
     "collapsed": false,
     "input": [
      "\n"
     ],
     "language": "python",
     "metadata": {},
     "outputs": []
    },
    {
     "cell_type": "code",
     "collapsed": false,
     "input": [
      "\n",
      "        "
     ],
     "language": "python",
     "metadata": {},
     "outputs": []
    }
   ],
   "metadata": {}
  }
 ]
}