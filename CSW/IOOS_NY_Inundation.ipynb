{
 "metadata": {
  "name": "",
  "signature": "sha256:72961ae8112449c3c7c2c5443357b39698236e217d196649bdac2a48302a0be9"
 },
 "nbformat": 3,
 "nbformat_minor": 0,
 "worksheets": [
  {
   "cells": [
    {
     "cell_type": "markdown",
     "metadata": {},
     "source": [
      "#IOOS System Test: [Extreme Events Theme](https://github.com/ioos/system-test/wiki/Development-of-Test-Themes#wiki-theme-2-extreme-events):  Inundation\n",
      "\n",
      "###Compare modeled water levels with observations for a specified bounding box and time period using IOOS recommended service standards for catalog search (CSW) and data retrieval (OPeNDAP & SOS). <p>\n",
      "\n",
      "* Query CSW to find datasets that match criteria\n",
      "* Extract OPeNDAP data endpoints from model datasets and SOS endpoints from observational datasets\n",
      "* OPeNDAP model datasets will be granules\n",
      "* SOS endpoints may be datasets (from ncSOS) or collections of datasets (from NDBC, CO-OPS SOS servers)\n",
      "* Filter SOS services to obtain datasets\n",
      "* Extract data from SOS datasets\n",
      "* Extract data from model datasets at locations of observations\n",
      "* Compare time series data on same vertical datum\n"
     ]
    },
    {
     "cell_type": "code",
     "collapsed": false,
     "input": [
      "from pylab import *\n",
      "from owslib.csw import CatalogueServiceWeb\n",
      "from owslib import fes\n",
      "import random\n",
      "import netCDF4\n",
      "import pandas as pd\n",
      "import datetime as dt\n",
      "from pyoos.collectors.coops.coops_sos import CoopsSos\n",
      "import cStringIO\n",
      "import iris"
     ],
     "language": "python",
     "metadata": {},
     "outputs": [],
     "prompt_number": 1
    },
    {
     "cell_type": "code",
     "collapsed": false,
     "input": [
      "box=[-74.4751, 40.3890, -73.7432, 40.9397]\n",
      "start_date='2012-10-26 00:00'\n",
      "stop_date='2012-11-02 00:00'\n",
      "std_name = 'sea_surface_height_above_geoid'\n",
      "sos_name = 'water_surface_height_above_reference_datum'"
     ],
     "language": "python",
     "metadata": {},
     "outputs": [],
     "prompt_number": 2
    },
    {
     "cell_type": "code",
     "collapsed": false,
     "input": [
      "collector = CoopsSos()"
     ],
     "language": "python",
     "metadata": {},
     "outputs": [],
     "prompt_number": 3
    },
    {
     "cell_type": "code",
     "collapsed": false,
     "input": [
      "collector.server.identification.title"
     ],
     "language": "python",
     "metadata": {},
     "outputs": [
      {
       "metadata": {},
       "output_type": "pyout",
       "prompt_number": 4,
       "text": [
        "'NOAA.NOS.CO-OPS SOS'"
       ]
      }
     ],
     "prompt_number": 4
    },
    {
     "cell_type": "code",
     "collapsed": false,
     "input": [
      "collector.start_time = dt.datetime.strptime(start_date,'%Y-%m-%d %H:%M')\n",
      "collector.end_time = dt.datetime.strptime(stop_date,'%Y-%m-%d %H:%M')\n",
      "collector.variables = [sos_name]"
     ],
     "language": "python",
     "metadata": {},
     "outputs": [],
     "prompt_number": 5
    },
    {
     "cell_type": "code",
     "collapsed": false,
     "input": [
      "ofrs = collector.server.offerings"
     ],
     "language": "python",
     "metadata": {},
     "outputs": [],
     "prompt_number": 6
    },
    {
     "cell_type": "code",
     "collapsed": false,
     "input": [
      "print len(ofrs)\n",
      "for p in ofrs[700:710]: print p"
     ],
     "language": "python",
     "metadata": {},
     "outputs": [
      {
       "output_type": "stream",
       "stream": "stdout",
       "text": [
        "1015\n",
        "Offering id: station-8447387, name: urn:ioos:station:NOAA.NOS.CO-OPS:8447387\n",
        "Offering id: station-8447435, name: urn:ioos:station:NOAA.NOS.CO-OPS:8447435\n",
        "Offering id: station-8447930, name: urn:ioos:station:NOAA.NOS.CO-OPS:8447930\n",
        "Offering id: station-8449130, name: urn:ioos:station:NOAA.NOS.CO-OPS:8449130\n",
        "Offering id: station-8452660, name: urn:ioos:station:NOAA.NOS.CO-OPS:8452660\n",
        "Offering id: station-8452944, name: urn:ioos:station:NOAA.NOS.CO-OPS:8452944\n",
        "Offering id: station-8452951, name: urn:ioos:station:NOAA.NOS.CO-OPS:8452951\n",
        "Offering id: station-8454000, name: urn:ioos:station:NOAA.NOS.CO-OPS:8454000\n",
        "Offering id: station-8454049, name: urn:ioos:station:NOAA.NOS.CO-OPS:8454049\n",
        "Offering id: station-8461490, name: urn:ioos:station:NOAA.NOS.CO-OPS:8461490\n"
       ]
      }
     ],
     "prompt_number": 7
    },
    {
     "cell_type": "code",
     "collapsed": false,
     "input": [
      "#try to filter offerings based on bounding box\n",
      "colfilt = collector.filter(bbox=tuple(box))\n",
      "ofrs2 = colfilt.server.offerings\n",
      "print len(ofrs2)\n",
      "#for p in ofrs: print p"
     ],
     "language": "python",
     "metadata": {},
     "outputs": [
      {
       "output_type": "stream",
       "stream": "stdout",
       "text": [
        "1015\n"
       ]
      }
     ],
     "prompt_number": 8
    },
    {
     "cell_type": "code",
     "collapsed": false,
     "input": [
      "coops_id = '8518750'  # the battery in NY Harbor\n",
      "offeringid = 'station-%s' % coops_id\n",
      "offeringid in collector.server.contents.keys()\n",
      "ofr = collector.server.contents[offeringid]\n",
      "vars(ofr)"
     ],
     "language": "python",
     "metadata": {},
     "outputs": [
      {
       "metadata": {},
       "output_type": "pyout",
       "prompt_number": 9,
       "text": [
        "{'_root': <Element {http://www.opengis.net/sos/1.0}ObservationOffering at 0x5e53dc0>,\n",
        " 'bbox': (-74.0142, 40.7006, -74.0142, 40.7006),\n",
        " 'bbox_srs': <owslib.crs.Crs at 0x6cc0b50>,\n",
        " 'begin_position': datetime.datetime(1920, 5, 24, 0, 0, tzinfo=tzutc()),\n",
        " 'description': 'The Battery, NY',\n",
        " 'end_position': None,\n",
        " 'features_of_interest': ['urn:cgi:feature:CGI:EarthOcean'],\n",
        " 'id': 'station-8518750',\n",
        " 'name': 'urn:ioos:station:NOAA.NOS.CO-OPS:8518750',\n",
        " 'observed_properties': ['http://mmisw.org/ont/cf/parameter/air_pressure',\n",
        "  'http://mmisw.org/ont/cf/parameter/air_temperature',\n",
        "  'http://mmisw.org/ont/cf/parameter/sea_surface_height_amplitude_due_to_equilibrium_ocean_tide',\n",
        "  'http://mmisw.org/ont/cf/parameter/sea_water_temperature',\n",
        "  'http://mmisw.org/ont/cf/parameter/water_surface_height_above_reference_datum',\n",
        "  'http://mmisw.org/ont/cf/parameter/harmonic_constituents',\n",
        "  'http://mmisw.org/ont/cf/parameter/datums'],\n",
        " 'procedures': ['urn:ioos:station:NOAA.NOS.CO-OPS:8518750'],\n",
        " 'response_formats': ['text/csv',\n",
        "  'text/tab-separated-values',\n",
        "  'text/xml;schema=\"ioos/0.6.1\"',\n",
        "  'application/ioos+xml;version=0.6.1',\n",
        "  'application/vnd.google-earth.kml+xml'],\n",
        " 'response_modes': ['inline'],\n",
        " 'result_model': 'om:Observation',\n",
        " 'srs': <owslib.crs.Crs at 0x6cc0ad0>}"
       ]
      }
     ],
     "prompt_number": 9
    },
    {
     "cell_type": "code",
     "collapsed": false,
     "input": [
      "collector.features = [coops_id]\n",
      "collector.variables = [sos_name]\n",
      "response = collector.raw(responseFormat=\"text/csv\")\n",
      "print response[:800]"
     ],
     "language": "python",
     "metadata": {},
     "outputs": [
      {
       "output_type": "stream",
       "stream": "stdout",
       "text": [
        "BBOX requests for IOOS SWE SOS services are not yet implemented\n",
        "station_id,sensor_id,\"latitude (degree)\",\"longitude (degree)\",date_time,\"water_surface_height_above_reference_datum (m)\",datum_id,\"vertical_position (m)\"\n",
        "urn:ioos:station:NOAA.NOS.CO-OPS:8518750,urn:ioos:sensor:NOAA.NOS.CO-OPS:8518750:B1,40.7006,-74.0142,2012-10-26T00:00:00Z,1.292,urn:ioos:def:datum:noaa::MLLW,1.002\n",
        "urn:ioos:station:NOAA.NOS.CO-OPS:8518750,urn:ioos:sensor:NOAA.NOS.CO-OPS:8518750:B1,40.7006,-74.0142,2012-10-26T00:06:00Z,1.265,urn:ioos:def:datum:noaa::MLLW,1.002\n",
        "urn:ioos:station:NOAA.NOS.CO-OPS:8518750,urn:ioos:sensor:NOAA.NOS.CO-OPS:8518750:B1,40.7006,-74.0142,2012-10-26T00:12:00Z,1.237,urn:ioos:def:datum:noaa::MLLW,1.002\n",
        "urn:ioos:station:NOAA.NOS.CO-OPS:8518750,urn:ioos:sensor:NOAA.NOS.CO-OPS:8518750:B1,40.7006,-74.0142,2012-10-26T00:18:00Z,1.215,urn:ioos:def:datum:noaa::M"
       ]
      },
      {
       "output_type": "stream",
       "stream": "stdout",
       "text": [
        "\n"
       ]
      }
     ],
     "prompt_number": 10
    },
    {
     "cell_type": "code",
     "collapsed": false,
     "input": [
      "data_df = pd.read_csv(cStringIO.StringIO(str(response)), parse_dates=True, index_col='date_time')\n",
      "data_df['lev']=data_df['water_surface_height_above_reference_datum (m)']-data_df['vertical_position (m)']"
     ],
     "language": "python",
     "metadata": {},
     "outputs": [],
     "prompt_number": 11
    },
    {
     "cell_type": "code",
     "collapsed": false,
     "input": [
      "data_df['lev'].plot(figsize=(16,4),title='Battery, NYC: Height (m) above NAVD88')"
     ],
     "language": "python",
     "metadata": {},
     "outputs": [
      {
       "metadata": {},
       "output_type": "pyout",
       "prompt_number": 12,
       "text": [
        "<matplotlib.axes.AxesSubplot at 0x6f59090>"
       ]
      },
      {
       "metadata": {},
       "output_type": "display_data",
       "png": "[encoded data removed]",
       "text": [
        "<matplotlib.figure.Figure at 0x6e9c290>"
       ]
      }
     ],
     "prompt_number": 12
    },
    {
     "cell_type": "code",
     "collapsed": false,
     "input": [
      "#from IPython.core.display import HTML\n",
      "#HTML('<iframe src=http://www.ngdc.noaa.gov/geoportal/ width=950 height=400></iframe>')"
     ],
     "language": "python",
     "metadata": {},
     "outputs": [],
     "prompt_number": 13
    },
    {
     "cell_type": "code",
     "collapsed": false,
     "input": [
      "# connect to CSW, explore it's properties\n",
      "\n",
      "#endpoint = 'http://www.ngdc.noaa.gov/geoportal/csw' # NGDC Geoportal\n",
      "endpoint = 'http://geoport.whoi.edu/geoportal/csw'  # USGS WHSC Geoportal\n",
      "\n",
      "#endpoint = 'http://www.nodc.noaa.gov/geoportal/csw'   # NODC Geoportal: granule level\n",
      "#endpoint = 'http://data.nodc.noaa.gov/geoportal/csw'  # NODC Geoportal: collection level   \n",
      "#endpoint = 'http://geodiscover.cgdi.ca/wes/serviceManagerCSW/csw'  # NRCAN CUSTOM\n",
      "#endpoint = 'http://geoport.whoi.edu/gi-cat/services/cswiso' # USGS Woods Hole GI_CAT\n",
      "#endpoint = 'http://cida.usgs.gov/gdp/geonetwork/srv/en/csw' # USGS CIDA Geonetwork\n",
      "#endpoint = 'http://cmgds.marine.usgs.gov/geonetwork/srv/en/csw' # USGS Coastal and Marine Program\n",
      "#endpoint = 'http://geoport.whoi.edu/geoportal/csw' # USGS Woods Hole Geoportal \n",
      "#endpoint = 'http://geo.gov.ckan.org/csw'  # CKAN testing site for new Data.gov\n",
      "#endpoint = 'https://edg.epa.gov/metadata/csw'  # EPA\n",
      "#endpoint = 'http://cwic.csiss.gmu.edu/cwicv1/discovery'  # CWIC\n",
      "\n",
      "csw = CatalogueServiceWeb(endpoint,timeout=60)\n",
      "csw.version"
     ],
     "language": "python",
     "metadata": {},
     "outputs": [
      {
       "metadata": {},
       "output_type": "pyout",
       "prompt_number": 14,
       "text": [
        "'2.0.2'"
       ]
      }
     ],
     "prompt_number": 14
    },
    {
     "cell_type": "code",
     "collapsed": false,
     "input": [
      "for oper in csw.operations:\n",
      "    if oper.name == 'GetRecords':\n",
      "        print '\\nISO Queryables:\\n',oper.constraints['SupportedISOQueryables']['values']"
     ],
     "language": "python",
     "metadata": {},
     "outputs": [
      {
       "output_type": "stream",
       "stream": "stdout",
       "text": [
        "\n",
        "ISO Queryables:\n",
        "['apiso:Subject', 'apiso:Title', 'apiso:Abstract', 'apiso:AnyText', 'apiso:Format', 'apiso:Identifier', 'apiso:Modified', 'apiso:Type', 'apiso:BoundingBox', 'apiso:CRS.Authority', 'apiso:CRS.ID', 'apiso:CRS.Version', 'apiso:RevisionDate', 'apiso:AlternateTitle', 'apiso:CreationDate', 'apiso:PublicationDate', 'apiso:OrganizationName', 'apiso:HasSecurityConstraints', 'apiso:Language', 'apiso:ResourceIdentifier', 'apiso:ParentIdentifier', 'apiso:KeywordType', 'apiso:TopicCategory', 'apiso:ResourceLanguage', 'apiso:GeographicDescriptionCode', 'apiso:Denominator', 'apiso:DistanceValue', 'apiso:DistanceUOM', 'apiso:TempExtent_begin', 'apiso:TempExtent_end', 'apiso:ServiceType', 'apiso:ServiceTypeVersion', 'apiso:Operation', 'apiso:OperatesOn', 'apiso:OperatesOnIdentifier', 'apiso:OperatesOnName', 'apiso:CouplingType']\n"
       ]
      }
     ],
     "prompt_number": 15
    },
    {
     "cell_type": "code",
     "collapsed": false,
     "input": [
      "# hopefully something like this will be implemented in fes soon\n",
      "def dateRange(start_date='1900-01-01',stop_date='2100-01-01',constraint='overlaps'):\n",
      "    if constraint == 'overlaps':\n",
      "        start = fes.PropertyIsLessThanOrEqualTo(propertyname='apiso:TempExtent_begin', literal=stop_date)\n",
      "        stop = fes.PropertyIsGreaterThanOrEqualTo(propertyname='apiso:TempExtent_end', literal=start_date)\n",
      "    elif constraint == 'within':\n",
      "        start = fes.PropertyIsGreaterThanOrEqualTo(propertyname='apiso:TempExtent_begin', literal=start_date)\n",
      "        stop = fes.PropertyIsLessThanOrEqualTo(propertyname='apiso:TempExtent_end', literal=stop_date)\n",
      "    return start,stop"
     ],
     "language": "python",
     "metadata": {},
     "outputs": [],
     "prompt_number": 16
    },
    {
     "cell_type": "code",
     "collapsed": false,
     "input": [
      "\n"
     ],
     "language": "python",
     "metadata": {},
     "outputs": [],
     "prompt_number": 16
    },
    {
     "cell_type": "code",
     "collapsed": false,
     "input": [
      "# convert User Input into FES filters\n",
      "start,stop = dateRange(start_date,stop_date)\n",
      "bbox = fes.BBox(box)\n",
      "keywords = fes.PropertyIsLike(propertyname='AnyText', literal=('*%s*' % std_name))\n",
      "#keywords = fes.PropertyIsLike(propertyname='apiso:Keywords', literal=std_name)\n",
      "#keywords = fes.PropertyIsEqualTo(propertyname='apiso:Keywords', literal=std_name)\n",
      "#serviceType = fes.PropertyIsLike(propertyname='apiso:ServiceType', literal=('*%s*' % service_type))\n",
      "#serviceType = fes.PropertyIsEqualTo(propertyname='apiso:ServiceType', literal=service_type)\n",
      "\n"
     ],
     "language": "python",
     "metadata": {},
     "outputs": [],
     "prompt_number": 17
    },
    {
     "cell_type": "code",
     "collapsed": false,
     "input": [
      "\n",
      "val = 'height'\n",
      "filter2=fes.PropertyIsLike(propertyname='apiso:AnyText',literal=('*%s*' % val),\n",
      "                        escapeChar='\\\\',wildCard='*',singleChar='?')\n",
      "val = 'SELFE'\n",
      "filt=fes.PropertyIsLike(propertyname='apiso:AnyText',literal=('*%s*' % val),\n",
      "                        escapeChar='\\\\',wildCard='*',singleChar='?')\n",
      "filter3 = fes.Not([filt])\n",
      "\n",
      "val = 'Averages'\n",
      "filt=fes.PropertyIsLike(propertyname='apiso:AnyText',literal=('*%s*' % val),\n",
      "                        escapeChar='\\\\',wildCard='*',singleChar='?')\n",
      "filter4 = fes.Not([filt])\n",
      "\n",
      "filter_list = [fes.And([ filter2, filter3, filter4, bbox])]\n",
      "#filter_list = [fes.And([ serviceType, start,stop, bbox])]\n",
      "#filter_list = [fes.And([  filter2,bbox,serviceType])]\n"
     ],
     "language": "python",
     "metadata": {},
     "outputs": [],
     "prompt_number": 18
    },
    {
     "cell_type": "code",
     "collapsed": false,
     "input": [
      "# try request using multiple filters \"and\" syntax: [[filter1,filter2]]\n",
      "csw.getrecords2(constraints=filter_list,maxrecords=20,esn='full')\n",
      "csw.records.keys()"
     ],
     "language": "python",
     "metadata": {},
     "outputs": [
      {
       "metadata": {},
       "output_type": "pyout",
       "prompt_number": 19,
       "text": [
        "['roms/espresso/2013_da/his_Best/ESPRESSO_Real-Time_v2_History_Best_Available_best.ncd',\n",
        " 'estofs/atlantic',\n",
        " 'espresso_2009_da_history']"
       ]
      }
     ],
     "prompt_number": 19
    },
    {
     "cell_type": "code",
     "collapsed": false,
     "input": [
      "choice=random.choice(list(csw.records.keys()))\n",
      "print choice\n",
      "csw.records[choice].references"
     ],
     "language": "python",
     "metadata": {},
     "outputs": [
      {
       "output_type": "stream",
       "stream": "stdout",
       "text": [
        "roms/espresso/2013_da/his_Best/ESPRESSO_Real-Time_v2_History_Best_Available_best.ncd\n"
       ]
      },
      {
       "metadata": {},
       "output_type": "pyout",
       "prompt_number": 20,
       "text": [
        "[{'scheme': 'urn:x-esri:specification:ServiceType:ArcIMS:Metadata:Onlink',\n",
        "  'url': 'http://tds.marine.rutgers.edu/thredds/dodsC/roms/espresso/2013_da/his_Best/ESPRESSO_Real-Time_v2_History_Best_Available_best.ncd.html'},\n",
        " {'scheme': 'urn:x-esri:specification:ServiceType:ArcIMS:Metadata:Document',\n",
        "  'url': 'http://geoport.whoi.edu:8082/geoportal/csw?getxml=%7B81FA98F1-ACFF-464C-BC0E-CC200694F303%7D'},\n",
        " {'scheme': 'urn:x-esri:specification:ServiceType:wct:url',\n",
        "  'url': 'http://www.ncdc.noaa.gov/oa/wct/wct-jnlp-beta.php?singlefile=http://tds.marine.rutgers.edu/thredds/dodsC/roms/espresso/2013_da/his_Best/ESPRESSO_Real-Time_v2_History_Best_Available_best.ncd'},\n",
        " {'scheme': 'urn:x-esri:specification:ServiceType:odp:url',\n",
        "  'url': 'http://tds.marine.rutgers.edu/thredds/dodsC/roms/espresso/2013_da/his_Best/ESPRESSO_Real-Time_v2_History_Best_Available_best.ncd'}]"
       ]
      }
     ],
     "prompt_number": 20
    },
    {
     "cell_type": "markdown",
     "metadata": {},
     "source": [
      "Now print out some titles"
     ]
    },
    {
     "cell_type": "code",
     "collapsed": false,
     "input": [
      "for rec,item in csw.records.iteritems():\n",
      "    print item.title"
     ],
     "language": "python",
     "metadata": {},
     "outputs": [
      {
       "output_type": "stream",
       "stream": "stdout",
       "text": [
        "ROMS ESPRESSO Real-Time Operational IS4DVAR Forecast System Version 2 (NEW) 2013-present FMRC History (Best)\n",
        "ESTOFS Storm Surge Model ATLANTIC V1.0.0 NCEP - ADCIRC\n",
        "ROMS ESPRESSO Real-Time Operational IS4DVAR Forecast System Version 1 (OLD) 2009-2013 History\n"
       ]
      }
     ],
     "prompt_number": 21
    },
    {
     "cell_type": "markdown",
     "metadata": {},
     "source": [
      "Define a function that will return the endpoint for a specified service type"
     ]
    },
    {
     "cell_type": "code",
     "collapsed": false,
     "input": [
      "# get specific ServiceType URL from records\n",
      "def service_urls(records,service_string='urn:x-esri:specification:ServiceType:odp:url'):\n",
      "    urls=[]\n",
      "    for key,rec in records.iteritems():\n",
      "        #create a generator object, and iterate through it until the match is found\n",
      "        #if not found, gets the default value (here \"none\")\n",
      "        url = next((d['url'] for d in rec.references if d['scheme'] == service_string), None)\n",
      "        if url is not None:\n",
      "            urls.append(url)\n",
      "    return urls"
     ],
     "language": "python",
     "metadata": {},
     "outputs": [],
     "prompt_number": 22
    },
    {
     "cell_type": "markdown",
     "metadata": {},
     "source": [
      "Print out all the OPeNDAP Data URL endpoints"
     ]
    },
    {
     "cell_type": "code",
     "collapsed": false,
     "input": [
      "dap_urls = service_urls(csw.records,service_string='urn:x-esri:specification:ServiceType:odp:url')\n",
      "print \"\\n\".join(dap_urls)"
     ],
     "language": "python",
     "metadata": {},
     "outputs": [
      {
       "output_type": "stream",
       "stream": "stdout",
       "text": [
        "http://tds.marine.rutgers.edu/thredds/dodsC/roms/espresso/2013_da/his_Best/ESPRESSO_Real-Time_v2_History_Best_Available_best.ncd\n",
        "http://geoport-dev.whoi.edu/thredds/dodsC/estofs/atlantic\n",
        "http://tds.marine.rutgers.edu/thredds/dodsC/roms/espresso/2009_da/his\n"
       ]
      }
     ],
     "prompt_number": 23
    },
    {
     "cell_type": "code",
     "collapsed": false,
     "input": [
      "from collections import defaultdict\n",
      "\n",
      "def standard_names(ncv):\n",
      "    '''\n",
      "    get dictionary of variables with standard_names\n",
      "    '''\n",
      "    d = defaultdict(list)\n",
      "    for k,v in ncv.iteritems():\n",
      "        if 'standard_name' in v.ncattrs():\n",
      "            d[v.standard_name].append(k)\n",
      "    return d"
     ],
     "language": "python",
     "metadata": {},
     "outputs": [],
     "prompt_number": 24
    },
    {
     "cell_type": "code",
     "collapsed": false,
     "input": [
      "url='http://geoport-dev.whoi.edu/thredds/dodsC/estofs/atlantic'\n",
      "import iris\n",
      "a = iris.load_cube(url,'sea_surface_height_above_geoid')"
     ],
     "language": "python",
     "metadata": {},
     "outputs": [
      {
       "output_type": "stream",
       "stream": "stderr",
       "text": [
        "/home/local/python27_epd/lib/python2.7/site-packages/iris/fileformats/_pyke_rules/compiled_krb/fc_rules_cf_fc.py:1147: UserWarning: Ignoring netCDF variable 'nbdv' invalid units 'nondimensional'\n",
        "  warnings.warn(msg.format(msg_name, msg_units))\n",
        "/home/local/python27_epd/lib/python2.7/site-packages/iris/fileformats/_pyke_rules/compiled_krb/fc_rules_cf_fc.py:1147: UserWarning: Ignoring netCDF variable 'neta' invalid units 'nondimensional'\n",
        "  warnings.warn(msg.format(msg_name, msg_units))\n",
        "/home/local/python27_epd/lib/python2.7/site-packages/iris/fileformats/_pyke_rules/compiled_krb/fc_rules_cf_fc.py:1147: UserWarning: Ignoring netCDF variable 'ibtypee' invalid units 'nondimensional'\n",
        "  warnings.warn(msg.format(msg_name, msg_units))\n",
        "/home/local/python27_epd/lib/python2.7/site-packages/iris/fileformats/_pyke_rules/compiled_krb/fc_rules_cf_fc.py:1147: UserWarning: Ignoring netCDF variable 'nvell' invalid units 'nondimensional'\n",
        "  warnings.warn(msg.format(msg_name, msg_units))\n",
        "/home/local/python27_epd/lib/python2.7/site-packages/iris/fileformats/_pyke_rules/compiled_krb/fc_rules_cf_fc.py:1147: UserWarning: Ignoring netCDF variable 'ibtype' invalid units 'nondimensional'\n",
        "  warnings.warn(msg.format(msg_name, msg_units))\n",
        "/home/local/python27_epd/lib/python2.7/site-packages/iris/fileformats/_pyke_rules/compiled_krb/fc_rules_cf_fc.py:1147: UserWarning: Ignoring netCDF variable 'nbvv' invalid units 'nondimensional'\n",
        "  warnings.warn(msg.format(msg_name, msg_units))\n",
        "/home/local/python27_epd/lib/python2.7/site-packages/iris/fileformats/_pyke_rules/compiled_krb/fc_rules_cf_fc.py:1147: UserWarning: Ignoring netCDF variable 'nvel' invalid units 'nondimensional'\n",
        "  warnings.warn(msg.format(msg_name, msg_units))\n",
        "/home/local/python27_epd/lib/python2.7/site-packages/iris/fileformats/_pyke_rules/compiled_krb/fc_rules_cf_fc.py:1147: UserWarning: Ignoring netCDF variable 'nvdll' invalid units 'nondimensional'\n",
        "  warnings.warn(msg.format(msg_name, msg_units))\n"
       ]
      }
     ],
     "prompt_number": 25
    },
    {
     "cell_type": "code",
     "collapsed": false,
     "input": [
      "print a"
     ],
     "language": "python",
     "metadata": {},
     "outputs": [
      {
       "output_type": "stream",
       "stream": "stdout",
       "text": [
        "sea_surface_height_above_geoid / (m) (time: 330; -- : 254565)\n",
        "     Dimension coordinates:\n",
        "          time                            x         -\n",
        "     Auxiliary coordinates:\n",
        "          latitude                        -         x\n",
        "          longitude                       -         x\n",
        "     Attributes:\n",
        "          Conventions: UGRID-0.9\n",
        "          NCO: 20140308\n",
        "          a00: 0.35\n",
        "          b00: 0.3\n",
        "          c00: 0.35\n",
        "          cdm_data_type: ugrid\n",
        "          cf: 0.0025\n",
        "          comments: ESTOFS ATLANTIC V1.0.0\n",
        "          contact: yuji.funakoshi@noaa.gov\n",
        "          cori: 0.0\n",
        "          coverage_content_type: modelResult\n",
        "          creation_date: 2014-03-08 10:30:35  00:00\n",
        "          description: 2014030806\n",
        "          dramp: 0.0\n",
        "          dt: 5.0\n",
        "          eslm: 5.0\n",
        "          fort.15: ==== Input File Parameters (below) ====\n",
        "          grid: ec2001_v2e.grd\n",
        "          grid_type: Triangular\n",
        "          h0: 0.25\n",
        "          history: Sat Mar  8 06:21:01 2014: ncks -O -F -d time,1,6 estofs.atl.t06z.fields.cwl.nc...\n",
        "          host: CSDL/MMAP - NCEP/EMC\n",
        "          ics: 2\n",
        "          id: estofs/atlantic/1.1.0\n",
        "          ihot: 368\n",
        "          institution: CSDL/MMAP - NCEP/EMC\n",
        "          location: node\n",
        "          mesh: adcirc_mesh\n",
        "          model: ADCIRC\n",
        "          modification_date: 2014-03-08 10:40:20  00:00\n",
        "          nbfr: 10\n",
        "          ncor: 1\n",
        "          nolibf: 2\n",
        "          nolica: 0\n",
        "          nolicat: 0\n",
        "          nolifa: 2\n",
        "          nramp: 1\n",
        "          ntif: 8\n",
        "          ntip: 1\n",
        "          nwp: 0\n",
        "          nws: -5\n",
        "          references: http://www.adcirc.org\n",
        "          reftim: 0.0\n",
        "          rnday: 451.75\n",
        "          sfea0: 35.0\n",
        "          slam0: -79.0\n",
        "          source: IBM POWER 6 CIRRUS/STRATUS\n",
        "          statim: 0.0\n",
        "          summary: ESTOFS ATLANTIC V1.0.0 2D Storm Surge Model using the ADCIRC modeling system...\n",
        "          tau0: -5.0\n",
        "          title: ESTOFS Storm Surge Model - Atlantic - v1.0.0 - NCEP - ADCIRC\n",
        "          version: 49.82.10\n"
       ]
      }
     ],
     "prompt_number": 26
    },
    {
     "cell_type": "code",
     "collapsed": false,
     "input": [
      "for url in dap_urls:\n",
      "    try:\n",
      "        a = iris.load_cube(url,std_name)\n",
      "        print a\n",
      "    except:\n",
      "        pass"
     ],
     "language": "python",
     "metadata": {},
     "outputs": [
      {
       "output_type": "stream",
       "stream": "stdout",
       "text": [
        "sea_surface_height_above_geoid / (m) (time: 330; -- : 254565)\n",
        "     Dimension coordinates:\n",
        "          time                            x         -\n",
        "     Auxiliary coordinates:\n",
        "          latitude                        -         x\n",
        "          longitude                       -         x\n",
        "     Attributes:\n",
        "          Conventions: UGRID-0.9\n",
        "          NCO: 20140308\n",
        "          a00: 0.35\n",
        "          b00: 0.3\n",
        "          c00: 0.35\n",
        "          cdm_data_type: ugrid\n",
        "          cf: 0.0025\n",
        "          comments: ESTOFS ATLANTIC V1.0.0\n",
        "          contact: yuji.funakoshi@noaa.gov\n",
        "          cori: 0.0\n",
        "          coverage_content_type: modelResult\n",
        "          creation_date: 2014-03-08 10:30:35  00:00\n",
        "          description: 2014030806\n",
        "          dramp: 0.0\n",
        "          dt: 5.0\n",
        "          eslm: 5.0\n",
        "          fort.15: ==== Input File Parameters (below) ====\n",
        "          grid: ec2001_v2e.grd\n",
        "          grid_type: Triangular\n",
        "          h0: 0.25\n",
        "          history: Sat Mar  8 06:21:01 2014: ncks -O -F -d time,1,6 estofs.atl.t06z.fields.cwl.nc...\n",
        "          host: CSDL/MMAP - NCEP/EMC\n",
        "          ics: 2\n",
        "          id: estofs/atlantic/1.1.0\n",
        "          ihot: 368\n",
        "          institution: CSDL/MMAP - NCEP/EMC\n",
        "          location: node\n",
        "          mesh: adcirc_mesh\n",
        "          model: ADCIRC\n",
        "          modification_date: 2014-03-08 10:40:20  00:00\n",
        "          nbfr: 10\n",
        "          ncor: 1\n",
        "          nolibf: 2\n",
        "          nolica: 0\n",
        "          nolicat: 0\n",
        "          nolifa: 2\n",
        "          nramp: 1\n",
        "          ntif: 8\n",
        "          ntip: 1\n",
        "          nwp: 0\n",
        "          nws: -5\n",
        "          references: http://www.adcirc.org\n",
        "          reftim: 0.0\n",
        "          rnday: 451.75\n",
        "          sfea0: 35.0\n",
        "          slam0: -79.0\n",
        "          source: IBM POWER 6 CIRRUS/STRATUS\n",
        "          statim: 0.0\n",
        "          summary: ESTOFS ATLANTIC V1.0.0 2D Storm Surge Model using the ADCIRC modeling system...\n",
        "          tau0: -5.0\n",
        "          title: ESTOFS Storm Surge Model - Atlantic - v1.0.0 - NCEP - ADCIRC\n",
        "          version: 49.82.10\n"
       ]
      },
      {
       "output_type": "stream",
       "stream": "stderr",
       "text": [
        "/home/local/python27_epd/lib/python2.7/site-packages/iris/fileformats/_pyke_rules/compiled_krb/fc_rules_cf_fc.py:1216: UserWarning: Gracefully filling 'time' dimension coordinate masked points\n",
        "  warnings.warn(msg.format(str(cf_coord_var.cf_name)))\n"
       ]
      }
     ],
     "prompt_number": 27
    },
    {
     "cell_type": "code",
     "collapsed": false,
     "input": [
      "for url in dap_urls:\n",
      "    ncv = netCDF4.Dataset(url).variables\n",
      "    lat = ncv['lon'][:]\n",
      "    lon = ncv['lat'][:]\n",
      "    tvar = ncv['time']\n",
      "    istart = netCDF4.date2index(dt.datetime.strptime(start_date,'%Y-%m-%d'),tvar,select='nearest')\n",
      "    istop = netCDF4.date2index(dt.datetime.strptime(stop_date,'%Y-%m-%d'),tvar,select='nearest')\n",
      "    if istart != istop:\n",
      "        # make a dictionary containing all data from variables that matched the standard_name\n",
      "        # find list of variables for each standard_name\n",
      "        d = standard_names(ncv)\n",
      "        # find all the variables matching standard_name=std_name\n",
      "        print d[std_name]\n",
      "        # read all the data into a dictionary\n",
      "        data_dict={}\n",
      "        lev=0\n",
      "        for v in d[std_name]:\n",
      "            data_dict[v]=ncv[v][istart:istop].flatten()\n",
      "        # Create Pandas data frame, with time index\n",
      "        ts = pd.DataFrame.from_dict(data_dict)\n",
      "        dtime = netCDF4.num2date(tvar[istart:istop],tvar.units)\n",
      "        ts.index=dtime\n",
      "        ts.plot(figsize=(12,4));\n",
      "        title(std_name)"
     ],
     "language": "python",
     "metadata": {},
     "outputs": [
      {
       "ename": "KeyError",
       "evalue": "'lon'",
       "output_type": "pyerr",
       "traceback": [
        "\u001b[1;31m---------------------------------------------------------------------------\u001b[0m\n\u001b[1;31mKeyError\u001b[0m                                  Traceback (most recent call last)",
        "\u001b[1;32m<ipython-input-28-fe37646fee4b>\u001b[0m in \u001b[0;36m<module>\u001b[1;34m()\u001b[0m\n\u001b[0;32m      1\u001b[0m \u001b[1;32mfor\u001b[0m \u001b[0murl\u001b[0m \u001b[1;32min\u001b[0m \u001b[0mdap_urls\u001b[0m\u001b[1;33m:\u001b[0m\u001b[1;33m\u001b[0m\u001b[0m\n\u001b[0;32m      2\u001b[0m     \u001b[0mncv\u001b[0m \u001b[1;33m=\u001b[0m \u001b[0mnetCDF4\u001b[0m\u001b[1;33m.\u001b[0m\u001b[0mDataset\u001b[0m\u001b[1;33m(\u001b[0m\u001b[0murl\u001b[0m\u001b[1;33m)\u001b[0m\u001b[1;33m.\u001b[0m\u001b[0mvariables\u001b[0m\u001b[1;33m\u001b[0m\u001b[0m\n\u001b[1;32m----> 3\u001b[1;33m     \u001b[0mlat\u001b[0m \u001b[1;33m=\u001b[0m \u001b[0mncv\u001b[0m\u001b[1;33m[\u001b[0m\u001b[1;34m'lon'\u001b[0m\u001b[1;33m]\u001b[0m\u001b[1;33m[\u001b[0m\u001b[1;33m:\u001b[0m\u001b[1;33m]\u001b[0m\u001b[1;33m\u001b[0m\u001b[0m\n\u001b[0m\u001b[0;32m      4\u001b[0m     \u001b[0mlon\u001b[0m \u001b[1;33m=\u001b[0m \u001b[0mncv\u001b[0m\u001b[1;33m[\u001b[0m\u001b[1;34m'lat'\u001b[0m\u001b[1;33m]\u001b[0m\u001b[1;33m[\u001b[0m\u001b[1;33m:\u001b[0m\u001b[1;33m]\u001b[0m\u001b[1;33m\u001b[0m\u001b[0m\n\u001b[0;32m      5\u001b[0m     \u001b[0mtvar\u001b[0m \u001b[1;33m=\u001b[0m \u001b[0mncv\u001b[0m\u001b[1;33m[\u001b[0m\u001b[1;34m'time'\u001b[0m\u001b[1;33m]\u001b[0m\u001b[1;33m\u001b[0m\u001b[0m\n",
        "\u001b[1;31mKeyError\u001b[0m: 'lon'"
       ]
      }
     ],
     "prompt_number": 28
    },
    {
     "cell_type": "code",
     "collapsed": false,
     "input": [],
     "language": "python",
     "metadata": {},
     "outputs": []
    },
    {
     "cell_type": "code",
     "collapsed": false,
     "input": [],
     "language": "python",
     "metadata": {},
     "outputs": []
    }
   ],
   "metadata": {}
  }
 ]
}