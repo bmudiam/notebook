{
 "metadata": {
  "name": "",
  "signature": "sha256:86e9a038e1647dff3ba1fa091a4fee11665fc214def097e7a43c619ad2f2224f"
 },
 "nbformat": 3,
 "nbformat_minor": 0,
 "worksheets": [
  {
   "cells": [
    {
     "cell_type": "markdown",
     "metadata": {},
     "source": [
      "#IOOS System Test: [Extreme Events Theme](https://github.com/ioos/system-test/wiki/Development-of-Test-Themes#wiki-theme-2-extreme-events):  Inundation\n",
      "\n",
      "###Compare modeled water levels with observations for a specified bounding box and time period using IOOS recommended service standards for catalog search (CSW) and data retrieval (OPeNDAP & SOS). <p>\n",
      "\n",
      "* Query CSW to find datasets that match criteria\n",
      "* Extract OPeNDAP data endpoints from model datasets and SOS endpoints from observational datasets\n",
      "* OPeNDAP model datasets will be granules\n",
      "* SOS endpoints may be datasets (from ncSOS) or collections of datasets (from NDBC, CO-OPS SOS servers)\n",
      "* Filter SOS services to obtain datasets\n",
      "* Extract data from SOS datasets\n",
      "* Extract data from model datasets at locations of observations\n",
      "* Compare time series data on same vertical datum\n"
     ]
    },
    {
     "cell_type": "code",
     "collapsed": false,
     "input": [
      "from pylab import *\n",
      "from owslib.csw import CatalogueServiceWeb\n",
      "from owslib import fes\n",
      "import random\n",
      "import netCDF4\n",
      "import pandas as pd\n",
      "import datetime as dt\n",
      "from pyoos.collectors.coops.coops_sos import CoopsSos\n",
      "import cStringIO\n",
      "import iris"
     ],
     "language": "python",
     "metadata": {
      "input_collapsed": false
     },
     "outputs": [],
     "prompt_number": 326
    },
    {
     "cell_type": "markdown",
     "metadata": {},
     "source": [
      "### Specify a bounding box and time range of interest:"
     ]
    },
    {
     "cell_type": "code",
     "collapsed": false,
     "input": [
      "box=[-74.4751, 40.3890, -73.7432, 40.9397]\n",
      "#box=[-76.4751, 38.3890, -71.7432, 42.9397]\n",
      "\n",
      "#box=[-180, -90, 180, 90]\n",
      "\n",
      "# specific specific times (UTC) ...\n",
      "\n",
      "# hurricane sandy\n",
      "jd_start = dt.datetime(2012,10,26)\n",
      "jd_stop = dt.datetime(2012,11,2)\n",
      "\n",
      "# 2014 feb 10-15 storm\n",
      "jd_start = dt.datetime(2014,2,10)\n",
      "jd_stop = dt.datetime(2014,2,15)\n",
      "\n",
      "# 2014 recent\n",
      "jd_start = dt.datetime(2014,3,8)\n",
      "jd_stop = dt.datetime(2014,3,11)\n",
      "\n",
      "# 2011 \n",
      "#jd_start = dt.datetime(2013,4,20)\n",
      "#jd_stop = dt.datetime(2013,4,24)\n",
      "\n",
      "# ... or relative to now\n",
      "#jd_start = dt.datetime.utcnow()- dt.timedelta(days=3)\n",
      "#jd_stop = dt.datetime.utcnow() + dt.timedelta(days=3)\n",
      "\n",
      "start_date = jd_start.strftime('%Y-%m-%d %H:%M')\n",
      "stop_date  = jd_stop.strftime('%Y-%m-%d %H:%M')\n",
      "print start_date,'to',stop_date\n",
      "\n",
      "std_name = 'sea_surface_height_above_geoid'\n",
      "sos_name = 'water_surface_height_above_reference_datum'"
     ],
     "language": "python",
     "metadata": {},
     "outputs": [
      {
       "output_type": "stream",
       "stream": "stdout",
       "text": [
        "2014-03-08 00:00 to 2014-03-11 00:00\n"
       ]
      }
     ],
     "prompt_number": 327
    },
    {
     "cell_type": "markdown",
     "metadata": {},
     "source": [
      "### Get observations from SOS"
     ]
    },
    {
     "cell_type": "code",
     "collapsed": false,
     "input": [
      "collector = CoopsSos()"
     ],
     "language": "python",
     "metadata": {},
     "outputs": [],
     "prompt_number": 328
    },
    {
     "cell_type": "code",
     "collapsed": false,
     "input": [
      "collector.server.identification.title"
     ],
     "language": "python",
     "metadata": {},
     "outputs": [
      {
       "metadata": {},
       "output_type": "pyout",
       "prompt_number": 329,
       "text": [
        "'NOAA.NOS.CO-OPS SOS'"
       ]
      }
     ],
     "prompt_number": 329
    },
    {
     "cell_type": "code",
     "collapsed": false,
     "input": [
      "collector.start_time = jd_start\n",
      "collector.end_time = jd_stop\n",
      "collector.variables = [sos_name]"
     ],
     "language": "python",
     "metadata": {},
     "outputs": [],
     "prompt_number": 330
    },
    {
     "cell_type": "code",
     "collapsed": false,
     "input": [
      "ofrs = collector.server.offerings"
     ],
     "language": "python",
     "metadata": {},
     "outputs": [],
     "prompt_number": 331
    },
    {
     "cell_type": "code",
     "collapsed": false,
     "input": [
      "print len(ofrs)\n",
      "for p in ofrs[700:710]: print p"
     ],
     "language": "python",
     "metadata": {},
     "outputs": [
      {
       "output_type": "stream",
       "stream": "stdout",
       "text": [
        "1018\n",
        "Offering id: station-8447387, name: urn:ioos:station:NOAA.NOS.CO-OPS:8447387\n",
        "Offering id: station-8447435, name: urn:ioos:station:NOAA.NOS.CO-OPS:8447435\n",
        "Offering id: station-8447930, name: urn:ioos:station:NOAA.NOS.CO-OPS:8447930\n",
        "Offering id: station-8449130, name: urn:ioos:station:NOAA.NOS.CO-OPS:8449130\n",
        "Offering id: station-8452660, name: urn:ioos:station:NOAA.NOS.CO-OPS:8452660\n",
        "Offering id: station-8452944, name: urn:ioos:station:NOAA.NOS.CO-OPS:8452944\n",
        "Offering id: station-8452951, name: urn:ioos:station:NOAA.NOS.CO-OPS:8452951\n",
        "Offering id: station-8454000, name: urn:ioos:station:NOAA.NOS.CO-OPS:8454000\n",
        "Offering id: station-8454049, name: urn:ioos:station:NOAA.NOS.CO-OPS:8454049\n",
        "Offering id: station-8461490, name: urn:ioos:station:NOAA.NOS.CO-OPS:8461490\n"
       ]
      }
     ],
     "prompt_number": 332
    },
    {
     "cell_type": "markdown",
     "metadata": {},
     "source": [
      "### Find the SOS stations within our bounding box and time extent\n",
      "We would like to just use a filter on a collection to get a new collection, but PYOOS doesn't do that yet. So instead of using the code below, we do a GetObservation request for a collection, with a bounding box, but only ask for 1 point (the starting point of the time period of interest).  We use that to do a bounding box filter on the SOS server, which returns 1 point for each station found.  So for 3 stations, we get back 3 records, in CSV format.  We can strip the station ids from the CSV, and then we have a list of stations we can use with pyoos.  The template for the GetObservation query for the bounding box filtered collection was generated using the GUI at http://opendap.co-ops.nos.noaa.gov/ioos-dif-sos/"
     ]
    },
    {
     "cell_type": "raw",
     "metadata": {},
     "source": [
      "# this doesn't work\n",
      "# try to filter offerings based on bounding box\n",
      "colfilt = collector.filter(bbox=tuple(box))\n",
      "ofrs2 = colfilt.server.offerings\n",
      "print len(ofrs2)\n",
      "#for p in ofrs: print p"
     ]
    },
    {
     "cell_type": "code",
     "collapsed": false,
     "input": [
      "iso_start = jd_start.strftime('%Y-%m-%dT%H:%M:%SZ')\n",
      "print iso_start\n",
      "box_str=','.join(str(e) for e in box)\n",
      "print box_str"
     ],
     "language": "python",
     "metadata": {},
     "outputs": [
      {
       "output_type": "stream",
       "stream": "stdout",
       "text": [
        "2014-03-08T00:00:00Z\n",
        "-76.4751,38.389,-71.7432,42.9397\n"
       ]
      }
     ],
     "prompt_number": 333
    },
    {
     "cell_type": "code",
     "collapsed": false,
     "input": [
      "url=('http://opendap.co-ops.nos.noaa.gov/ioos-dif-sos/SOS?'\n",
      "     'service=SOS&request=GetObservation&version=1.0.0&'\n",
      "     'observedProperty=%s&offering=urn:ioos:network:NOAA.NOS.CO-OPS:WaterLevelActive&'\n",
      "     'featureOfInterest=BBOX:%s&responseFormat=text/csv&eventTime=%s&'\n",
      "     'result=VerticalDatum==urn:ogc:def:datum:epsg::5103&'\n",
      "     'dataType=VerifiedSixMinute') % (sos_name,box_str,iso_start)\n",
      "obs_loc_df = pd.read_csv(url)\n"
     ],
     "language": "python",
     "metadata": {},
     "outputs": [],
     "prompt_number": 334
    },
    {
     "cell_type": "code",
     "collapsed": false,
     "input": [
      "obs_loc_df.head()"
     ],
     "language": "python",
     "metadata": {},
     "outputs": [
      {
       "html": [
        "<div style=\"max-height:1000px;max-width:1500px;overflow:auto;\">\n",
        "<table border=\"1\" class=\"dataframe\">\n",
        "  <thead>\n",
        "    <tr style=\"text-align: right;\">\n",
        "      <th></th>\n",
        "      <th>station_id</th>\n",
        "      <th>sensor_id</th>\n",
        "      <th>latitude (degree)</th>\n",
        "      <th>longitude (degree)</th>\n",
        "      <th>date_time</th>\n",
        "      <th>water_surface_height_above_reference_datum (m)</th>\n",
        "      <th>datum_id</th>\n",
        "      <th>vertical_position (m)</th>\n",
        "    </tr>\n",
        "  </thead>\n",
        "  <tbody>\n",
        "    <tr>\n",
        "      <th>0</th>\n",
        "      <td> urn:ioos:station:NOAA.NOS.CO-OPS:8531680</td>\n",
        "      <td> urn:ioos:sensor:NOAA.NOS.CO-OPS:8531680:W1</td>\n",
        "      <td> 40.4669</td>\n",
        "      <td>-74.0094</td>\n",
        "      <td> 2014-03-08T00:00:00Z</td>\n",
        "      <td>-0.471</td>\n",
        "      <td> urn:ogc:def:datum:epsg::5103</td>\n",
        "      <td> 1.624</td>\n",
        "    </tr>\n",
        "    <tr>\n",
        "      <th>1</th>\n",
        "      <td> urn:ioos:station:NOAA.NOS.CO-OPS:8534720</td>\n",
        "      <td> urn:ioos:sensor:NOAA.NOS.CO-OPS:8534720:W1</td>\n",
        "      <td> 39.3550</td>\n",
        "      <td>-74.4183</td>\n",
        "      <td> 2014-03-08T00:00:00Z</td>\n",
        "      <td>-0.285</td>\n",
        "      <td> urn:ogc:def:datum:epsg::5103</td>\n",
        "      <td> 2.308</td>\n",
        "    </tr>\n",
        "  </tbody>\n",
        "</table>\n",
        "<p>2 rows \u00d7 8 columns</p>\n",
        "</div>"
       ],
       "metadata": {},
       "output_type": "pyout",
       "prompt_number": 335,
       "text": [
        "                                 station_id  \\\n",
        "0  urn:ioos:station:NOAA.NOS.CO-OPS:8531680   \n",
        "1  urn:ioos:station:NOAA.NOS.CO-OPS:8534720   \n",
        "\n",
        "                                    sensor_id  latitude (degree)  \\\n",
        "0  urn:ioos:sensor:NOAA.NOS.CO-OPS:8531680:W1            40.4669   \n",
        "1  urn:ioos:sensor:NOAA.NOS.CO-OPS:8534720:W1            39.3550   \n",
        "\n",
        "   longitude (degree)             date_time  \\\n",
        "0            -74.0094  2014-03-08T00:00:00Z   \n",
        "1            -74.4183  2014-03-08T00:00:00Z   \n",
        "\n",
        "   water_surface_height_above_reference_datum (m)  \\\n",
        "0                                          -0.471   \n",
        "1                                          -0.285   \n",
        "\n",
        "                       datum_id  vertical_position (m)  \n",
        "0  urn:ogc:def:datum:epsg::5103                  1.624  \n",
        "1  urn:ogc:def:datum:epsg::5103                  2.308  \n",
        "\n",
        "[2 rows x 8 columns]"
       ]
      }
     ],
     "prompt_number": 335
    },
    {
     "cell_type": "code",
     "collapsed": false,
     "input": [
      "stations = [sta.split(':')[-1] for sta in obs_loc_df['station_id']]\n",
      "print stations\n",
      "obs_lon = [sta for sta in obs_loc_df['longitude (degree)']]\n",
      "obs_lat = [sta for sta in obs_loc_df['latitude (degree)']]\n",
      "print obs_lon\n",
      "print obs_lat"
     ],
     "language": "python",
     "metadata": {},
     "outputs": [
      {
       "output_type": "stream",
       "stream": "stdout",
       "text": [
        "['8531680', '8534720']\n",
        "[-74.009399999999999, -74.418300000000002]\n",
        "[40.466900000000003, 39.354999999999997]\n"
       ]
      }
     ],
     "prompt_number": 336
    },
    {
     "cell_type": "code",
     "collapsed": false,
     "input": [
      "def coops2df(collector,coops_id,sos_name):\n",
      "    collector.features = [coops_id]\n",
      "    collector.variables = [sos_name]\n",
      "    response = collector.raw(responseFormat=\"text/csv\")\n",
      "    data_df = pd.read_csv(cStringIO.StringIO(str(response)), parse_dates=True, index_col='date_time')\n",
      "    data_df['lev']=data_df['water_surface_height_above_reference_datum (m)']-data_df['vertical_position (m)']\n",
      "    return data_df"
     ],
     "language": "python",
     "metadata": {
      "input_collapsed": true
     },
     "outputs": [],
     "prompt_number": 337
    },
    {
     "cell_type": "code",
     "collapsed": false,
     "input": [
      "obs_df = [coops2df(collector,sta,sos_name) for sta in stations]\n",
      "    "
     ],
     "language": "python",
     "metadata": {},
     "outputs": [],
     "prompt_number": 338
    },
    {
     "cell_type": "code",
     "collapsed": false,
     "input": [
      "obs_df[0]['lev'].plot()"
     ],
     "language": "python",
     "metadata": {},
     "outputs": [
      {
       "metadata": {},
       "output_type": "pyout",
       "prompt_number": 339,
       "text": [
        "<matplotlib.axes.AxesSubplot at 0x8d16750>"
       ]
      },
      {
       "metadata": {},
       "output_type": "display_data",
       "png": "[encoded data removed]",
       "text": [
        "<matplotlib.figure.Figure at 0x8d16e10>"
       ]
      }
     ],
     "prompt_number": 339
    },
    {
     "cell_type": "markdown",
     "metadata": {},
     "source": [
      "### Search CSW for datasets of interest"
     ]
    },
    {
     "cell_type": "code",
     "collapsed": false,
     "input": [
      "#from IPython.core.display import HTML\n",
      "#HTML('<iframe src=http://www.ngdc.noaa.gov/geoportal/ width=950 height=400></iframe>')"
     ],
     "language": "python",
     "metadata": {},
     "outputs": [],
     "prompt_number": 340
    },
    {
     "cell_type": "code",
     "collapsed": false,
     "input": [
      "# connect to CSW, explore it's properties\n",
      "\n",
      "endpoint = 'http://www.ngdc.noaa.gov/geoportal/csw' # NGDC Geoportal\n",
      "#endpoint = 'http://geoport.whoi.edu/geoportal/csw'  # USGS WHSC Geoportal\n",
      "\n",
      "#endpoint = 'http://www.nodc.noaa.gov/geoportal/csw'   # NODC Geoportal: granule level\n",
      "#endpoint = 'http://data.nodc.noaa.gov/geoportal/csw'  # NODC Geoportal: collection level   \n",
      "#endpoint = 'http://geodiscover.cgdi.ca/wes/serviceManagerCSW/csw'  # NRCAN CUSTOM\n",
      "#endpoint = 'http://geoport.whoi.edu/gi-cat/services/cswiso' # USGS Woods Hole GI_CAT\n",
      "#endpoint = 'http://cida.usgs.gov/gdp/geonetwork/srv/en/csw' # USGS CIDA Geonetwork\n",
      "#endpoint = 'http://cmgds.marine.usgs.gov/geonetwork/srv/en/csw' # USGS Coastal and Marine Program\n",
      "#endpoint = 'http://geoport.whoi.edu/geoportal/csw' # USGS Woods Hole Geoportal \n",
      "#endpoint = 'http://geo.gov.ckan.org/csw'  # CKAN testing site for new Data.gov\n",
      "#endpoint = 'https://edg.epa.gov/metadata/csw'  # EPA\n",
      "#endpoint = 'http://cwic.csiss.gmu.edu/cwicv1/discovery'  # CWIC\n",
      "\n",
      "csw = CatalogueServiceWeb(endpoint,timeout=60)\n",
      "csw.version"
     ],
     "language": "python",
     "metadata": {},
     "outputs": [
      {
       "metadata": {},
       "output_type": "pyout",
       "prompt_number": 341,
       "text": [
        "'2.0.2'"
       ]
      }
     ],
     "prompt_number": 341
    },
    {
     "cell_type": "code",
     "collapsed": false,
     "input": [
      "for oper in csw.operations:\n",
      "    if oper.name == 'GetRecords':\n",
      "        print '\\nISO Queryables:\\n',oper.constraints['SupportedISOQueryables']['values']"
     ],
     "language": "python",
     "metadata": {},
     "outputs": [
      {
       "output_type": "stream",
       "stream": "stdout",
       "text": [
        "\n",
        "ISO Queryables:\n",
        "['apiso:Subject', 'apiso:Title', 'apiso:Abstract', 'apiso:AnyText', 'apiso:Format', 'apiso:Identifier', 'apiso:Modified', 'apiso:Type', 'apiso:BoundingBox', 'apiso:CRS.Authority', 'apiso:CRS.ID', 'apiso:CRS.Version', 'apiso:RevisionDate', 'apiso:AlternateTitle', 'apiso:CreationDate', 'apiso:PublicationDate', 'apiso:OrganizationName', 'apiso:HasSecurityConstraints', 'apiso:Language', 'apiso:ResourceIdentifier', 'apiso:ParentIdentifier', 'apiso:KeywordType', 'apiso:TopicCategory', 'apiso:ResourceLanguage', 'apiso:GeographicDescriptionCode', 'apiso:Denominator', 'apiso:DistanceValue', 'apiso:DistanceUOM', 'apiso:TempExtent_begin', 'apiso:TempExtent_end', 'apiso:ServiceType', 'apiso:ServiceTypeVersion', 'apiso:Operation', 'apiso:OperatesOn', 'apiso:OperatesOnIdentifier', 'apiso:OperatesOnName', 'apiso:CouplingType']\n"
       ]
      }
     ],
     "prompt_number": 342
    },
    {
     "cell_type": "code",
     "collapsed": false,
     "input": [
      "# hopefully something like this will be implemented in fes soon\n",
      "def dateRange(start_date='1900-01-01',stop_date='2100-01-01',constraint='overlaps'):\n",
      "    if constraint == 'overlaps':\n",
      "        start = fes.PropertyIsLessThanOrEqualTo(propertyname='apiso:TempExtent_begin', literal=stop_date)\n",
      "        stop = fes.PropertyIsGreaterThanOrEqualTo(propertyname='apiso:TempExtent_end', literal=start_date)\n",
      "    elif constraint == 'within':\n",
      "        start = fes.PropertyIsGreaterThanOrEqualTo(propertyname='apiso:TempExtent_begin', literal=start_date)\n",
      "        stop = fes.PropertyIsLessThanOrEqualTo(propertyname='apiso:TempExtent_end', literal=stop_date)\n",
      "    return start,stop"
     ],
     "language": "python",
     "metadata": {},
     "outputs": [],
     "prompt_number": 343
    },
    {
     "cell_type": "code",
     "collapsed": false,
     "input": [
      "stop_date"
     ],
     "language": "python",
     "metadata": {},
     "outputs": [
      {
       "metadata": {},
       "output_type": "pyout",
       "prompt_number": 344,
       "text": [
        "'2014-03-11 00:00'"
       ]
      }
     ],
     "prompt_number": 344
    },
    {
     "cell_type": "code",
     "collapsed": false,
     "input": [
      "# convert User Input into FES filters\n",
      "start,stop = dateRange(start_date,stop_date)\n",
      "bbox = fes.BBox(box)\n",
      "keywords = fes.PropertyIsLike(propertyname='AnyText', literal=('*%s*' % std_name))\n",
      "#keywords = fes.PropertyIsLike(propertyname='apiso:Keywords', literal=std_name)\n",
      "#keywords = fes.PropertyIsEqualTo(propertyname='apiso:Keywords', literal=std_name)\n",
      "#serviceType = fes.PropertyIsLike(propertyname='apiso:ServiceType', literal=('*%s*' % service_type))\n",
      "#serviceType = fes.PropertyIsEqualTo(propertyname='apiso:ServiceType', literal=service_type)\n",
      "\n"
     ],
     "language": "python",
     "metadata": {},
     "outputs": [],
     "prompt_number": 345
    },
    {
     "cell_type": "code",
     "collapsed": false,
     "input": [
      "std_name_list=['water_surface_height_above_reference_datum',\n",
      "    'sea_surface_height_above_geoid','sea_surface_elevation',\n",
      "    'sea_surface_height_above_reference_ellipsoid','sea_surface_height_above_sea_level',\n",
      "    'sea_surface_height']\n",
      "filt0=[]\n",
      "for val in std_name_list:\n",
      "    filt0.append(fes.PropertyIsLike(propertyname='apiso:AnyText', \n",
      "                literal=('*%s*' % val),escapeChar='\\\\',wildCard='*',singleChar='?'))\n",
      "\n",
      "val = 'height'\n",
      "filter2=fes.PropertyIsLike(propertyname='apiso:AnyText',literal=('*%s*' % val),\n",
      "                        escapeChar='\\\\',wildCard='*',singleChar='?')\n",
      "\n",
      "val = 'SELFE'\n",
      "filt=fes.PropertyIsLike(propertyname='apiso:AnyText',literal=('*%s*' % val),\n",
      "                        escapeChar='\\\\',wildCard='*',singleChar='?')\n",
      "filter3 = fes.Not([filt])\n",
      "\n",
      "val = 'Averages'\n",
      "filt=fes.PropertyIsLike(propertyname='apiso:AnyText',literal=('*%s*' % val),\n",
      "                        escapeChar='\\\\',wildCard='*',singleChar='?')\n",
      "filter4 = fes.Not([filt])\n",
      "\n",
      "filter_list = [fes.And([ filter4, bbox, start, stop]), fes.Or(filt0) ]\n",
      "#filter_list = [fes.And([ filter2, filter3, filter4, bbox, start])]\n",
      "\n",
      "#filter_list = [fes.And([ serviceType, start,stop, bbox])]\n",
      "#filter_list = [fes.And([  filter2,bbox,serviceType])]\n"
     ],
     "language": "python",
     "metadata": {},
     "outputs": [],
     "prompt_number": 346
    },
    {
     "cell_type": "code",
     "collapsed": false,
     "input": [
      "# try request using multiple filters \"and\" syntax: [[filter1,filter2]]\n",
      "csw.getrecords2(constraints=filter_list,maxrecords=20,esn='full')\n",
      "print len(csw.records.keys())\n",
      "print csw.records.keys()"
     ],
     "language": "python",
     "metadata": {},
     "outputs": [
      {
       "output_type": "stream",
       "stream": "stdout",
       "text": [
        "20\n",
        "['National Data Buoy Center SOS', 'WW3/Forecasts/GulfOfMaine.nc', 'Weatherflow, Inc. SOS', 'DBOFS/fmrc/Aggregated_7_day_DBOFS_Fields_Forecast_best.ncd', 'CeNCOOS 52N SOS', 'gov.noaa.ngdc.mgg.geophysical_models:Magnetic_Field_Grid_Calculator', 'gom3_nocache', 'CBOFS/fmrc/Aggregated_7_day_CBOFS_Fields_Forecast_best.ncd', 'gov.noaa.ngdc.mgg.geophysical_models:EMM2010', 'MODIS-Agg', 'gov.noaa.ngdc.mgg.geophysical_models:Declination_Calculator', 'onomads/rtofs/rtofs_volume_agg/best', 'gov.noaa.ngdc.stp.swx:satellite-systems_dscovr', 'WW3/Forecasts/NorthAtlantic.nc', 'roms/espresso/2013_da/his_Best/ESPRESSO_Real-Time_v2_History_Best_Available_best.ncd', 'WW3/Forecasts/EastCoast.nc', 'gov.noaa.ngdc.mgg.geophysical_models:US_Historic_Declination_Calculator', 'NYOFS/fmrc/Aggregated_7_day_NYOFS_Fields_Forecast_best.ncd', 'onomads/rtofs/rtofs_surface_agg/best', 'necofs_gom3_wave']\n"
       ]
      }
     ],
     "prompt_number": 347
    },
    {
     "cell_type": "markdown",
     "metadata": {},
     "source": [
      "Now print out some titles"
     ]
    },
    {
     "cell_type": "code",
     "collapsed": false,
     "input": [
      "for rec,item in csw.records.iteritems():\n",
      "    print item.title"
     ],
     "language": "python",
     "metadata": {},
     "outputs": [
      {
       "output_type": "stream",
       "stream": "stdout",
       "text": [
        "National Data Buoy Center SOS\n",
        "BIO WW III Forecasts/GulfOfMaine.nc\n",
        "Weatherflow, Inc. SOS\n",
        "DBOFS - Delaware Bay Operational Forecast System - NOAA CO-OPS - POM\n",
        "CeNCOOS 52N SOS\n",
        "Magnetic Field Grid Calculator\n",
        "NECOFS GOM3 (FVCOM) - Northeast US - Latest Forecast\n",
        "CBOFS - Chesapeake Bay Operational Forecast System - NOAA CO-OPS - POM\n",
        "Enhanced Magnetic Model 2010\n",
        "MODIS/MODIS-Complete Aggregation\n",
        "Declination Calculator\n",
        "RTOFS Volume/Best Timeseries\n",
        "Deep Space Climate Observatory (DSCOVR)\n",
        "BIO WW III Forecasts/NorthAtlantic.nc\n",
        "ROMS ESPRESSO Real-Time Operational IS4DVAR Forecast System Version 2 (NEW) 2013-present FMRC History (Best)\n",
        "BIO WW III Forecasts/EastCoast.nc\n",
        "US Historic Declination Calculator\n",
        "NYOFS - New York and New Jersey Operational Forecast System - NOAA CO-OPS - POM\n",
        "RTOFS Surface/Best Timeseries\n",
        "NECOFS GOM3 Wave - Northeast US - Latest Forecast\n"
       ]
      }
     ],
     "prompt_number": 349
    },
    {
     "cell_type": "markdown",
     "metadata": {},
     "source": [
      "Define a function that will return the endpoint for a specified service type"
     ]
    },
    {
     "cell_type": "code",
     "collapsed": false,
     "input": [
      "# get specific ServiceType URL from records\n",
      "def service_urls(records,service_string='urn:x-esri:specification:ServiceType:odp:url'):\n",
      "    urls=[]\n",
      "    for key,rec in records.iteritems():\n",
      "        #create a generator object, and iterate through it until the match is found\n",
      "        #if not found, gets the default value (here \"none\")\n",
      "        url = next((d['url'] for d in rec.references if d['scheme'] == service_string), None)\n",
      "        if url is not None:\n",
      "            urls.append(url)\n",
      "    return urls"
     ],
     "language": "python",
     "metadata": {},
     "outputs": [],
     "prompt_number": 350
    },
    {
     "cell_type": "markdown",
     "metadata": {},
     "source": [
      "Print out all the OPeNDAP Data URL endpoints"
     ]
    },
    {
     "cell_type": "code",
     "collapsed": false,
     "input": [
      "dap_urls = service_urls(csw.records,service_string='urn:x-esri:specification:ServiceType:odp:url')\n",
      "print \"\\n\".join(dap_urls)"
     ],
     "language": "python",
     "metadata": {},
     "outputs": [
      {
       "output_type": "stream",
       "stream": "stdout",
       "text": [
        "http://www.neracoos.org/thredds/dodsC/WW3/GulfOfMaine.nc\n",
        "http://opendap.co-ops.nos.noaa.gov/thredds/dodsC/DBOFS/fmrc/Aggregated_7_day_DBOFS_Fields_Forecast_best.ncd\n",
        "http://www.smast.umassd.edu:8080/thredds/dodsC/FVCOM/NECOFS/Forecasts/NECOFS_GOM3_FORECAST.nc\n",
        "http://opendap.co-ops.nos.noaa.gov/thredds/dodsC/CBOFS/fmrc/Aggregated_7_day_CBOFS_Fields_Forecast_best.ncd\n",
        "http://tds.maracoos.org/thredds/dodsC/MODIS-Agg.nc\n",
        "http://ecowatch.ncddc.noaa.gov/thredds/dodsC/onomads/rtofs/rtofs_volume_agg/best\n",
        "http://www.neracoos.org/thredds/dodsC/WW3/NorthAtlantic.nc\n",
        "http://tds.marine.rutgers.edu/thredds/dodsC/roms/espresso/2013_da/his_Best/ESPRESSO_Real-Time_v2_History_Best_Available_best.ncd\n",
        "http://www.neracoos.org/thredds/dodsC/WW3/EastCoast.nc\n",
        "http://opendap.co-ops.nos.noaa.gov/thredds/dodsC/NYOFS/fmrc/Aggregated_7_day_NYOFS_Fields_Forecast_best.ncd\n",
        "http://ecowatch.ncddc.noaa.gov/thredds/dodsC/onomads/rtofs/rtofs_surface_agg/best\n",
        "http://www.smast.umassd.edu:8080/thredds/dodsC/FVCOM/NECOFS/Forecasts/NECOFS_WAVE_FORECAST.nc\n"
       ]
      }
     ],
     "prompt_number": 351
    },
    {
     "cell_type": "code",
     "collapsed": false,
     "input": [
      "def nearxy(x,y,xi,yi):\n",
      "    ind=ones(len(xi),dtype=int)\n",
      "    dd=ones(len(xi),dtype='float')\n",
      "    for i in arange(len(xi)):\n",
      "        dist=sqrt((x-xi[i])**2+(y-yi[i])**2)\n",
      "        ind[i]=dist.argmin()\n",
      "        dd[i]=dist[ind[i]]\n",
      "    return ind,dd"
     ],
     "language": "python",
     "metadata": {
      "input_collapsed": true
     },
     "outputs": [],
     "prompt_number": 352
    },
    {
     "cell_type": "code",
     "collapsed": false,
     "input": [
      "def find_ij(x,y,d,xi,yi):\n",
      "    \"\"\"\n",
      "    find non-NaN cell d[j,i] that are closest to xi,yi.\n",
      "    \"\"\"\n",
      "    index = where(~isnan(d.flatten()))[0]\n",
      "    ind,dd = nearxy(x.flatten()[index],y.flatten()[index],xi,yi)\n",
      "    j,i=ind2ij(x,index[ind])\n",
      "    return i,j,dd\n",
      "    "
     ],
     "language": "python",
     "metadata": {},
     "outputs": [],
     "prompt_number": 390
    },
    {
     "cell_type": "code",
     "collapsed": false,
     "input": [
      "def find_timevar(cube):\n",
      "    try:\n",
      "        cube.coord(axis='T').rename('time')\n",
      "    except:\n",
      "        pass\n",
      "    timevar = cube.coord('time')\n",
      "    return timevar\n",
      "    "
     ],
     "language": "python",
     "metadata": {
      "input_collapsed": true
     },
     "outputs": [],
     "prompt_number": 354
    },
    {
     "cell_type": "code",
     "collapsed": false,
     "input": [
      "def ind2ij(a,index):\n",
      "    \"\"\"\n",
      "    returns a[j,i] for a.ravel()[index]\n",
      "    \"\"\"\n",
      "    n,m = shape(lon)\n",
      "    j = ceil(index/m).astype(int)\n",
      "    i = remainder(index,m)\n",
      "    return i,j"
     ],
     "language": "python",
     "metadata": {
      "input_collapsed": true
     },
     "outputs": [],
     "prompt_number": 355
    },
    {
     "cell_type": "code",
     "collapsed": false,
     "input": [
      "ts_rng = pd.date_range(start=jd_start, end=jd_stop, freq='6Min')\n",
      "ts = pd.DataFrame(index=ts_rng)\n",
      "print jd_start,jd_stop\n",
      "print len(ts)"
     ],
     "language": "python",
     "metadata": {},
     "outputs": [
      {
       "output_type": "stream",
       "stream": "stdout",
       "text": [
        "2014-03-08 00:00:00 2014-03-11 00:00:00\n",
        "721\n"
       ]
      }
     ],
     "prompt_number": 356
    },
    {
     "cell_type": "code",
     "collapsed": false,
     "input": [
      "mod_df=[]\n",
      "#dap_urls=['http://geoport-dev.whoi.edu/thredds/dodsC/estofs/atlantic']\n",
      "for url in dap_urls:\n",
      "#    std_name = find_standard_name(url,std_name_list)\n",
      "    constraint = iris.Constraint(cube_func=check_name_in_list)\n",
      "    try:\n",
      "        a = iris.load_cube(url, constraint)\n",
      "        r = shape(a)\n",
      "#    timevar = a.coord(axis='T')\n",
      "        timevar = find_timevar(a)\n",
      "        lat = a.coord(axis='Y').points\n",
      "        lon = a.coord(axis='X').points\n",
      "        jd = timevar.units.num2date(timevar.points)\n",
      "        istart = timevar.nearest_neighbour_index(timevar.units.date2num(jd_start))\n",
      "        istop = timevar.nearest_neighbour_index(timevar.units.date2num(jd_stop))\n",
      "        if istart != istop:\n",
      "            print url\n",
      "            nsta = len(obs_lon)\n",
      "            arr = zeros((len(range(istart,istop)),nsta))\n",
      "            if len(r)==3:\n",
      "                d = a[0,:,:].data\n",
      "                j,i,dd = find_ij(lon,lat,d,obs_lon,obs_lat)\n",
      "                for n in range(nsta):\n",
      "                    arr[:,n] = a[istart:istop,j[n],i[n]].data\n",
      "            elif len(r)==2:\n",
      "                index,dd = nearxy(lon.ravel(),lat.ravel(),obs_lon,obs_lat)\n",
      "                arr = a[istart:istop,index].data\n",
      "            \n",
      "            b = pd.DataFrame(arr,index=jd[istart:istop],columns=[url])\n",
      "            c = pd.concat([b, ts],axis=1).interpolate()\n",
      "            mod_df.append(c)\n",
      "    except:\n",
      "        pass"
     ],
     "language": "python",
     "metadata": {},
     "outputs": [
      {
       "output_type": "stream",
       "stream": "stdout",
       "text": [
        "http://opendap.co-ops.nos.noaa.gov/thredds/dodsC/DBOFS/fmrc/Aggregated_7_day_DBOFS_Fields_Forecast_best.ncd\n",
        "http://www.smast.umassd.edu:8080/thredds/dodsC/FVCOM/NECOFS/Forecasts/NECOFS_GOM3_FORECAST.nc"
       ]
      },
      {
       "output_type": "stream",
       "stream": "stdout",
       "text": [
        "\n",
        "http://opendap.co-ops.nos.noaa.gov/thredds/dodsC/CBOFS/fmrc/Aggregated_7_day_CBOFS_Fields_Forecast_best.ncd"
       ]
      },
      {
       "output_type": "stream",
       "stream": "stdout",
       "text": [
        "\n",
        "http://tds.marine.rutgers.edu/thredds/dodsC/roms/espresso/2013_da/his_Best/ESPRESSO_Real-Time_v2_History_Best_Available_best.ncd"
       ]
      },
      {
       "output_type": "stream",
       "stream": "stdout",
       "text": [
        "\n",
        "http://opendap.co-ops.nos.noaa.gov/thredds/dodsC/NYOFS/fmrc/Aggregated_7_day_NYOFS_Fields_Forecast_best.ncd"
       ]
      },
      {
       "output_type": "stream",
       "stream": "stdout",
       "text": [
        "\n"
       ]
      }
     ],
     "prompt_number": 391
    },
    {
     "cell_type": "code",
     "collapsed": false,
     "input": [
      "len(mod_df)"
     ],
     "language": "python",
     "metadata": {},
     "outputs": [
      {
       "metadata": {},
       "output_type": "pyout",
       "prompt_number": 358,
       "text": [
        "0"
       ]
      }
     ],
     "prompt_number": 358
    },
    {
     "cell_type": "code",
     "collapsed": false,
     "input": [
      "mod_all=pd.concat(mod_df,axis=1)"
     ],
     "language": "python",
     "metadata": {},
     "outputs": [
      {
       "ename": "Exception",
       "evalue": "All objects passed were None",
       "output_type": "pyerr",
       "traceback": [
        "\u001b[1;31m---------------------------------------------------------------------------\u001b[0m\n\u001b[1;31mException\u001b[0m                                 Traceback (most recent call last)",
        "\u001b[1;32m<ipython-input-359-576ba15e6d48>\u001b[0m in \u001b[0;36m<module>\u001b[1;34m()\u001b[0m\n\u001b[1;32m----> 1\u001b[1;33m \u001b[0mmod_all\u001b[0m\u001b[1;33m=\u001b[0m\u001b[0mpd\u001b[0m\u001b[1;33m.\u001b[0m\u001b[0mconcat\u001b[0m\u001b[1;33m(\u001b[0m\u001b[0mmod_df\u001b[0m\u001b[1;33m,\u001b[0m\u001b[0maxis\u001b[0m\u001b[1;33m=\u001b[0m\u001b[1;36m1\u001b[0m\u001b[1;33m)\u001b[0m\u001b[1;33m\u001b[0m\u001b[0m\n\u001b[0m",
        "\u001b[1;32m/home/local/python27_epd/lib/python2.7/site-packages/pandas/tools/merge.py\u001b[0m in \u001b[0;36mconcat\u001b[1;34m(objs, axis, join, join_axes, ignore_index, keys, levels, names, verify_integrity)\u001b[0m\n\u001b[0;32m    927\u001b[0m                        \u001b[0mignore_index\u001b[0m\u001b[1;33m=\u001b[0m\u001b[0mignore_index\u001b[0m\u001b[1;33m,\u001b[0m \u001b[0mjoin\u001b[0m\u001b[1;33m=\u001b[0m\u001b[0mjoin\u001b[0m\u001b[1;33m,\u001b[0m\u001b[1;33m\u001b[0m\u001b[0m\n\u001b[0;32m    928\u001b[0m                        \u001b[0mkeys\u001b[0m\u001b[1;33m=\u001b[0m\u001b[0mkeys\u001b[0m\u001b[1;33m,\u001b[0m \u001b[0mlevels\u001b[0m\u001b[1;33m=\u001b[0m\u001b[0mlevels\u001b[0m\u001b[1;33m,\u001b[0m \u001b[0mnames\u001b[0m\u001b[1;33m=\u001b[0m\u001b[0mnames\u001b[0m\u001b[1;33m,\u001b[0m\u001b[1;33m\u001b[0m\u001b[0m\n\u001b[1;32m--> 929\u001b[1;33m                        verify_integrity=verify_integrity)\n\u001b[0m\u001b[0;32m    930\u001b[0m     \u001b[1;32mreturn\u001b[0m \u001b[0mop\u001b[0m\u001b[1;33m.\u001b[0m\u001b[0mget_result\u001b[0m\u001b[1;33m(\u001b[0m\u001b[1;33m)\u001b[0m\u001b[1;33m\u001b[0m\u001b[0m\n\u001b[0;32m    931\u001b[0m \u001b[1;33m\u001b[0m\u001b[0m\n",
        "\u001b[1;32m/home/local/python27_epd/lib/python2.7/site-packages/pandas/tools/merge.py\u001b[0m in \u001b[0;36m__init__\u001b[1;34m(self, objs, axis, join, join_axes, keys, levels, names, ignore_index, verify_integrity)\u001b[0m\n\u001b[0;32m    972\u001b[0m \u001b[1;33m\u001b[0m\u001b[0m\n\u001b[0;32m    973\u001b[0m         \u001b[1;32mif\u001b[0m \u001b[0mlen\u001b[0m\u001b[1;33m(\u001b[0m\u001b[0mobjs\u001b[0m\u001b[1;33m)\u001b[0m \u001b[1;33m==\u001b[0m \u001b[1;36m0\u001b[0m\u001b[1;33m:\u001b[0m\u001b[1;33m\u001b[0m\u001b[0m\n\u001b[1;32m--> 974\u001b[1;33m             \u001b[1;32mraise\u001b[0m \u001b[0mException\u001b[0m\u001b[1;33m(\u001b[0m\u001b[1;34m'All objects passed were None'\u001b[0m\u001b[1;33m)\u001b[0m\u001b[1;33m\u001b[0m\u001b[0m\n\u001b[0m\u001b[0;32m    975\u001b[0m \u001b[1;33m\u001b[0m\u001b[0m\n\u001b[0;32m    976\u001b[0m         \u001b[1;31m# consolidate data\u001b[0m\u001b[1;33m\u001b[0m\u001b[1;33m\u001b[0m\u001b[0m\n",
        "\u001b[1;31mException\u001b[0m: All objects passed were None"
       ]
      }
     ],
     "prompt_number": 359
    },
    {
     "cell_type": "code",
     "collapsed": false,
     "input": [
      "mod_all.head()"
     ],
     "language": "python",
     "metadata": {},
     "outputs": []
    },
    {
     "cell_type": "code",
     "collapsed": false,
     "input": [
      "mod_all.plot()"
     ],
     "language": "python",
     "metadata": {},
     "outputs": []
    },
    {
     "cell_type": "code",
     "collapsed": false,
     "input": [
      "url='http://www.smast.umassd.edu:8080/thredds/dodsC/FVCOM/NECOFS/Forecasts/NECOFS_GOM3_FORECAST.nc'\n",
      "a = iris.load_raw(url,'sea_surface_height_above_geoid')"
     ],
     "language": "python",
     "metadata": {},
     "outputs": []
    },
    {
     "cell_type": "code",
     "collapsed": false,
     "input": [
      "ts"
     ],
     "language": "python",
     "metadata": {},
     "outputs": []
    },
    {
     "cell_type": "code",
     "collapsed": false,
     "input": [],
     "language": "python",
     "metadata": {},
     "outputs": []
    },
    {
     "cell_type": "code",
     "collapsed": false,
     "input": [
      "b =pd.concat([mod_df[1], ts],axis=1).interpolate()"
     ],
     "language": "python",
     "metadata": {},
     "outputs": []
    },
    {
     "cell_type": "code",
     "collapsed": false,
     "input": [
      "b.head()"
     ],
     "language": "python",
     "metadata": {},
     "outputs": []
    },
    {
     "cell_type": "code",
     "collapsed": false,
     "input": [
      "url='http://opendap.co-ops.nos.noaa.gov/thredds/dodsC/NYOFS/fmrc/Aggregated_7_day_NYOFS_Fields_Forecast_best.ncd'"
     ],
     "language": "python",
     "metadata": {},
     "outputs": [],
     "prompt_number": 364
    },
    {
     "cell_type": "code",
     "collapsed": false,
     "input": [
      "a = iris.load_cube(url, constraint)\n",
      "#    timevar = a.coord(axis='T')\n",
      "timevar = find_timevar(a)\n",
      "lat = a.coord(axis='Y').points\n",
      "lon = a.coord(axis='X').points\n",
      "jd = timevar.units.num2date(timevar.points)\n",
      "istart = timevar.nearest_neighbour_index(timevar.units.date2num(jd_start))\n",
      "istop = timevar.nearest_neighbour_index(timevar.units.date2num(jd_stop))\n",
      "d = a[0,:,:].data\n",
      "index = where(~isnan(d.flatten()))[0]\n",
      "ind,dd = nearxy(lon.flatten()[index],lat.flatten()[index],obs_lon,obs_lat)\n",
      "j,i=ind2ij(x,index[ind])\n",
      "j,i,dd = find_ij(lon,lat,d,obs_lon,obs_lat)"
     ],
     "language": "python",
     "metadata": {},
     "outputs": [],
     "prompt_number": 388
    },
    {
     "cell_type": "code",
     "collapsed": false,
     "input": [
      "pcolormesh(lon,lat,d,vmin=-1.0,vmax=1.0)\n",
      "plot(obs_lon[0],obs_lat[0],'wo')\n",
      "plot(lon.flatten()[index],lat.flatten()[index],'w.')\n",
      "plot(lon[j[0],i[0]],lat[j[0],i[0]],'ro')"
     ],
     "language": "python",
     "metadata": {},
     "outputs": [
      {
       "metadata": {},
       "output_type": "pyout",
       "prompt_number": 389,
       "text": [
        "[<matplotlib.lines.Line2D at 0x8e25110>]"
       ]
      },
      {
       "metadata": {},
       "output_type": "display_data",
       "png": "[encoded data removed]",
       "text": [
        "<matplotlib.figure.Figure at 0x8c9e650>"
       ]
      }
     ],
     "prompt_number": 389
    },
    {
     "cell_type": "code",
     "collapsed": false,
     "input": [
      "ind=where(~isnan(d))[0]"
     ],
     "language": "python",
     "metadata": {},
     "outputs": [],
     "prompt_number": 378
    },
    {
     "cell_type": "code",
     "collapsed": false,
     "input": [
      "index=nearxy(lon.ravel()[ind],lat.ravel()[ind],obs_lon,obs_lat)"
     ],
     "language": "python",
     "metadata": {},
     "outputs": []
    },
    {
     "cell_type": "code",
     "collapsed": false,
     "input": [
      "ind[index]"
     ],
     "language": "python",
     "metadata": {},
     "outputs": []
    },
    {
     "cell_type": "code",
     "collapsed": false,
     "input": [
      "index"
     ],
     "language": "python",
     "metadata": {},
     "outputs": []
    },
    {
     "cell_type": "code",
     "collapsed": false,
     "input": [
      "jj,ii=ind2ij(lon,index)"
     ],
     "language": "python",
     "metadata": {},
     "outputs": []
    },
    {
     "cell_type": "code",
     "collapsed": false,
     "input": [
      "lon[jj,ii]"
     ],
     "language": "python",
     "metadata": {},
     "outputs": []
    },
    {
     "cell_type": "code",
     "collapsed": false,
     "input": [
      "obs_lon"
     ],
     "language": "python",
     "metadata": {},
     "outputs": []
    },
    {
     "cell_type": "code",
     "collapsed": false,
     "input": [
      "lon[ii,jj]"
     ],
     "language": "python",
     "metadata": {},
     "outputs": []
    },
    {
     "cell_type": "code",
     "collapsed": false,
     "input": [
      "plot(lon.ravel(),lat.ravel(),'g.')\n",
      "plot(obs_lon,obs_lat,'k.')\n",
      "plot(lon[ii,jj],lat[ii,jj],'c.')"
     ],
     "language": "python",
     "metadata": {},
     "outputs": []
    },
    {
     "cell_type": "code",
     "collapsed": false,
     "input": [
      "plot(lon.ravel()[ind],lat.ravel()[ind],'k.')"
     ],
     "language": "python",
     "metadata": {},
     "outputs": []
    },
    {
     "cell_type": "code",
     "collapsed": false,
     "input": [],
     "language": "python",
     "metadata": {},
     "outputs": []
    },
    {
     "cell_type": "code",
     "collapsed": false,
     "input": [
      "d.min()"
     ],
     "language": "python",
     "metadata": {},
     "outputs": []
    },
    {
     "cell_type": "code",
     "collapsed": false,
     "input": [
      "d.max()"
     ],
     "language": "python",
     "metadata": {},
     "outputs": []
    },
    {
     "cell_type": "code",
     "collapsed": false,
     "input": [
      "print a[1,50,30].data"
     ],
     "language": "python",
     "metadata": {},
     "outputs": []
    },
    {
     "cell_type": "code",
     "collapsed": false,
     "input": [],
     "language": "python",
     "metadata": {},
     "outputs": []
    },
    {
     "cell_type": "code",
     "collapsed": false,
     "input": [],
     "language": "python",
     "metadata": {},
     "outputs": []
    }
   ],
   "metadata": {}
  }
 ]
}