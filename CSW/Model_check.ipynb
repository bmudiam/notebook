{
 "metadata": {
  "name": "",
  "signature": "sha256:64230e4b7817b33631d672b3a582ab588db53376903b22fec6655f412dc7dd8e"
 },
 "nbformat": 3,
 "nbformat_minor": 0,
 "worksheets": [
  {
   "cells": [
    {
     "cell_type": "markdown",
     "metadata": {},
     "source": [
      "#Use CSW to find model data at NODC, NGDC, and CATALOG.DATA.GOV"
     ]
    },
    {
     "cell_type": "code",
     "collapsed": false,
     "input": [
      "from owslib.csw import CatalogueServiceWeb\n",
      "from owslib import fes\n",
      "import netCDF4\n",
      "from numpy import random"
     ],
     "language": "python",
     "metadata": {},
     "outputs": [],
     "prompt_number": 11
    },
    {
     "cell_type": "code",
     "collapsed": false,
     "input": [
      "def service_urls(records,service_string='urn:x-esri:specification:ServiceType:odp:url'):\n",
      "    \"\"\"\n",
      "    Get all URLs matching a specific ServiceType \n",
      " \n",
      "    Unfortunately these seem to differ between different CSW-ISO services.\n",
      "    For example, OpenDAP is specified:\n",
      "    NODC geoportal: 'urn:x-esri:specification:ServiceType:OPeNDAP'\n",
      "    NGDC geoportal: 'urn:x-esri:specification:ServiceType:odp:url'\n",
      "    \"\"\"\n",
      "\n",
      "    urls=[]\n",
      "    for key,rec in records.iteritems():\n",
      "        #create a generator object, and iterate through it until the match is found\n",
      "        #if not found, gets the default value (here \"none\")\n",
      "        url = next((d['url'] for d in rec.references if d['scheme'] == service_string), None)\n",
      "        if url is not None:\n",
      "            urls.append(url)\n",
      "    return urls"
     ],
     "language": "python",
     "metadata": {},
     "outputs": [],
     "prompt_number": 2
    },
    {
     "cell_type": "code",
     "collapsed": false,
     "input": [
      "filt=[]\n",
      "search_text = ['roms','selfe','adcirc','ncom','hycom','fvcom']\n",
      "for val in search_text:\n",
      "    filt.append(fes.PropertyIsLike(propertyname='apiso:AnyText', \n",
      "                                   literal=('*%s*' % val),escapeChar='\\\\',wildCard='*',singleChar='?'))\n",
      "\n",
      "val='sea_water_temperature'\n",
      "filt.append(fes.PropertyIsLike(propertyname='apiso:AnyText', \n",
      "                                   literal=('*%s*' % val),escapeChar='\\\\',wildCard='*',singleChar='?'))    "
     ],
     "language": "python",
     "metadata": {},
     "outputs": [],
     "prompt_number": 172
    },
    {
     "cell_type": "code",
     "collapsed": false,
     "input": [
      "filt=[]\n",
      "search_text = ['roms','selfe','adcirc','ncom','hycom','fvcom']\n",
      "for val in search_text:\n",
      "    filt.append(fes.PropertyIsEqualTo(propertyname='apiso:AnyText',literal=val))"
     ],
     "language": "python",
     "metadata": {},
     "outputs": [],
     "prompt_number": 6
    },
    {
     "cell_type": "markdown",
     "metadata": {},
     "source": [
      "##Find model results at NODC"
     ]
    },
    {
     "cell_type": "code",
     "collapsed": false,
     "input": [
      "endpoint = 'http://www.nodc.noaa.gov/geoportal/csw'   # NODC/UAF Geoportal: granule level\n",
      "csw = CatalogueServiceWeb(endpoint,timeout=60)\n",
      "print csw.version"
     ],
     "language": "python",
     "metadata": {},
     "outputs": [
      {
       "output_type": "stream",
       "stream": "stdout",
       "text": [
        "2.0.2\n"
       ]
      }
     ],
     "prompt_number": 173
    },
    {
     "cell_type": "code",
     "collapsed": false,
     "input": [
      "for oper in csw.operations:\n",
      "    if oper.name == 'GetRecords':\n",
      "        print '\\nISO Queryables:\\n',oper.constraints['SupportedISOQueryables']['values']"
     ],
     "language": "python",
     "metadata": {},
     "outputs": [
      {
       "output_type": "stream",
       "stream": "stdout",
       "text": [
        "\n",
        "ISO Queryables:\n",
        "['apiso:Subject', 'apiso:Title', 'apiso:Abstract', 'apiso:AnyText', 'apiso:Format', 'apiso:Identifier', 'apiso:Modified', 'apiso:Type', 'apiso:BoundingBox', 'apiso:CRS.Authority', 'apiso:CRS.ID', 'apiso:CRS.Version', 'apiso:RevisionDate', 'apiso:AlternateTitle', 'apiso:CreationDate', 'apiso:PublicationDate', 'apiso:OrganizationName', 'apiso:HasSecurityConstraints', 'apiso:Language', 'apiso:ResourceIdentifier', 'apiso:ParentIdentifier', 'apiso:KeywordType', 'apiso:TopicCategory', 'apiso:ResourceLanguage', 'apiso:GeographicDescriptionCode', 'apiso:Denominator', 'apiso:DistanceValue', 'apiso:DistanceUOM', 'apiso:TempExtent_begin', 'apiso:TempExtent_end', 'apiso:ServiceType', 'apiso:ServiceTypeVersion', 'apiso:Operation', 'apiso:OperatesOn', 'apiso:OperatesOnIdentifier', 'apiso:OperatesOnName', 'apiso:CouplingType']\n"
       ]
      }
     ],
     "prompt_number": 164
    },
    {
     "cell_type": "code",
     "collapsed": false,
     "input": [
      "csw.getrecords2(constraints=filt,maxrecords=1000,esn='full')\n",
      "len(csw.records.keys())"
     ],
     "language": "python",
     "metadata": {},
     "outputs": [
      {
       "metadata": {},
       "output_type": "pyout",
       "prompt_number": 174,
       "text": [
        "326"
       ]
      }
     ],
     "prompt_number": 174
    },
    {
     "cell_type": "code",
     "collapsed": false,
     "input": [
      "dap_urls = service_urls(csw.records,service_string='urn:x-esri:specification:ServiceType:OPeNDAP')\n",
      "len(dap_urls)"
     ],
     "language": "python",
     "metadata": {},
     "outputs": [
      {
       "metadata": {},
       "output_type": "pyout",
       "prompt_number": 166,
       "text": [
        "189"
       ]
      }
     ],
     "prompt_number": 166
    },
    {
     "cell_type": "code",
     "collapsed": false,
     "input": [
      "bad_urls=[]\n",
      "for url in dap_urls:\n",
      "    try:\n",
      "        nc = netCDF4.Dataset(url)\n",
      "        #print url\n",
      "        nc.close()\n",
      "    except:\n",
      "        bad_urls.append(url)\n",
      "            \n",
      "\n",
      "print 'NODC: bad urls:',len(bad_urls),'/',len(dap_urls)\n",
      "print 'First five bad URLS:',\"\\n\".join(bad_urls[0:5])"
     ],
     "language": "python",
     "metadata": {},
     "outputs": []
    },
    {
     "cell_type": "markdown",
     "metadata": {},
     "source": [
      "## Find model results at NGDC"
     ]
    },
    {
     "cell_type": "code",
     "collapsed": false,
     "input": [
      "endpoint = 'http://www.ngdc.noaa.gov/geoportal/csw' #  NGDC/IOOS Geoportal\n",
      "csw = CatalogueServiceWeb(endpoint,timeout=60)\n",
      "csw.version"
     ],
     "language": "python",
     "metadata": {},
     "outputs": [
      {
       "metadata": {},
       "output_type": "pyout",
       "prompt_number": 167,
       "text": [
        "'2.0.2'"
       ]
      }
     ],
     "prompt_number": 167
    },
    {
     "cell_type": "code",
     "collapsed": false,
     "input": [
      "for oper in csw.operations:\n",
      "    if oper.name == 'GetRecords':\n",
      "        print '\\nISO Queryables:\\n',oper.constraints['SupportedISOQueryables']['values']"
     ],
     "language": "python",
     "metadata": {},
     "outputs": [
      {
       "output_type": "stream",
       "stream": "stdout",
       "text": [
        "\n",
        "ISO Queryables:\n",
        "['apiso:Subject', 'apiso:Title', 'apiso:Abstract', 'apiso:AnyText', 'apiso:Format', 'apiso:Identifier', 'apiso:Modified', 'apiso:Type', 'apiso:BoundingBox', 'apiso:CRS.Authority', 'apiso:CRS.ID', 'apiso:CRS.Version', 'apiso:RevisionDate', 'apiso:AlternateTitle', 'apiso:CreationDate', 'apiso:PublicationDate', 'apiso:OrganizationName', 'apiso:HasSecurityConstraints', 'apiso:Language', 'apiso:ResourceIdentifier', 'apiso:ParentIdentifier', 'apiso:KeywordType', 'apiso:TopicCategory', 'apiso:ResourceLanguage', 'apiso:GeographicDescriptionCode', 'apiso:Denominator', 'apiso:DistanceValue', 'apiso:DistanceUOM', 'apiso:TempExtent_begin', 'apiso:TempExtent_end', 'apiso:ServiceType', 'apiso:ServiceTypeVersion', 'apiso:Operation', 'apiso:OperatesOn', 'apiso:OperatesOnIdentifier', 'apiso:OperatesOnName', 'apiso:CouplingType']\n"
       ]
      }
     ],
     "prompt_number": 168
    },
    {
     "cell_type": "code",
     "collapsed": false,
     "input": [
      "csw.getrecords2(constraints=filt,maxrecords=1000,esn='full')\n",
      "len(csw.records.keys())"
     ],
     "language": "python",
     "metadata": {},
     "outputs": [
      {
       "metadata": {},
       "output_type": "pyout",
       "prompt_number": 169,
       "text": [
        "200"
       ]
      }
     ],
     "prompt_number": 169
    },
    {
     "cell_type": "code",
     "collapsed": false,
     "input": [
      "choice=random.choice(list(csw.records.keys()))\n",
      "print choice\n",
      "csw.records[choice].references"
     ],
     "language": "python",
     "metadata": {},
     "outputs": [
      {
       "output_type": "stream",
       "stream": "stdout",
       "text": [
        "inundation_tropical.UND_ADCIRC.Hurricane_Rita_2D_preliminary_run_5_without_waves_and_advection_implicit_1s\n"
       ]
      },
      {
       "metadata": {},
       "output_type": "pyout",
       "prompt_number": 170,
       "text": [
        "[{'scheme': 'urn:x-esri:specification:ServiceType:distribution:url',\n",
        "  'url': 'http://comt.sura.org/thredds/dodsC/data/comt_1_archive/inundation_tropical/UND_ADCIRC/Hurricane_Rita_2D_preliminary_run_5_without_waves_and_advection_implicit_1s.html'},\n",
        " {'scheme': 'urn:x-esri:specification:ServiceType:distribution:url',\n",
        "  'url': 'http://www.ncdc.noaa.gov/oa/wct/wct-jnlp-beta.php?singlefile=http://comt.sura.org/thredds/dodsC/data/comt_1_archive/inundation_tropical/UND_ADCIRC/Hurricane_Rita_2D_preliminary_run_5_without_waves_and_advection_implicit_1s'},\n",
        " {'scheme': 'urn:x-esri:specification:ServiceType:wms:url',\n",
        "  'url': 'http://comt.sura.org/thredds/wms/data/comt_1_archive/inundation_tropical/UND_ADCIRC/Hurricane_Rita_2D_preliminary_run_5_without_waves_and_advection_implicit_1s?service=WMS&version=1.3.0&request=GetCapabilities'},\n",
        " {'scheme': 'urn:x-esri:specification:ServiceType:wcs:url',\n",
        "  'url': 'http://comt.sura.org/thredds/wcs/data/comt_1_archive/inundation_tropical/UND_ADCIRC/Hurricane_Rita_2D_preliminary_run_5_without_waves_and_advection_implicit_1s?service=WCS&version=1.0.0&request=GetCapabilities'},\n",
        " {'scheme': 'urn:x-esri:specification:ServiceType:odp:url',\n",
        "  'url': 'http://comt.sura.org/thredds/dodsC/data/comt_1_archive/inundation_tropical/UND_ADCIRC/Hurricane_Rita_2D_preliminary_run_5_without_waves_and_advection_implicit_1s'}]"
       ]
      }
     ],
     "prompt_number": 170
    },
    {
     "cell_type": "code",
     "collapsed": false,
     "input": [
      "#dap_urls = service_urls(csw.records,service_string='urn:x-esri:specification:ServiceType:OPeNDAP')\n",
      "dap_urls = service_urls(csw.records,service_string='urn:x-esri:specification:ServiceType:odp:url')\n",
      "len(dap_urls)"
     ],
     "language": "python",
     "metadata": {},
     "outputs": [
      {
       "metadata": {},
       "output_type": "pyout",
       "prompt_number": 171,
       "text": [
        "146"
       ]
      }
     ],
     "prompt_number": 171
    },
    {
     "cell_type": "code",
     "collapsed": true,
     "input": [
      "bad_urls=[]\n",
      "for url in dap_urls:\n",
      "    try:\n",
      "        nc = netCDF4.Dataset(url)\n",
      "        #print url\n",
      "        nc.close()\n",
      "    except:\n",
      "        bad_urls.append(url)\n",
      "print 'NGDC: bad urls:',len(bad_urls),'/',len(dap_urls)\n",
      "print 'First five bad URLS:',\"\\n\".join(bad_urls[0:5])"
     ],
     "language": "python",
     "metadata": {},
     "outputs": [
      {
       "output_type": "stream",
       "stream": "stdout",
       "text": [
        "NGDC: bad urls: 24 / 145\n",
        "First five bad URLS: http://thredds.axiomalaska.com/thredds/dodsC/NOAA_CSDL_ROMS\n",
        "http://oos.soest.hawaii.edu/thredds/dodsC/hioos/roms_assim/hiog/ROMS_Oahu_Regional_Ocean_Model_Assimilation_best.ncd\n",
        "http://oos.soest.hawaii.edu/thredds/dodsC/hioos/roms_assim/hiog/ROMS_Oahu_Regional_Ocean_Model_Assimilation_fmrc.ncd\n",
        "http://oos.soest.hawaii.edu/thredds/dodsC/hioos/roms_forec_regridded/hiomsg/ROMS_Oahu_South_Shore_Regional_Ocean_Model_Regridded_best.ncd\n",
        "http://thredds.axiomalaska.com/thredds/dodsC/HYCOM\n"
       ]
      }
     ],
     "prompt_number": 9
    },
    {
     "cell_type": "markdown",
     "metadata": {},
     "source": [
      "## Find model data at CATALOG.DATA.GOV"
     ]
    },
    {
     "cell_type": "code",
     "collapsed": false,
     "input": [
      "endpoint = 'http://catalog.data.gov/csw-all' #  catalog.data.gov CSW\n",
      "csw = CatalogueServiceWeb(endpoint,timeout=60)\n",
      "csw.version"
     ],
     "language": "python",
     "metadata": {},
     "outputs": [
      {
       "metadata": {},
       "output_type": "pyout",
       "prompt_number": 3,
       "text": [
        "'2.0.2'"
       ]
      }
     ],
     "prompt_number": 3
    },
    {
     "cell_type": "code",
     "collapsed": false,
     "input": [
      "for oper in csw.operations:\n",
      "    if oper.name == 'GetRecords':\n",
      "        print '\\nISO Queryables:\\n',oper.constraints['SupportedISOQueryables']['values']"
     ],
     "language": "python",
     "metadata": {},
     "outputs": [
      {
       "output_type": "stream",
       "stream": "stdout",
       "text": [
        "\n",
        "ISO Queryables:\n",
        "['apiso:DistanceValue', 'apiso:Abstract', 'apiso:RevisionDate', 'apiso:Subject', 'apiso:KeywordType', 'apiso:Title', 'apiso:CRS', 'apiso:PublicationDate', 'apiso:Type', 'apiso:AlternateTitle', 'apiso:BoundingBox', 'apiso:AnyText', 'apiso:ParentIdentifier', 'apiso:Modified', 'apiso:Operation', 'apiso:Format', 'apiso:TempExtent_end', 'apiso:DistanceUOM', 'apiso:OrganisationName', 'apiso:ServiceType', 'apiso:TempExtent_begin', 'apiso:ResourceLanguage', 'apiso:ServiceTypeVersion', 'apiso:OperatesOn', 'apiso:Denominator', 'apiso:HasSecurityConstraints', 'apiso:OperatesOnIdentifier', 'apiso:GeographicDescriptionCode', 'apiso:Language', 'apiso:Identifier', 'apiso:OperatesOnName', 'apiso:TopicCategory', 'apiso:CreationDate', 'apiso:CouplingType']\n"
       ]
      }
     ],
     "prompt_number": 4
    },
    {
     "cell_type": "code",
     "collapsed": false,
     "input": [
      "csw.getrecords2(constraints=filt,maxrecords=1000,esn='full')\n",
      "len(csw.records.keys())"
     ],
     "language": "python",
     "metadata": {},
     "outputs": [
      {
       "metadata": {},
       "output_type": "pyout",
       "prompt_number": 9,
       "text": [
        "1000"
       ]
      }
     ],
     "prompt_number": 9
    },
    {
     "cell_type": "code",
     "collapsed": false,
     "input": [
      "choice=random.choice(list(csw.records.keys()))\n",
      "print choice\n",
      "csw.records[choice].references"
     ],
     "language": "python",
     "metadata": {},
     "outputs": [
      {
       "output_type": "stream",
       "stream": "stdout",
       "text": [
        "264c971d-3042-4b46-a6bf-ba40556a495f\n"
       ]
      },
      {
       "metadata": {},
       "output_type": "pyout",
       "prompt_number": 33,
       "text": [
        "[]"
       ]
      }
     ],
     "prompt_number": 33
    },
    {
     "cell_type": "markdown",
     "metadata": {},
     "source": [
      "From the above, we can see that because the 'scheme' is 'None' on all the references, we can't extract the different service types, like OPeNDAP, WCS, etc. "
     ]
    },
    {
     "cell_type": "code",
     "collapsed": false,
     "input": [
      "#dap_urls = service_urls(csw.records,service_string='urn:x-esri:specification:ServiceType:odp:url')  #NGDC\n",
      "#dap_urls = service_urls(csw.records,service_string='urn:x-esri:specification:ServiceType:OPeNDAP')  #NODC\n",
      "dap_urls = service_urls(csw.records,service_string='?????????')    #CATALOG.DATA.GOV\n",
      "len(dap_urls)"
     ],
     "language": "python",
     "metadata": {},
     "outputs": [
      {
       "metadata": {},
       "output_type": "pyout",
       "prompt_number": 101,
       "text": [
        "0"
       ]
      }
     ],
     "prompt_number": 101
    },
    {
     "cell_type": "code",
     "collapsed": false,
     "input": [],
     "language": "python",
     "metadata": {},
     "outputs": [],
     "prompt_number": 14
    }
   ],
   "metadata": {}
  }
 ]
}