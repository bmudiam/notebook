{
 "metadata": {
  "name": "",
  "signature": "sha256:a7a43b8f9a13607882fadd7f247fced1ae42ce7f04fbc2746ab6c8b2ce17d44f"
 },
 "nbformat": 3,
 "nbformat_minor": 0,
 "worksheets": [
  {
   "cells": [
    {
     "cell_type": "code",
     "collapsed": false,
     "input": [
      "import netCDF4\n",
      "\n",
      "base = 'http://opendap.co-ops.nos.noaa.gov/thredds/dodsC/\\\n",
      "NOAA/DBOFS/MODELS/201401/nos.dbofs.fields.n001.20140130.t%2.2dz.nc'\n",
      "files = [base % d for d in range(0,24,6)]\n",
      "nc = netCDF4.MFDataset(files)"
     ],
     "language": "python",
     "metadata": {},
     "outputs": [],
     "prompt_number": 9
    },
    {
     "cell_type": "code",
     "collapsed": false,
     "input": [
      "print nc.variables['salt']"
     ],
     "language": "python",
     "metadata": {},
     "outputs": [
      {
       "output_type": "stream",
       "stream": "stdout",
       "text": [
        "<class 'netCDF4._Variable'>\n",
        "float64 salt('ocean_time', 's_rho', 'eta_rho', 'xi_rho')\n",
        "    long_name: salinity\n",
        "    time: ocean_time\n",
        "    coordinates: lat_rho lon_rho\n",
        "    field: salinity, scalar, series\n",
        "unlimited dimensions = ('ocean_time',)\n",
        "current size = (4, 10, 732, 119)\n",
        "\n"
       ]
      }
     ],
     "prompt_number": 10
    },
    {
     "cell_type": "code",
     "collapsed": false,
     "input": [
      "range(0,18,6)"
     ],
     "language": "python",
     "metadata": {},
     "outputs": [
      {
       "metadata": {},
       "output_type": "pyout",
       "prompt_number": 8,
       "text": [
        "[0, 6, 12]"
       ]
      }
     ],
     "prompt_number": 8
    },
    {
     "cell_type": "code",
     "collapsed": false,
     "input": [],
     "language": "python",
     "metadata": {},
     "outputs": []
    }
   ],
   "metadata": {}
  }
 ]
}