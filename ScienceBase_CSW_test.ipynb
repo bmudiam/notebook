{
 "metadata": {
  "name": "",
  "signature": "sha256:200514c3794f7c792fafeea12d01dd3a1418c652f561dd881ed1f254acb4c67e"
 },
 "nbformat": 3,
 "nbformat_minor": 0,
 "worksheets": [
  {
   "cells": [
    {
     "cell_type": "code",
     "collapsed": false,
     "input": [
      "from pylab import *\n",
      "from owslib.csw import CatalogueServiceWeb\n",
      "from owslib import fes\n",
      "import datetime as dt\n",
      "from numpy import random"
     ],
     "language": "python",
     "metadata": {},
     "outputs": [],
     "prompt_number": 19
    },
    {
     "cell_type": "code",
     "collapsed": false,
     "input": [
      "#https://www.sciencebase.gov/catalog/item/519bee13e4b0e4e151f0232c/csw?service=CSW&version=2.0.2&request=GetCapabilities\n",
      "endpoint='https://www.sciencebase.gov/catalog/item/519bee13e4b0e4e151f0232c/csw'"
     ],
     "language": "python",
     "metadata": {},
     "outputs": [],
     "prompt_number": 6
    },
    {
     "cell_type": "code",
     "collapsed": false,
     "input": [
      "#box=[-180, -90, 180, 90]\n",
      "\n",
      "box=[-76.4751, 38.3890, -71.7432, 42.9397]  # new york harbor region\n",
      "#box=[-72.0, 41.0, -69.0, 43.0]   # gulf of maine\n",
      "\n",
      "\n",
      "# specific specific times (UTC) ...\n",
      "\n",
      "# hurricane sandy\n",
      "jd_start = dt.datetime(2012,10,26)\n",
      "jd_stop = dt.datetime(2012,11,2)\n",
      "\n",
      "# 2014 feb 10-15 storm\n",
      "jd_start = dt.datetime(2014,2,10)\n",
      "jd_stop = dt.datetime(2014,2,15)\n",
      "\n",
      "# 2014 recent\n",
      "jd_start = dt.datetime(2014,3,8)\n",
      "jd_stop = dt.datetime(2014,3,11)\n",
      "\n",
      "# 2011 \n",
      "#jd_start = dt.datetime(2013,4,20)\n",
      "#jd_stop = dt.datetime(2013,4,24)\n",
      "\n",
      "# ... or relative to now\n",
      "jd_start = dt.datetime.utcnow()- dt.timedelta(days=3)\n",
      "jd_stop = dt.datetime.utcnow() + dt.timedelta(days=3)\n",
      "\n",
      "start_date = jd_start.strftime('%Y-%m-%d %H:00')\n",
      "stop_date  = jd_stop.strftime('%Y-%m-%d %H:00')\n",
      "\n",
      "jd_start = dt.datetime.strptime(start_date,'%Y-%m-%d %H:%M')\n",
      "jd_stop = dt.datetime.strptime(stop_date,'%Y-%m-%d %H:%M')\n",
      "\n",
      "print start_date,'to',stop_date\n",
      "\n",
      "sos_name = 'water_surface_height_above_reference_datum'"
     ],
     "language": "python",
     "metadata": {},
     "outputs": [
      {
       "output_type": "stream",
       "stream": "stdout",
       "text": [
        "2014-03-30 19:00 to 2014-04-05 19:00\n"
       ]
      }
     ],
     "prompt_number": 7
    },
    {
     "cell_type": "code",
     "collapsed": false,
     "input": [
      "std_name_list=['water_surface_height_above_reference_datum',\n",
      "    'sea_surface_height_above_geoid','sea_surface_elevation',\n",
      "    'sea_surface_height_above_reference_ellipsoid','sea_surface_height_above_sea_level',\n",
      "    'sea_surface_height','water level']"
     ],
     "language": "python",
     "metadata": {},
     "outputs": [],
     "prompt_number": 8
    },
    {
     "cell_type": "code",
     "collapsed": false,
     "input": [
      "csw = CatalogueServiceWeb(endpoint,timeout=60)\n",
      "csw.version"
     ],
     "language": "python",
     "metadata": {},
     "outputs": [
      {
       "metadata": {},
       "output_type": "pyout",
       "prompt_number": 9,
       "text": [
        "'2.0.2'"
       ]
      }
     ],
     "prompt_number": 9
    },
    {
     "cell_type": "code",
     "collapsed": false,
     "input": [
      "for oper in csw.operations:\n",
      "    if oper.name == 'GetRecords':\n",
      "        print '\\nISO Queryables:\\n',oper.constraints['SupportedISOQueryables']['values']"
     ],
     "language": "python",
     "metadata": {},
     "outputs": [
      {
       "output_type": "stream",
       "stream": "stdout",
       "text": [
        "\n",
        "ISO Queryables:\n"
       ]
      },
      {
       "ename": "KeyError",
       "evalue": "'SupportedISOQueryables'",
       "output_type": "pyerr",
       "traceback": [
        "\u001b[1;31m---------------------------------------------------------------------------\u001b[0m\n\u001b[1;31mKeyError\u001b[0m                                  Traceback (most recent call last)",
        "\u001b[1;32m<ipython-input-10-373019191994>\u001b[0m in \u001b[0;36m<module>\u001b[1;34m()\u001b[0m\n\u001b[0;32m      1\u001b[0m \u001b[1;32mfor\u001b[0m \u001b[0moper\u001b[0m \u001b[1;32min\u001b[0m \u001b[0mcsw\u001b[0m\u001b[1;33m.\u001b[0m\u001b[0moperations\u001b[0m\u001b[1;33m:\u001b[0m\u001b[1;33m\u001b[0m\u001b[0m\n\u001b[0;32m      2\u001b[0m     \u001b[1;32mif\u001b[0m \u001b[0moper\u001b[0m\u001b[1;33m.\u001b[0m\u001b[0mname\u001b[0m \u001b[1;33m==\u001b[0m \u001b[1;34m'GetRecords'\u001b[0m\u001b[1;33m:\u001b[0m\u001b[1;33m\u001b[0m\u001b[0m\n\u001b[1;32m----> 3\u001b[1;33m         \u001b[1;32mprint\u001b[0m \u001b[1;34m'\\nISO Queryables:\\n'\u001b[0m\u001b[1;33m,\u001b[0m\u001b[0moper\u001b[0m\u001b[1;33m.\u001b[0m\u001b[0mconstraints\u001b[0m\u001b[1;33m[\u001b[0m\u001b[1;34m'SupportedISOQueryables'\u001b[0m\u001b[1;33m]\u001b[0m\u001b[1;33m[\u001b[0m\u001b[1;34m'values'\u001b[0m\u001b[1;33m]\u001b[0m\u001b[1;33m\u001b[0m\u001b[0m\n\u001b[0m",
        "\u001b[1;31mKeyError\u001b[0m: 'SupportedISOQueryables'"
       ]
      }
     ],
     "prompt_number": 10
    },
    {
     "cell_type": "code",
     "collapsed": false,
     "input": [
      "for oper in csw.operations:\n",
      "    if oper.name == 'GetRecords':\n",
      "        print oper.constraints"
     ],
     "language": "python",
     "metadata": {},
     "outputs": [
      {
       "output_type": "stream",
       "stream": "stdout",
       "text": [
        "{'AdditionalQueryables': {'values': ['sb:collection', 'sb:servicetype']}, 'SupportedCommonQueryables': {'values': ['Title', 'Abstract', 'Subject']}}\n"
       ]
      }
     ],
     "prompt_number": 12
    },
    {
     "cell_type": "code",
     "collapsed": false,
     "input": [
      "val='Barrow'\n",
      "filter_list = [fes.PropertyIsLike(propertyname='AnyText',literal=('*%s*' % val))]\n"
     ],
     "language": "python",
     "metadata": {},
     "outputs": [],
     "prompt_number": 23
    },
    {
     "cell_type": "code",
     "collapsed": false,
     "input": [
      "# try request using multiple filters \"and\" syntax: [[filter1,filter2]]\n",
      "csw.getrecords2(constraints=filter_list,maxrecords=1000,esn='full')\n",
      "print len(csw.records.keys())"
     ],
     "language": "python",
     "metadata": {},
     "outputs": [
      {
       "output_type": "stream",
       "stream": "stdout",
       "text": [
        "2\n"
       ]
      }
     ],
     "prompt_number": 24
    },
    {
     "cell_type": "code",
     "collapsed": false,
     "input": [
      "# try request using multiple filters \"and\" syntax: [[filter1,filter2]]\n",
      "csw.getrecords2(constraints=filter_list,maxrecords=1000,esn='full',\n",
      "print len(csw.records.keys())"
     ],
     "language": "python",
     "metadata": {},
     "outputs": []
    },
    {
     "cell_type": "code",
     "collapsed": false,
     "input": [
      "for rec,item in csw.records.iteritems():\n",
      "    print item.title"
     ],
     "language": "python",
     "metadata": {},
     "outputs": [
      {
       "output_type": "stream",
       "stream": "stdout",
       "text": [
        "Barrow project area\n",
        "Forsythe plovers\n"
       ]
      }
     ],
     "prompt_number": 25
    },
    {
     "cell_type": "code",
     "collapsed": false,
     "input": [
      "choice=random.choice(list(csw.records.keys()))\n",
      "print choice\n",
      "csw.records[choice].references"
     ],
     "language": "python",
     "metadata": {},
     "outputs": [
      {
       "output_type": "stream",
       "stream": "stdout",
       "text": [
        "53398e51e4b0db25ad10d288\n"
       ]
      },
      {
       "metadata": {},
       "output_type": "pyout",
       "prompt_number": 26,
       "text": [
        "[]"
       ]
      }
     ],
     "prompt_number": 26
    },
    {
     "cell_type": "code",
     "collapsed": false,
     "input": [
      "foo=csw.records[choice]"
     ],
     "language": "python",
     "metadata": {},
     "outputs": [],
     "prompt_number": 27
    },
    {
     "cell_type": "code",
     "collapsed": false,
     "input": [
      "foo.xml"
     ],
     "language": "python",
     "metadata": {},
     "outputs": [
      {
       "metadata": {},
       "output_type": "pyout",
       "prompt_number": 28,
       "text": [
        "'<csw:Record xmlns:csw=\"http://www.opengis.net/cat/csw/2.0.2\" xmlns:xsd=\"http://www.w3.org/2001/XMLSchema\" xmlns:dc=\"http://purl.org/dc/elements/1.1/\" xmlns:dcmiBox=\"http://dublincore.org/documents/2000/07/11/dcmi-box/\" xmlns:dct=\"http://purl.org/dc/terms/\" xmlns:gml=\"http://www.opengis.net/gml\" xmlns:ows=\"http://www.opengis.net/ows\">\\n      <dc:identifier>53398e51e4b0db25ad10d288</dc:identifier>\\n      <dc:title>Barrow project area</dc:title>\\n      <dc:type>https://www.sciencebase.gov/vocab/vocabulary/4f4e475de4b07f02db47ded7/Data</dc:type>\\n      <dct:modified>2014-03-31T15:48:35.887Z</dct:modified>\\n      <dct:abstract/>\\n    </csw:Record>\\n    '"
       ]
      }
     ],
     "prompt_number": 28
    },
    {
     "cell_type": "code",
     "collapsed": false,
     "input": [],
     "language": "python",
     "metadata": {},
     "outputs": []
    }
   ],
   "metadata": {}
  }
 ]
}