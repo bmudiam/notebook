{
 "metadata": {
  "name": "",
  "signature": "sha256:7806cf54b4871418c0497e1a5c8832e86f49c95dc4c3a4ffac14bf94627a977d"
 },
 "nbformat": 3,
 "nbformat_minor": 0,
 "worksheets": [
  {
   "cells": [
    {
     "cell_type": "code",
     "collapsed": false,
     "input": [
      "import iris\n",
      "url = 'http://tds.marine.rutgers.edu/thredds/dodsC/roms/espresso/2013_da/avg_Best/ESPRESSO_Real-Time_v2_Averages_Best_Available_best.ncd'\n",
      "s = iris.load_cube(url,'sea_water_salinity')"
     ],
     "language": "python",
     "metadata": {},
     "outputs": [
      {
       "output_type": "stream",
       "stream": "stderr",
       "text": [
        "/home/local/python27_epd/lib/python2.7/site-packages/iris/fileformats/_pyke_rules/compiled_krb/fc_rules_cf_fc.py:1216: UserWarning: Gracefully filling 'time' dimension coordinate masked points\n",
        "  warnings.warn(msg.format(str(cf_coord_var.cf_name)))\n"
       ]
      }
     ],
     "prompt_number": 2
    },
    {
     "cell_type": "code",
     "collapsed": false,
     "input": [
      "print s"
     ],
     "language": "python",
     "metadata": {},
     "outputs": [
      {
       "output_type": "stream",
       "stream": "stdout",
       "text": [
        "sea_water_salinity / (unknown)      (time: 347; S-coordinate at RHO-points: 36; -- : 82; -- : 130)\n",
        "     Dimension coordinates:\n",
        "          time                           x                                -        -        -\n",
        "          S-coordinate at RHO-points     -                                x        -        -\n",
        "     Auxiliary coordinates:\n",
        "          forecast_reference_time        x                                -        -        -\n",
        "          latitude                       -                                -        x        x\n",
        "          longitude                      -                                -        x        x\n",
        "     Attributes:\n",
        "          CPP_options: MyCPP, ADD_FSOBC, ADD_M2OBC, ANA_BSFLUX, ANA_BTFLUX, ASSUMED_SHAPE, AVERAGES,...\n",
        "          Conventions: CF-1.4, _Coordinates\n",
        "          DODS_EXTRA.Unlimited_Dimension: ocean_time\n",
        "          _ChunkSize: [  1  36  82 130]\n",
        "          _CoordSysBuilder: ucar.nc2.dataset.conv.CF1Convention\n",
        "          ana_file: ROMS/Functionals/ana_btflux.h, /home/julia/ROMS/espresso/RealTime/Comp...\n",
        "          avg_base: espresso_avg_3015\n",
        "          bry_file: ../Data/espresso_bdry_new.nc\n",
        "          cdm_data_type: GRID\n",
        "          clm_file: ../Data/espresso_clm_new.nc\n",
        "          code_dir: /home/julia/ROMS/espresso/svn1409\n",
        "          compiler_command: /opt/pgisoft/openmpi/bin/mpif90\n",
        "          compiler_flags:  -O3 -Mfree\n",
        "          compiler_system: pgi\n",
        "          cpu: x86_64\n",
        "          featureType: GRID\n",
        "          field: salinity, scalar, series\n",
        "          file: espresso_avg_3015_0003.nc\n",
        "          flt_file: espresso_flt_3015.nc\n",
        "          format: netCDF-4/HDF5 file\n",
        "          fpos_file: /home/om/roms/espresso/Data/espresso_floats_glider.in\n",
        "          frc_file_01: /home/om/roms/espresso/Data/espresso_tide_c05_20060101.nc\n",
        "          frc_file_02: ../Data/espresso_river_20030101_now.nc\n",
        "          frc_file_03: ../Data/rain_ncepnam_3hourly_MAB_and_GoM.nc\n",
        "          frc_file_04: ../Data/swrad_ncepnam_3hourly_MAB_and_GoM.nc\n",
        "          frc_file_05: ../Data/Tair_ncepnam_3hourly_MAB_and_GoM.nc\n",
        "          frc_file_06: ../Data/Pair_ncepnam_3hourly_MAB_and_GoM.nc\n",
        "          frc_file_07: ../Data/Qair_ncepnam_3hourly_MAB_and_GoM.nc\n",
        "          frc_file_08: ../Data/lwrad_down_ncepnam_3hourly_MAB_and_GoM.nc\n",
        "          frc_file_09: ../Data/Uwind_ncepnam_3hourly_MAB_and_GoM.nc\n",
        "          frc_file_10: ../Data/Vwind_ncepnam_3hourly_MAB_and_GoM.nc\n",
        "          grd_file: /home/om/roms/espresso/Data/espresso_grid_c05.nc\n",
        "          header_dir: /home/julia/ROMS/espresso/RealTime/Compile/fwd\n",
        "          header_file: espresso.h\n",
        "          his_base: espresso_his_3015\n",
        "          history: ROMS/TOMS, Version 3.5, Monday - April 7, 2014 -  6:22:34 AM ;\n",
        "FMRC Best...\n",
        "          ini_file: /home/julia/ROMS/espresso/RealTime/Storage/run04/espresso_ini_3015.nc\n",
        "          location: Proto fmrc:espresso_2013_da_avg_best\n",
        "          os: Linux\n",
        "          rst_file: espresso_rst_3015.nc\n",
        "          script_file: nl_ocean_espresso.in\n",
        "          summary: Operational nowcast/forecast system version 2 for MARACOOS project (http://maracoos.org)....\n",
        "          svn_rev: exported\n",
        "          svn_url: https://www.myroms.org/svn/src/trunk\n",
        "          tiling: 004x002\n",
        "          time: ocean_time\n",
        "          title: ROMS ESPRESSO Real-Time Operational IS4DVAR Forecast System Version 2 (NEW)...\n",
        "          type: ROMS/TOMS nonlinear model averages file\n"
       ]
      }
     ],
     "prompt_number": 3
    },
    {
     "cell_type": "code",
     "collapsed": false,
     "input": [],
     "language": "python",
     "metadata": {},
     "outputs": []
    }
   ],
   "metadata": {}
  }
 ]
}